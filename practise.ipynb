{
  "nbformat": 4,
  "nbformat_minor": 0,
  "metadata": {
    "colab": {
      "provenance": [],
      "authorship_tag": "ABX9TyMCQwNmd4emBjefO5Q5SDGt",
      "include_colab_link": true
    },
    "kernelspec": {
      "name": "python3",
      "display_name": "Python 3"
    },
    "language_info": {
      "name": "python"
    }
  },
  "cells": [
    {
      "cell_type": "markdown",
      "metadata": {
        "id": "view-in-github",
        "colab_type": "text"
      },
      "source": [
        "<a href=\"https://colab.research.google.com/github/Sedhuraman99/python-basics-practise/blob/main/practise.ipynb\" target=\"_parent\"><img src=\"https://colab.research.google.com/assets/colab-badge.svg\" alt=\"Open In Colab\"/></a>"
      ]
    },
    {
      "cell_type": "markdown",
      "source": [
        "python was developed by guido van rossum in 1989 at NRI(national research institute) netherlands .python officially introduced in 1991 .the name python is derived from the monty python circus program in bbc channel .it is a high level general purpose language . python is a interpreter language . interpreter means word by word translater. python is developed from c and abc .python supports number 0f paradigms including procedure oriented language,functional language,object oriented language,scripting language,modular programming"
      ],
      "metadata": {
        "id": "osXKs4R8OAE3"
      }
    },
    {
      "cell_type": "markdown",
      "source": [
        "Features of python\n",
        "1. simple and easy\n",
        "2.free,open source\n",
        "3.high level programming language\n",
        "4.object oriented programming and procedure oriented programming\n",
        "5.platform independent\n",
        "6.portabilty\n",
        "7.dynamically typed ,robust\n",
        "8.interpreted language\n",
        "9.embedded language\n",
        "10.extensible language\n",
        "\n",
        "\n"
      ],
      "metadata": {
        "id": "SffiidEdVols"
      }
    },
    {
      "cell_type": "markdown",
      "source": [
        "Advantage of python\n",
        "\n",
        "1. python is used in machine learning \n",
        "2.web framework like flask,django"
      ],
      "metadata": {
        "id": "opavxwaQYmGw"
      }
    },
    {
      "cell_type": "markdown",
      "source": [
        "Disadvantage of python\n",
        "\n",
        "1. it cant create mobile app"
      ],
      "metadata": {
        "id": "4QSXqzraaKpa"
      }
    },
    {
      "cell_type": "code",
      "source": [
        "5+5"
      ],
      "metadata": {
        "colab": {
          "base_uri": "https://localhost:8080/"
        },
        "id": "wiofA2CBPo2v",
        "outputId": "3445956a-c298-478b-fa65-1ca848eef082"
      },
      "execution_count": 7,
      "outputs": [
        {
          "output_type": "execute_result",
          "data": {
            "text/plain": [
              "10"
            ]
          },
          "metadata": {},
          "execution_count": 7
        }
      ]
    },
    {
      "cell_type": "code",
      "source": [
        "5-5"
      ],
      "metadata": {
        "colab": {
          "base_uri": "https://localhost:8080/"
        },
        "id": "9ksqKSaae48b",
        "outputId": "904f1ca1-23da-486f-8019-04686f65e0e9"
      },
      "execution_count": 8,
      "outputs": [
        {
          "output_type": "execute_result",
          "data": {
            "text/plain": [
              "0"
            ]
          },
          "metadata": {},
          "execution_count": 8
        }
      ]
    },
    {
      "cell_type": "code",
      "source": [
        "5*5"
      ],
      "metadata": {
        "colab": {
          "base_uri": "https://localhost:8080/"
        },
        "id": "2m1U40Gje7PY",
        "outputId": "90c573f4-2c47-4196-f35a-c29e508d0403"
      },
      "execution_count": 9,
      "outputs": [
        {
          "output_type": "execute_result",
          "data": {
            "text/plain": [
              "25"
            ]
          },
          "metadata": {},
          "execution_count": 9
        }
      ]
    },
    {
      "cell_type": "code",
      "source": [
        "5*(10+2)"
      ],
      "metadata": {
        "colab": {
          "base_uri": "https://localhost:8080/"
        },
        "id": "s6Zslkwee8jb",
        "outputId": "481528de-8a56-4d42-8fd5-27158b9e8c50"
      },
      "execution_count": 10,
      "outputs": [
        {
          "output_type": "execute_result",
          "data": {
            "text/plain": [
              "60"
            ]
          },
          "metadata": {},
          "execution_count": 10
        }
      ]
    },
    {
      "cell_type": "code",
      "source": [
        "80/4"
      ],
      "metadata": {
        "colab": {
          "base_uri": "https://localhost:8080/"
        },
        "id": "6DT8fztrfBY4",
        "outputId": "dd164112-3bfb-42f4-edff-43929fc89429"
      },
      "execution_count": 11,
      "outputs": [
        {
          "output_type": "execute_result",
          "data": {
            "text/plain": [
              "20.0"
            ]
          },
          "metadata": {},
          "execution_count": 11
        }
      ]
    },
    {
      "cell_type": "code",
      "source": [
        "80//4"
      ],
      "metadata": {
        "colab": {
          "base_uri": "https://localhost:8080/"
        },
        "id": "GQohjphHfEkc",
        "outputId": "89cf57c8-5bef-4f1e-f4e7-05c549ffe961"
      },
      "execution_count": 12,
      "outputs": [
        {
          "output_type": "execute_result",
          "data": {
            "text/plain": [
              "20"
            ]
          },
          "metadata": {},
          "execution_count": 12
        }
      ]
    },
    {
      "cell_type": "code",
      "source": [
        "2*3"
      ],
      "metadata": {
        "colab": {
          "base_uri": "https://localhost:8080/"
        },
        "id": "ZYCwcD-afNgG",
        "outputId": "19658ed9-fd49-4610-8e3f-eb593941b94a"
      },
      "execution_count": 13,
      "outputs": [
        {
          "output_type": "execute_result",
          "data": {
            "text/plain": [
              "6"
            ]
          },
          "metadata": {},
          "execution_count": 13
        }
      ]
    },
    {
      "cell_type": "code",
      "source": [
        "2**3"
      ],
      "metadata": {
        "colab": {
          "base_uri": "https://localhost:8080/"
        },
        "id": "AeugfZqEfQnU",
        "outputId": "9886a7bc-5799-4929-d008-07e36918a1bf"
      },
      "execution_count": 14,
      "outputs": [
        {
          "output_type": "execute_result",
          "data": {
            "text/plain": [
              "8"
            ]
          },
          "metadata": {},
          "execution_count": 14
        }
      ]
    },
    {
      "cell_type": "code",
      "source": [
        "8/4"
      ],
      "metadata": {
        "colab": {
          "base_uri": "https://localhost:8080/"
        },
        "id": "y5yBigjSfXvB",
        "outputId": "c098693b-cbce-4df7-9cb4-6470bee03964"
      },
      "execution_count": 15,
      "outputs": [
        {
          "output_type": "execute_result",
          "data": {
            "text/plain": [
              "2.0"
            ]
          },
          "metadata": {},
          "execution_count": 15
        }
      ]
    },
    {
      "cell_type": "code",
      "source": [
        "8%4"
      ],
      "metadata": {
        "colab": {
          "base_uri": "https://localhost:8080/"
        },
        "id": "hHxQnPmDfR2X",
        "outputId": "aa3ec82c-e9ee-45c1-b6d3-14cdb8469bb6"
      },
      "execution_count": 16,
      "outputs": [
        {
          "output_type": "execute_result",
          "data": {
            "text/plain": [
              "0"
            ]
          },
          "metadata": {},
          "execution_count": 16
        }
      ]
    },
    {
      "cell_type": "code",
      "source": [
        "width = 20\n",
        "height = 10+20\n",
        "height * width"
      ],
      "metadata": {
        "colab": {
          "base_uri": "https://localhost:8080/"
        },
        "id": "SSrBYbc4fhoG",
        "outputId": "1ff4261c-5ae8-4828-a844-9b9bf63d28c9"
      },
      "execution_count": 17,
      "outputs": [
        {
          "output_type": "execute_result",
          "data": {
            "text/plain": [
              "600"
            ]
          },
          "metadata": {},
          "execution_count": 17
        }
      ]
    },
    {
      "cell_type": "code",
      "source": [
        "tamil,english,maths = 70,80,75\n",
        "print(tamil+english+maths)"
      ],
      "metadata": {
        "colab": {
          "base_uri": "https://localhost:8080/"
        },
        "id": "xHy13oevgC8j",
        "outputId": "291e94a8-765f-4954-ec8c-38e14afba761"
      },
      "execution_count": 18,
      "outputs": [
        {
          "output_type": "stream",
          "name": "stdout",
          "text": [
            "225\n"
          ]
        }
      ]
    },
    {
      "cell_type": "code",
      "source": [
        "salary = 500000\n",
        "tax = salary*(10/100)\n",
        "tax"
      ],
      "metadata": {
        "colab": {
          "base_uri": "https://localhost:8080/"
        },
        "id": "jN5OnGO9hY9q",
        "outputId": "6186d87a-e38e-4e20-d644-86fcea449ee8"
      },
      "execution_count": 19,
      "outputs": [
        {
          "output_type": "execute_result",
          "data": {
            "text/plain": [
              "50000.0"
            ]
          },
          "metadata": {},
          "execution_count": 19
        }
      ]
    },
    {
      "cell_type": "code",
      "source": [
        "#underscore will take last value\n",
        "tax + _"
      ],
      "metadata": {
        "colab": {
          "base_uri": "https://localhost:8080/"
        },
        "id": "5nq24jyCitnz",
        "outputId": "b6e06c65-feca-4894-9a87-740fdb4d5f9d"
      },
      "execution_count": 20,
      "outputs": [
        {
          "output_type": "execute_result",
          "data": {
            "text/plain": [
              "100000.0"
            ]
          },
          "metadata": {},
          "execution_count": 20
        }
      ]
    },
    {
      "cell_type": "code",
      "source": [
        "int(tax)"
      ],
      "metadata": {
        "colab": {
          "base_uri": "https://localhost:8080/"
        },
        "id": "A4NmDKH_jWJ9",
        "outputId": "a7321d6b-4232-42c4-d9f1-7abe7a088747"
      },
      "execution_count": 21,
      "outputs": [
        {
          "output_type": "execute_result",
          "data": {
            "text/plain": [
              "50000"
            ]
          },
          "metadata": {},
          "execution_count": 21
        }
      ]
    },
    {
      "cell_type": "code",
      "source": [
        "product_rate = 121.99\n",
        "quantity = 4.5\n",
        "t = product_rate * quantity\n",
        "t"
      ],
      "metadata": {
        "colab": {
          "base_uri": "https://localhost:8080/"
        },
        "id": "H-_dkJ1ukJPd",
        "outputId": "f1bb90a6-5df5-42c7-daa3-2d1a1aa5c9e4"
      },
      "execution_count": 22,
      "outputs": [
        {
          "output_type": "execute_result",
          "data": {
            "text/plain": [
              "548.9549999999999"
            ]
          },
          "metadata": {},
          "execution_count": 22
        }
      ]
    },
    {
      "cell_type": "code",
      "source": [
        "print(round(_,2))"
      ],
      "metadata": {
        "colab": {
          "base_uri": "https://localhost:8080/"
        },
        "id": "-5Qt3qJ8kcMv",
        "outputId": "4b1621a5-ce7b-496a-a296-1102a60f8f13"
      },
      "execution_count": 23,
      "outputs": [
        {
          "output_type": "stream",
          "name": "stdout",
          "text": [
            "548.95\n"
          ]
        }
      ]
    },
    {
      "cell_type": "code",
      "source": [
        "print(round(t))"
      ],
      "metadata": {
        "colab": {
          "base_uri": "https://localhost:8080/"
        },
        "id": "n6vkwXSbkj6F",
        "outputId": "cf2b1b0f-c1fb-4ade-8cce-bb6bd4374662"
      },
      "execution_count": 24,
      "outputs": [
        {
          "output_type": "stream",
          "name": "stdout",
          "text": [
            "549\n"
          ]
        }
      ]
    },
    {
      "cell_type": "code",
      "source": [
        "print(round(t,3))"
      ],
      "metadata": {
        "colab": {
          "base_uri": "https://localhost:8080/"
        },
        "id": "C890blwkk2Uo",
        "outputId": "b5ff4ec3-728f-410a-861a-c4c48d85b6f4"
      },
      "execution_count": 25,
      "outputs": [
        {
          "output_type": "stream",
          "name": "stdout",
          "text": [
            "548.955\n"
          ]
        }
      ]
    },
    {
      "cell_type": "code",
      "source": [
        "# python keywords\n",
        "#True,False,None,and,or,not,is,in,if,elif,else,while,for,break,pass,continue,yield,try,except,raise,assert,import,from,as,class,return,def,global,nonlocal,lambda,del,with,async,await,finally"
      ],
      "metadata": {
        "id": "V8j6Zcp-k6He"
      },
      "execution_count": null,
      "outputs": []
    },
    {
      "cell_type": "code",
      "source": [
        "import keyword\n",
        "keyword.kwlist"
      ],
      "metadata": {
        "colab": {
          "base_uri": "https://localhost:8080/"
        },
        "id": "aiGODjx8rM13",
        "outputId": "44cd7cff-41c8-408c-b62c-d3a5f2384c5d"
      },
      "execution_count": null,
      "outputs": [
        {
          "output_type": "execute_result",
          "data": {
            "text/plain": [
              "['False',\n",
              " 'None',\n",
              " 'True',\n",
              " 'and',\n",
              " 'as',\n",
              " 'assert',\n",
              " 'async',\n",
              " 'await',\n",
              " 'break',\n",
              " 'class',\n",
              " 'continue',\n",
              " 'def',\n",
              " 'del',\n",
              " 'elif',\n",
              " 'else',\n",
              " 'except',\n",
              " 'finally',\n",
              " 'for',\n",
              " 'from',\n",
              " 'global',\n",
              " 'if',\n",
              " 'import',\n",
              " 'in',\n",
              " 'is',\n",
              " 'lambda',\n",
              " 'nonlocal',\n",
              " 'not',\n",
              " 'or',\n",
              " 'pass',\n",
              " 'raise',\n",
              " 'return',\n",
              " 'try',\n",
              " 'while',\n",
              " 'with',\n",
              " 'yield']"
            ]
          },
          "metadata": {},
          "execution_count": 20
        }
      ]
    },
    {
      "cell_type": "code",
      "source": [
        "mark = 100\n",
        "type(mark)"
      ],
      "metadata": {
        "colab": {
          "base_uri": "https://localhost:8080/"
        },
        "id": "9zIoD6Pysvs9",
        "outputId": "53795e6f-c19d-4473-d3e7-bfa2500aa2da"
      },
      "execution_count": 26,
      "outputs": [
        {
          "output_type": "execute_result",
          "data": {
            "text/plain": [
              "int"
            ]
          },
          "metadata": {},
          "execution_count": 26
        }
      ]
    },
    {
      "cell_type": "code",
      "source": [
        "mark = 100.0\n",
        "type(mark)"
      ],
      "metadata": {
        "colab": {
          "base_uri": "https://localhost:8080/"
        },
        "id": "HQmDkdwvvcnZ",
        "outputId": "7da5d0c8-f79e-479b-bb5f-40297acdd66b"
      },
      "execution_count": 27,
      "outputs": [
        {
          "output_type": "execute_result",
          "data": {
            "text/plain": [
              "float"
            ]
          },
          "metadata": {},
          "execution_count": 27
        }
      ]
    },
    {
      "cell_type": "code",
      "source": [
        "indian = True\n",
        "type(indian)"
      ],
      "metadata": {
        "colab": {
          "base_uri": "https://localhost:8080/"
        },
        "id": "0PMXUNlLvgn-",
        "outputId": "a39f117b-237a-4e9c-e577-07a6a20969cb"
      },
      "execution_count": 28,
      "outputs": [
        {
          "output_type": "execute_result",
          "data": {
            "text/plain": [
              "bool"
            ]
          },
          "metadata": {},
          "execution_count": 28
        }
      ]
    },
    {
      "cell_type": "code",
      "source": [
        "#datatypes in python\n",
        "#int,float,complex,bool,str,list,tuple,set,frozenset,dict,bytes,bytearray,range,None"
      ],
      "metadata": {
        "id": "NtSdGR4xv4Us"
      },
      "execution_count": null,
      "outputs": []
    },
    {
      "cell_type": "code",
      "source": [
        "#binary to decimal\n",
        "value = 0b1111\n",
        "print(value)"
      ],
      "metadata": {
        "colab": {
          "base_uri": "https://localhost:8080/"
        },
        "id": "pvhnlqYnpUgn",
        "outputId": "71aafe90-e6f8-4f7c-ea72-4b67e7973398"
      },
      "execution_count": 29,
      "outputs": [
        {
          "output_type": "stream",
          "name": "stdout",
          "text": [
            "15\n"
          ]
        }
      ]
    },
    {
      "cell_type": "code",
      "source": [
        "#octa to decimal\n",
        "value = 0o12345\n",
        "value"
      ],
      "metadata": {
        "colab": {
          "base_uri": "https://localhost:8080/"
        },
        "id": "XkXRuLD5pccO",
        "outputId": "a4447e43-74fa-4ddb-f4bb-15ee89917952"
      },
      "execution_count": 30,
      "outputs": [
        {
          "output_type": "execute_result",
          "data": {
            "text/plain": [
              "5349"
            ]
          },
          "metadata": {},
          "execution_count": 30
        }
      ]
    },
    {
      "cell_type": "code",
      "source": [
        "#hexa to decimal\n",
        "value = 0x1234\n",
        "value"
      ],
      "metadata": {
        "colab": {
          "base_uri": "https://localhost:8080/"
        },
        "id": "2E49SdrNpw_C",
        "outputId": "f9a64255-0452-4e3e-dd85-a6535c92e2f7"
      },
      "execution_count": 31,
      "outputs": [
        {
          "output_type": "execute_result",
          "data": {
            "text/plain": [
              "4660"
            ]
          },
          "metadata": {},
          "execution_count": 31
        }
      ]
    },
    {
      "cell_type": "code",
      "source": [
        "#hexa to decimal\n",
        "value = 0x1abc\n",
        "value"
      ],
      "metadata": {
        "colab": {
          "base_uri": "https://localhost:8080/"
        },
        "id": "fbRiVh55qPSP",
        "outputId": "d9be30b4-cae1-4b2e-cd1a-995bc17460e2"
      },
      "execution_count": 32,
      "outputs": [
        {
          "output_type": "execute_result",
          "data": {
            "text/plain": [
              "6844"
            ]
          },
          "metadata": {},
          "execution_count": 32
        }
      ]
    },
    {
      "cell_type": "markdown",
      "source": [
        "decimal to others"
      ],
      "metadata": {
        "id": "Xz0G7aOxr4XL"
      }
    },
    {
      "cell_type": "code",
      "source": [
        "print(bin(10))"
      ],
      "metadata": {
        "colab": {
          "base_uri": "https://localhost:8080/"
        },
        "id": "wKuGNiJsqb2h",
        "outputId": "1cfb097a-ee67-437f-cfcb-64e449f8f5ab"
      },
      "execution_count": 33,
      "outputs": [
        {
          "output_type": "stream",
          "name": "stdout",
          "text": [
            "0b1010\n"
          ]
        }
      ]
    },
    {
      "cell_type": "code",
      "source": [
        "print(oct(10))"
      ],
      "metadata": {
        "colab": {
          "base_uri": "https://localhost:8080/"
        },
        "id": "de6Th_Urrvzd",
        "outputId": "a63cf885-ee38-4a67-a1a4-4cabc9102907"
      },
      "execution_count": 34,
      "outputs": [
        {
          "output_type": "stream",
          "name": "stdout",
          "text": [
            "0o12\n"
          ]
        }
      ]
    },
    {
      "cell_type": "code",
      "source": [
        "print(hex(10))"
      ],
      "metadata": {
        "colab": {
          "base_uri": "https://localhost:8080/"
        },
        "id": "bHDspnS5ryWs",
        "outputId": "f1386e66-3bdd-4cf1-cd2f-34a7eb839cdd"
      },
      "execution_count": 35,
      "outputs": [
        {
          "output_type": "stream",
          "name": "stdout",
          "text": [
            "0xa\n"
          ]
        }
      ]
    },
    {
      "cell_type": "code",
      "source": [
        "#e3 = 10**3\n",
        "num = 5.6e3\n",
        "num"
      ],
      "metadata": {
        "colab": {
          "base_uri": "https://localhost:8080/"
        },
        "id": "SfbT15Blr3Lc",
        "outputId": "ef3e92de-c506-471f-98b5-c1a9ccf1d3c9"
      },
      "execution_count": 36,
      "outputs": [
        {
          "output_type": "execute_result",
          "data": {
            "text/plain": [
              "5600.0"
            ]
          },
          "metadata": {},
          "execution_count": 36
        }
      ]
    },
    {
      "cell_type": "code",
      "source": [
        "num = 5.6e5\n",
        "num"
      ],
      "metadata": {
        "colab": {
          "base_uri": "https://localhost:8080/"
        },
        "id": "BApxSPx0K5EJ",
        "outputId": "ed4ef7ee-87e3-4f10-e3a8-b122f415784a"
      },
      "execution_count": 37,
      "outputs": [
        {
          "output_type": "execute_result",
          "data": {
            "text/plain": [
              "560000.0"
            ]
          },
          "metadata": {},
          "execution_count": 37
        }
      ]
    },
    {
      "cell_type": "code",
      "source": [
        "#complex datatype will end with j\n",
        "p = 5+6j"
      ],
      "metadata": {
        "id": "z9pHpZv2tCRr"
      },
      "execution_count": 38,
      "outputs": []
    },
    {
      "cell_type": "code",
      "source": [
        "print(p.real)"
      ],
      "metadata": {
        "colab": {
          "base_uri": "https://localhost:8080/"
        },
        "id": "3MYEYEevtMWF",
        "outputId": "fc319963-0793-478b-e374-ff3993505c00"
      },
      "execution_count": 39,
      "outputs": [
        {
          "output_type": "stream",
          "name": "stdout",
          "text": [
            "5.0\n"
          ]
        }
      ]
    },
    {
      "cell_type": "code",
      "source": [
        "print(p.imag)"
      ],
      "metadata": {
        "colab": {
          "base_uri": "https://localhost:8080/"
        },
        "id": "4YFXJKlet3hd",
        "outputId": "ceb9cfea-c05b-4035-9117-352cb6377bcb"
      },
      "execution_count": 40,
      "outputs": [
        {
          "output_type": "stream",
          "name": "stdout",
          "text": [
            "6.0\n"
          ]
        }
      ]
    },
    {
      "cell_type": "code",
      "source": [
        "bool"
      ],
      "metadata": {
        "colab": {
          "base_uri": "https://localhost:8080/"
        },
        "id": "frpK0MOZuFnG",
        "outputId": "7cea6334-5162-4ac9-df4d-c628197d10b2"
      },
      "execution_count": 41,
      "outputs": [
        {
          "output_type": "execute_result",
          "data": {
            "text/plain": [
              "bool"
            ]
          },
          "metadata": {},
          "execution_count": 41
        }
      ]
    },
    {
      "cell_type": "code",
      "source": [
        "mark1 = 90\n",
        "mark2 = 80\n",
        "print(mark1==mark2)"
      ],
      "metadata": {
        "colab": {
          "base_uri": "https://localhost:8080/"
        },
        "id": "tuSy9qzGuolm",
        "outputId": "4bf651f6-13d7-4368-f474-5516913a44cb"
      },
      "execution_count": 42,
      "outputs": [
        {
          "output_type": "stream",
          "name": "stdout",
          "text": [
            "False\n"
          ]
        }
      ]
    },
    {
      "cell_type": "code",
      "source": [
        "print(True+True)"
      ],
      "metadata": {
        "colab": {
          "base_uri": "https://localhost:8080/"
        },
        "id": "O8SnDSrxu60r",
        "outputId": "e822f2ba-64e0-4294-c76f-6786bdff8adf"
      },
      "execution_count": null,
      "outputs": [
        {
          "output_type": "stream",
          "name": "stdout",
          "text": [
            "2\n"
          ]
        }
      ]
    },
    {
      "cell_type": "code",
      "source": [
        "print(False+False)"
      ],
      "metadata": {
        "colab": {
          "base_uri": "https://localhost:8080/"
        },
        "id": "7IoIJAxpvZJy",
        "outputId": "dd4476cd-4d64-4e5e-8082-526e97b8088c"
      },
      "execution_count": null,
      "outputs": [
        {
          "output_type": "stream",
          "name": "stdout",
          "text": [
            "0\n"
          ]
        }
      ]
    },
    {
      "cell_type": "code",
      "source": [
        "print(False+True)"
      ],
      "metadata": {
        "colab": {
          "base_uri": "https://localhost:8080/"
        },
        "id": "6vOHEsaIvjOY",
        "outputId": "fbda307c-f7d8-4e2b-99ed-fc0c0a885dbb"
      },
      "execution_count": null,
      "outputs": [
        {
          "output_type": "stream",
          "name": "stdout",
          "text": [
            "1\n"
          ]
        }
      ]
    },
    {
      "cell_type": "code",
      "source": [
        "print(False+True)"
      ],
      "metadata": {
        "colab": {
          "base_uri": "https://localhost:8080/"
        },
        "id": "_FhfXCr3vnOc",
        "outputId": "35d61535-0a91-4171-dcd0-ca918e330744"
      },
      "execution_count": null,
      "outputs": [
        {
          "output_type": "stream",
          "name": "stdout",
          "text": [
            "1\n"
          ]
        }
      ]
    },
    {
      "cell_type": "code",
      "source": [
        "print('sedhu')"
      ],
      "metadata": {
        "colab": {
          "base_uri": "https://localhost:8080/"
        },
        "id": "58JVtm6vvpln",
        "outputId": "a5609017-cb06-4405-8aa4-48e38f62671c"
      },
      "execution_count": null,
      "outputs": [
        {
          "output_type": "stream",
          "name": "stdout",
          "text": [
            "sedhu\n"
          ]
        }
      ]
    },
    {
      "cell_type": "code",
      "source": [
        "name = 'sedhu'\n",
        "name"
      ],
      "metadata": {
        "colab": {
          "base_uri": "https://localhost:8080/",
          "height": 36
        },
        "id": "SH1JCBN_vuTz",
        "outputId": "2929c8e3-83af-4ad9-afcd-bda22b1619d9"
      },
      "execution_count": null,
      "outputs": [
        {
          "output_type": "execute_result",
          "data": {
            "text/plain": [
              "'sedhu'"
            ],
            "application/vnd.google.colaboratory.intrinsic+json": {
              "type": "string"
            }
          },
          "metadata": {},
          "execution_count": 43
        }
      ]
    },
    {
      "cell_type": "code",
      "source": [
        "address = '''spkovil \n",
        "saisri\n",
        "varinagar'''\n",
        "address"
      ],
      "metadata": {
        "colab": {
          "base_uri": "https://localhost:8080/",
          "height": 36
        },
        "id": "ARW_fhbdw6uR",
        "outputId": "1270f984-62e9-4605-d173-0e8d83f0da91"
      },
      "execution_count": null,
      "outputs": [
        {
          "output_type": "execute_result",
          "data": {
            "text/plain": [
              "'spkovil \\nsaisri\\nvarinagar'"
            ],
            "application/vnd.google.colaboratory.intrinsic+json": {
              "type": "string"
            }
          },
          "metadata": {},
          "execution_count": 44
        }
      ]
    },
    {
      "cell_type": "code",
      "source": [
        "address = '''spkovil \n",
        "saisri\n",
        "varinagar'''\n",
        "print(address)"
      ],
      "metadata": {
        "colab": {
          "base_uri": "https://localhost:8080/"
        },
        "id": "qLuMLGp4xd4h",
        "outputId": "6b40379c-e422-4705-9fb0-e71226dd2d3c"
      },
      "execution_count": null,
      "outputs": [
        {
          "output_type": "stream",
          "name": "stdout",
          "text": [
            "spkovil \n",
            "saisri\n",
            "varinagar\n"
          ]
        }
      ]
    },
    {
      "cell_type": "code",
      "source": [
        "sent = 'sedhu.\\nspkovil\\ntamilnadu'\n",
        "print(sent)"
      ],
      "metadata": {
        "id": "PNCoCE3pQU6x"
      },
      "execution_count": null,
      "outputs": []
    },
    {
      "cell_type": "code",
      "source": [
        "sent = \"sedhu doing 'python'\"\n",
        "print(sent)"
      ],
      "metadata": {
        "colab": {
          "base_uri": "https://localhost:8080/"
        },
        "id": "zAWIX2a1xmls",
        "outputId": "126fff04-d5c9-49f3-c012-1b12055f74f2"
      },
      "execution_count": null,
      "outputs": [
        {
          "output_type": "stream",
          "name": "stdout",
          "text": [
            "sedhu doing 'python'\n"
          ]
        }
      ]
    },
    {
      "cell_type": "code",
      "source": [
        "sent = ''''sedhu' doing \"python\"'''\n",
        "print(sent)"
      ],
      "metadata": {
        "colab": {
          "base_uri": "https://localhost:8080/"
        },
        "id": "ScbcopPJxwTv",
        "outputId": "15558ba9-1c74-4984-8c92-fc10f9df9159"
      },
      "execution_count": null,
      "outputs": [
        {
          "output_type": "stream",
          "name": "stdout",
          "text": [
            "'sedhu' doing \"python\"\n"
          ]
        }
      ]
    },
    {
      "cell_type": "code",
      "source": [
        "#upload file\n",
        "sent = r'sedhu.\\nspkovil\\ntamilnadu'\n",
        "print(sent)"
      ],
      "metadata": {
        "colab": {
          "base_uri": "https://localhost:8080/"
        },
        "id": "jJOKdSC217GW",
        "outputId": "1da5b2fa-b9e4-48b2-c193-c1e06d3f394e"
      },
      "execution_count": null,
      "outputs": [
        {
          "output_type": "stream",
          "name": "stdout",
          "text": [
            "sedhu.\\nspkovil\\ntamilnadu\n"
          ]
        }
      ]
    },
    {
      "cell_type": "code",
      "source": [
        "sent = 'sedhu\\tspkovil\\ttamilnadu'\n",
        "print(sent)"
      ],
      "metadata": {
        "colab": {
          "base_uri": "https://localhost:8080/"
        },
        "id": "x2whWfNx7FZu",
        "outputId": "4b67da4b-f896-4621-ed5a-de28078a218d"
      },
      "execution_count": null,
      "outputs": [
        {
          "output_type": "stream",
          "name": "stdout",
          "text": [
            "sedhu\tspkovil\ttamilnadu\n"
          ]
        }
      ]
    },
    {
      "cell_type": "code",
      "source": [
        "name = 'sedhu'\n",
        "name.upper()"
      ],
      "metadata": {
        "colab": {
          "base_uri": "https://localhost:8080/",
          "height": 36
        },
        "id": "d9NVg35F2sag",
        "outputId": "49156b76-b097-4f55-953e-7e29a3f4c25d"
      },
      "execution_count": null,
      "outputs": [
        {
          "output_type": "execute_result",
          "data": {
            "text/plain": [
              "'SEDHU'"
            ],
            "application/vnd.google.colaboratory.intrinsic+json": {
              "type": "string"
            }
          },
          "metadata": {},
          "execution_count": 51
        }
      ]
    },
    {
      "cell_type": "code",
      "source": [
        "name = 'SEDhu'\n",
        "name.lower()"
      ],
      "metadata": {
        "colab": {
          "base_uri": "https://localhost:8080/",
          "height": 36
        },
        "id": "6PHhODmJ2_PN",
        "outputId": "eccdba34-c1be-4de9-d558-69af37bc38e0"
      },
      "execution_count": null,
      "outputs": [
        {
          "output_type": "execute_result",
          "data": {
            "text/plain": [
              "'sedhu'"
            ],
            "application/vnd.google.colaboratory.intrinsic+json": {
              "type": "string"
            }
          },
          "metadata": {},
          "execution_count": 52
        }
      ]
    },
    {
      "cell_type": "code",
      "source": [
        "sent = 'sedhu reading book'\n",
        "sent.title()"
      ],
      "metadata": {
        "colab": {
          "base_uri": "https://localhost:8080/",
          "height": 36
        },
        "id": "wDwk5AVD3E6C",
        "outputId": "88e6da8d-cf4c-46cc-d275-bc09add2d1ad"
      },
      "execution_count": null,
      "outputs": [
        {
          "output_type": "execute_result",
          "data": {
            "text/plain": [
              "'Sedhu Reading Book'"
            ],
            "application/vnd.google.colaboratory.intrinsic+json": {
              "type": "string"
            }
          },
          "metadata": {},
          "execution_count": 53
        }
      ]
    },
    {
      "cell_type": "code",
      "source": [
        "print(sent[0])"
      ],
      "metadata": {
        "colab": {
          "base_uri": "https://localhost:8080/"
        },
        "id": "zS5AOkba3Rk6",
        "outputId": "8d590bcd-9f26-4fa3-fad0-eb38ac48b40a"
      },
      "execution_count": null,
      "outputs": [
        {
          "output_type": "stream",
          "name": "stdout",
          "text": [
            "s\n"
          ]
        }
      ]
    },
    {
      "cell_type": "code",
      "source": [
        "sent[0]"
      ],
      "metadata": {
        "colab": {
          "base_uri": "https://localhost:8080/",
          "height": 36
        },
        "id": "ABYZE5GJ4UOh",
        "outputId": "e7504b9c-b235-4daf-deb9-42f246ce77aa"
      },
      "execution_count": null,
      "outputs": [
        {
          "output_type": "execute_result",
          "data": {
            "text/plain": [
              "'s'"
            ],
            "application/vnd.google.colaboratory.intrinsic+json": {
              "type": "string"
            }
          },
          "metadata": {},
          "execution_count": 55
        }
      ]
    },
    {
      "cell_type": "code",
      "source": [
        "sent[-2]"
      ],
      "metadata": {
        "colab": {
          "base_uri": "https://localhost:8080/",
          "height": 36
        },
        "id": "omKkabR94WxV",
        "outputId": "2e5d6a1f-1b8d-4355-fd89-2f1a710b520d"
      },
      "execution_count": null,
      "outputs": [
        {
          "output_type": "execute_result",
          "data": {
            "text/plain": [
              "'o'"
            ],
            "application/vnd.google.colaboratory.intrinsic+json": {
              "type": "string"
            }
          },
          "metadata": {},
          "execution_count": 56
        }
      ]
    },
    {
      "cell_type": "code",
      "source": [
        "sent[0:5]"
      ],
      "metadata": {
        "colab": {
          "base_uri": "https://localhost:8080/",
          "height": 36
        },
        "id": "ckZXE95j5PeD",
        "outputId": "fd7d31d1-19fb-4950-dde5-2b46d3281c6b"
      },
      "execution_count": null,
      "outputs": [
        {
          "output_type": "execute_result",
          "data": {
            "text/plain": [
              "'sedhu'"
            ],
            "application/vnd.google.colaboratory.intrinsic+json": {
              "type": "string"
            }
          },
          "metadata": {},
          "execution_count": 57
        }
      ]
    },
    {
      "cell_type": "code",
      "source": [
        "sent[:13]"
      ],
      "metadata": {
        "colab": {
          "base_uri": "https://localhost:8080/",
          "height": 36
        },
        "id": "cI0BsNjh7gLg",
        "outputId": "52b3aac5-e148-42f9-f275-ee48528be8e9"
      },
      "execution_count": null,
      "outputs": [
        {
          "output_type": "execute_result",
          "data": {
            "text/plain": [
              "'sedhu reading'"
            ],
            "application/vnd.google.colaboratory.intrinsic+json": {
              "type": "string"
            }
          },
          "metadata": {},
          "execution_count": 58
        }
      ]
    },
    {
      "cell_type": "code",
      "source": [
        "sent[5:]"
      ],
      "metadata": {
        "colab": {
          "base_uri": "https://localhost:8080/",
          "height": 36
        },
        "id": "GYNCc9Gs8Hs8",
        "outputId": "fb1e69af-b013-45f5-9594-78c5fc13143d"
      },
      "execution_count": null,
      "outputs": [
        {
          "output_type": "execute_result",
          "data": {
            "text/plain": [
              "' reading book'"
            ],
            "application/vnd.google.colaboratory.intrinsic+json": {
              "type": "string"
            }
          },
          "metadata": {},
          "execution_count": 59
        }
      ]
    },
    {
      "cell_type": "code",
      "source": [
        "sent[:]"
      ],
      "metadata": {
        "colab": {
          "base_uri": "https://localhost:8080/",
          "height": 36
        },
        "id": "VX4sdmpE8TB8",
        "outputId": "ba9a8201-fca6-465a-b899-e260ab3a96fd"
      },
      "execution_count": null,
      "outputs": [
        {
          "output_type": "execute_result",
          "data": {
            "text/plain": [
              "'sedhu reading book'"
            ],
            "application/vnd.google.colaboratory.intrinsic+json": {
              "type": "string"
            }
          },
          "metadata": {},
          "execution_count": 60
        }
      ]
    },
    {
      "cell_type": "code",
      "source": [
        "sent[-1:]"
      ],
      "metadata": {
        "colab": {
          "base_uri": "https://localhost:8080/",
          "height": 36
        },
        "id": "NhkmIgsV8VS6",
        "outputId": "49b8e898-aeda-48f9-ed65-3cbbea0f04e0"
      },
      "execution_count": null,
      "outputs": [
        {
          "output_type": "execute_result",
          "data": {
            "text/plain": [
              "'k'"
            ],
            "application/vnd.google.colaboratory.intrinsic+json": {
              "type": "string"
            }
          },
          "metadata": {},
          "execution_count": 61
        }
      ]
    },
    {
      "cell_type": "code",
      "source": [
        "sent[-4:]"
      ],
      "metadata": {
        "colab": {
          "base_uri": "https://localhost:8080/",
          "height": 36
        },
        "id": "Xy4Xfonp8wkV",
        "outputId": "26efbecd-b6be-4edc-c9bd-2624a3f18838"
      },
      "execution_count": null,
      "outputs": [
        {
          "output_type": "execute_result",
          "data": {
            "text/plain": [
              "'book'"
            ],
            "application/vnd.google.colaboratory.intrinsic+json": {
              "type": "string"
            }
          },
          "metadata": {},
          "execution_count": 62
        }
      ]
    },
    {
      "cell_type": "code",
      "source": [
        "sent[-12:-5]"
      ],
      "metadata": {
        "colab": {
          "base_uri": "https://localhost:8080/",
          "height": 36
        },
        "id": "sS4pebjx9A7N",
        "outputId": "b729765b-f9a9-4d16-dc8c-1236fc07fe11"
      },
      "execution_count": null,
      "outputs": [
        {
          "output_type": "execute_result",
          "data": {
            "text/plain": [
              "'reading'"
            ],
            "application/vnd.google.colaboratory.intrinsic+json": {
              "type": "string"
            }
          },
          "metadata": {},
          "execution_count": 63
        }
      ]
    },
    {
      "cell_type": "code",
      "source": [
        "sent[0:-5]"
      ],
      "metadata": {
        "colab": {
          "base_uri": "https://localhost:8080/",
          "height": 36
        },
        "id": "NTB5Ny_o9sX4",
        "outputId": "192b870a-2af4-4362-c9d5-5e4c6a7ec411"
      },
      "execution_count": null,
      "outputs": [
        {
          "output_type": "execute_result",
          "data": {
            "text/plain": [
              "'sedhu reading'"
            ],
            "application/vnd.google.colaboratory.intrinsic+json": {
              "type": "string"
            }
          },
          "metadata": {},
          "execution_count": 64
        }
      ]
    },
    {
      "cell_type": "code",
      "source": [
        "sent[::2]"
      ],
      "metadata": {
        "colab": {
          "base_uri": "https://localhost:8080/",
          "height": 36
        },
        "id": "pjCZUg_f98Sc",
        "outputId": "4428242e-302b-4a34-f60d-9c431ed7e46b"
      },
      "execution_count": null,
      "outputs": [
        {
          "output_type": "execute_result",
          "data": {
            "text/plain": [
              "'sduraigbo'"
            ],
            "application/vnd.google.colaboratory.intrinsic+json": {
              "type": "string"
            }
          },
          "metadata": {},
          "execution_count": 65
        }
      ]
    },
    {
      "cell_type": "code",
      "source": [
        "print(sent[0:5].upper())"
      ],
      "metadata": {
        "colab": {
          "base_uri": "https://localhost:8080/"
        },
        "id": "OHjjrL78-RMM",
        "outputId": "217b4499-7b25-4c5e-8412-e8d020bfba62"
      },
      "execution_count": null,
      "outputs": [
        {
          "output_type": "stream",
          "name": "stdout",
          "text": [
            "SEDHU\n"
          ]
        }
      ]
    },
    {
      "cell_type": "code",
      "source": [
        "print(sent[5:])"
      ],
      "metadata": {
        "colab": {
          "base_uri": "https://localhost:8080/"
        },
        "id": "oP1sK_KpCHk0",
        "outputId": "f2e01fcd-793a-4945-dbaf-5134b6fb363e"
      },
      "execution_count": null,
      "outputs": [
        {
          "output_type": "stream",
          "name": "stdout",
          "text": [
            " reading book\n"
          ]
        }
      ]
    },
    {
      "cell_type": "code",
      "source": [
        "print(sent[0:5].upper()+sent[5:])"
      ],
      "metadata": {
        "colab": {
          "base_uri": "https://localhost:8080/"
        },
        "id": "dixSot6lCWTm",
        "outputId": "b3a4a397-6cc7-42c8-c8e5-d3d01825678b"
      },
      "execution_count": null,
      "outputs": [
        {
          "output_type": "stream",
          "name": "stdout",
          "text": [
            "SEDHU reading book\n"
          ]
        }
      ]
    },
    {
      "cell_type": "code",
      "source": [
        "len(sent)"
      ],
      "metadata": {
        "colab": {
          "base_uri": "https://localhost:8080/"
        },
        "id": "c4ckxTYTCddR",
        "outputId": "7b77c65e-6994-4f9c-bd3b-a78638a86d0c"
      },
      "execution_count": null,
      "outputs": [
        {
          "output_type": "execute_result",
          "data": {
            "text/plain": [
              "18"
            ]
          },
          "metadata": {},
          "execution_count": 69
        }
      ]
    },
    {
      "cell_type": "code",
      "source": [
        "print(sent[0].upper()+sent[1:len(sent)-1]+sent[-1].upper())"
      ],
      "metadata": {
        "colab": {
          "base_uri": "https://localhost:8080/"
        },
        "id": "_DVBmhJuFBem",
        "outputId": "f87427e4-9193-4552-fd7a-871f91ca6991"
      },
      "execution_count": null,
      "outputs": [
        {
          "output_type": "stream",
          "name": "stdout",
          "text": [
            "Sedhu reading booK\n"
          ]
        }
      ]
    },
    {
      "cell_type": "code",
      "source": [
        "print('ab'+'cd')"
      ],
      "metadata": {
        "colab": {
          "base_uri": "https://localhost:8080/"
        },
        "id": "j4QK047cFkE4",
        "outputId": "2fa7c7db-f53b-4034-f889-8c20905e71ed"
      },
      "execution_count": null,
      "outputs": [
        {
          "output_type": "stream",
          "name": "stdout",
          "text": [
            "abcd\n"
          ]
        }
      ]
    },
    {
      "cell_type": "code",
      "source": [
        "print('ab'+'9')"
      ],
      "metadata": {
        "colab": {
          "base_uri": "https://localhost:8080/"
        },
        "id": "TNmfEeYfHKqt",
        "outputId": "5b8b54af-7eba-4c84-9a43-2655ac0af10c"
      },
      "execution_count": null,
      "outputs": [
        {
          "output_type": "stream",
          "name": "stdout",
          "text": [
            "ab9\n"
          ]
        }
      ]
    },
    {
      "cell_type": "code",
      "source": [
        "print('ab '+'9')"
      ],
      "metadata": {
        "colab": {
          "base_uri": "https://localhost:8080/"
        },
        "id": "8w2ITBHeHQBD",
        "outputId": "19f7299d-4b8b-48d7-cd02-03d4cc1bb060"
      },
      "execution_count": null,
      "outputs": [
        {
          "output_type": "stream",
          "name": "stdout",
          "text": [
            "ab 9\n"
          ]
        }
      ]
    },
    {
      "cell_type": "code",
      "source": [
        "print('ab '* 9)"
      ],
      "metadata": {
        "colab": {
          "base_uri": "https://localhost:8080/"
        },
        "id": "IWAGY2R2Hfoy",
        "outputId": "ab148fbf-a87d-4486-ce5a-edde396931ff"
      },
      "execution_count": null,
      "outputs": [
        {
          "output_type": "stream",
          "name": "stdout",
          "text": [
            "ab ab ab ab ab ab ab ab ab \n"
          ]
        }
      ]
    },
    {
      "cell_type": "code",
      "source": [
        "'ab '* 9"
      ],
      "metadata": {
        "colab": {
          "base_uri": "https://localhost:8080/",
          "height": 36
        },
        "id": "xY37eDHeHoMP",
        "outputId": "9b06f262-f926-4817-aa80-258563213306"
      },
      "execution_count": null,
      "outputs": [
        {
          "output_type": "execute_result",
          "data": {
            "text/plain": [
              "'ab ab ab ab ab ab ab ab ab '"
            ],
            "application/vnd.google.colaboratory.intrinsic+json": {
              "type": "string"
            }
          },
          "metadata": {},
          "execution_count": 75
        }
      ]
    },
    {
      "cell_type": "code",
      "source": [
        "name = 'sedhu'\n",
        "'e' in name"
      ],
      "metadata": {
        "colab": {
          "base_uri": "https://localhost:8080/"
        },
        "id": "lYFaLgA2Huw2",
        "outputId": "4ccbaff1-6a20-4a18-93ab-acc761f70112"
      },
      "execution_count": null,
      "outputs": [
        {
          "output_type": "execute_result",
          "data": {
            "text/plain": [
              "True"
            ]
          },
          "metadata": {},
          "execution_count": 76
        }
      ]
    },
    {
      "cell_type": "code",
      "source": [
        "'k' in name"
      ],
      "metadata": {
        "colab": {
          "base_uri": "https://localhost:8080/"
        },
        "id": "xFjhz3LpIaNJ",
        "outputId": "9510dbec-1930-41a2-d77f-6e9c3db097df"
      },
      "execution_count": null,
      "outputs": [
        {
          "output_type": "execute_result",
          "data": {
            "text/plain": [
              "False"
            ]
          },
          "metadata": {},
          "execution_count": 77
        }
      ]
    },
    {
      "cell_type": "code",
      "source": [
        "first = 100\n",
        "second = 50.5\n",
        "total = first+second"
      ],
      "metadata": {
        "id": "rZSoDLbIIjfm"
      },
      "execution_count": null,
      "outputs": []
    },
    {
      "cell_type": "code",
      "source": [
        "total"
      ],
      "metadata": {
        "colab": {
          "base_uri": "https://localhost:8080/"
        },
        "id": "9aYf07y5JhdV",
        "outputId": "22ea2f86-a6dc-482b-f2d3-a5ddd55b07f6"
      },
      "execution_count": null,
      "outputs": [
        {
          "output_type": "execute_result",
          "data": {
            "text/plain": [
              "150.5"
            ]
          },
          "metadata": {},
          "execution_count": 79
        }
      ]
    },
    {
      "cell_type": "code",
      "source": [
        "avg = total/2\n",
        "avg"
      ],
      "metadata": {
        "colab": {
          "base_uri": "https://localhost:8080/"
        },
        "id": "m0jFiMFoJizh",
        "outputId": "263af550-70da-4094-efcc-e51fbf4b2113"
      },
      "execution_count": null,
      "outputs": [
        {
          "output_type": "execute_result",
          "data": {
            "text/plain": [
              "75.25"
            ]
          },
          "metadata": {},
          "execution_count": 80
        }
      ]
    },
    {
      "cell_type": "code",
      "source": [
        "print(int(avg))"
      ],
      "metadata": {
        "colab": {
          "base_uri": "https://localhost:8080/"
        },
        "id": "Wc_YUt5kJnMd",
        "outputId": "d0b6ef8b-107c-4cb8-8bad-666deb8a77db"
      },
      "execution_count": null,
      "outputs": [
        {
          "output_type": "stream",
          "name": "stdout",
          "text": [
            "75\n"
          ]
        }
      ]
    },
    {
      "cell_type": "code",
      "source": [
        "print('your average is '+ str(avg))"
      ],
      "metadata": {
        "colab": {
          "base_uri": "https://localhost:8080/"
        },
        "id": "0xdHy7wwKWm9",
        "outputId": "4b063c45-0822-4028-fe48-c6da33ff12af"
      },
      "execution_count": null,
      "outputs": [
        {
          "output_type": "stream",
          "name": "stdout",
          "text": [
            "your average is 75.25\n"
          ]
        }
      ]
    },
    {
      "cell_type": "code",
      "source": [
        "print('your average is', avg)"
      ],
      "metadata": {
        "colab": {
          "base_uri": "https://localhost:8080/"
        },
        "id": "38i7T-lNJsJ9",
        "outputId": "58e639bc-8e9c-477e-d9e3-d27625074dda"
      },
      "execution_count": null,
      "outputs": [
        {
          "output_type": "stream",
          "name": "stdout",
          "text": [
            "your average is 75.25\n"
          ]
        }
      ]
    },
    {
      "cell_type": "code",
      "source": [
        "a = 1\n",
        "bool(a)"
      ],
      "metadata": {
        "colab": {
          "base_uri": "https://localhost:8080/"
        },
        "id": "jvq2rw7GKOn4",
        "outputId": "8b27c325-832c-46d6-e33f-f38118b33d49"
      },
      "execution_count": null,
      "outputs": [
        {
          "output_type": "execute_result",
          "data": {
            "text/plain": [
              "True"
            ]
          },
          "metadata": {},
          "execution_count": 84
        }
      ]
    },
    {
      "cell_type": "code",
      "source": [
        "a = 0\n",
        "bool(a)"
      ],
      "metadata": {
        "colab": {
          "base_uri": "https://localhost:8080/"
        },
        "id": "PJGLX6xbLsh_",
        "outputId": "f1f2f670-45f1-449a-8843-e6ca8a3a4231"
      },
      "execution_count": null,
      "outputs": [
        {
          "output_type": "execute_result",
          "data": {
            "text/plain": [
              "False"
            ]
          },
          "metadata": {},
          "execution_count": 85
        }
      ]
    },
    {
      "cell_type": "code",
      "source": [
        "a = 1234\n",
        "bool(a)"
      ],
      "metadata": {
        "colab": {
          "base_uri": "https://localhost:8080/"
        },
        "id": "mjH6MJm8L5Tx",
        "outputId": "f9f16c80-431a-4785-b8fb-98af99a79a2f"
      },
      "execution_count": null,
      "outputs": [
        {
          "output_type": "execute_result",
          "data": {
            "text/plain": [
              "True"
            ]
          },
          "metadata": {},
          "execution_count": 86
        }
      ]
    },
    {
      "cell_type": "code",
      "source": [
        "a = True\n",
        "int(a)"
      ],
      "metadata": {
        "colab": {
          "base_uri": "https://localhost:8080/"
        },
        "id": "fpwe7ie6MBJY",
        "outputId": "a109fa4a-8722-4ca2-fd6d-23be9ef23099"
      },
      "execution_count": null,
      "outputs": [
        {
          "output_type": "execute_result",
          "data": {
            "text/plain": [
              "1"
            ]
          },
          "metadata": {},
          "execution_count": 87
        }
      ]
    },
    {
      "cell_type": "code",
      "source": [
        "a = True\n",
        "float(a)"
      ],
      "metadata": {
        "colab": {
          "base_uri": "https://localhost:8080/"
        },
        "id": "OqNRsQEDMN0P",
        "outputId": "58196e56-9f76-4bee-943e-841094502fea"
      },
      "execution_count": null,
      "outputs": [
        {
          "output_type": "execute_result",
          "data": {
            "text/plain": [
              "1.0"
            ]
          },
          "metadata": {},
          "execution_count": 88
        }
      ]
    },
    {
      "cell_type": "code",
      "source": [
        "a = 'asdf'\n",
        "bool(a)"
      ],
      "metadata": {
        "colab": {
          "base_uri": "https://localhost:8080/"
        },
        "id": "MEc1HiCAMRiG",
        "outputId": "507a3cb4-499b-4d2b-bc83-2b94279ab437"
      },
      "execution_count": null,
      "outputs": [
        {
          "output_type": "execute_result",
          "data": {
            "text/plain": [
              "True"
            ]
          },
          "metadata": {},
          "execution_count": 89
        }
      ]
    },
    {
      "cell_type": "code",
      "source": [
        "a = ''\n",
        "bool(a)"
      ],
      "metadata": {
        "colab": {
          "base_uri": "https://localhost:8080/"
        },
        "id": "yZsaj_CoMk0l",
        "outputId": "009da602-1e02-497d-a892-f465b02405cb"
      },
      "execution_count": null,
      "outputs": [
        {
          "output_type": "execute_result",
          "data": {
            "text/plain": [
              "False"
            ]
          },
          "metadata": {},
          "execution_count": 90
        }
      ]
    },
    {
      "cell_type": "code",
      "source": [
        "complex(5,5)"
      ],
      "metadata": {
        "colab": {
          "base_uri": "https://localhost:8080/"
        },
        "id": "GqFpTw_rMqGH",
        "outputId": "f7bae9c1-7e07-4a8f-d2c3-d46b3716eda9"
      },
      "execution_count": null,
      "outputs": [
        {
          "output_type": "execute_result",
          "data": {
            "text/plain": [
              "(5+5j)"
            ]
          },
          "metadata": {},
          "execution_count": 91
        }
      ]
    },
    {
      "cell_type": "code",
      "source": [
        "complex(5)"
      ],
      "metadata": {
        "colab": {
          "base_uri": "https://localhost:8080/"
        },
        "id": "518p7jPMONJV",
        "outputId": "317d7535-2ae9-43ee-9e17-892e63e1e058"
      },
      "execution_count": null,
      "outputs": [
        {
          "output_type": "execute_result",
          "data": {
            "text/plain": [
              "(5+0j)"
            ]
          },
          "metadata": {},
          "execution_count": 92
        }
      ]
    },
    {
      "cell_type": "code",
      "source": [
        "complex(True,True)"
      ],
      "metadata": {
        "colab": {
          "base_uri": "https://localhost:8080/"
        },
        "id": "jtwuCQwbOR8o",
        "outputId": "abc3f3a4-59c8-44b9-b598-2b7ea1ee0607"
      },
      "execution_count": null,
      "outputs": [
        {
          "output_type": "execute_result",
          "data": {
            "text/plain": [
              "(1+1j)"
            ]
          },
          "metadata": {},
          "execution_count": 93
        }
      ]
    },
    {
      "cell_type": "code",
      "source": [
        "mark = int(input('enter your mark: '))\n",
        "if mark>80:\n",
        "  print('good')\n",
        "elif mark>60:\n",
        "  print('better')\n",
        "else:\n",
        "  print('parctise well')  "
      ],
      "metadata": {
        "colab": {
          "base_uri": "https://localhost:8080/"
        },
        "id": "1o14rGGdOXgm",
        "outputId": "936aaea5-a3ef-4999-821f-4fe898fce48b"
      },
      "execution_count": null,
      "outputs": [
        {
          "output_type": "stream",
          "name": "stdout",
          "text": [
            "enter your mark: 101\n",
            "good\n"
          ]
        }
      ]
    },
    {
      "cell_type": "code",
      "source": [
        "mark1 = int(input('enter your mark one: '))\n",
        "mark2 = int(input('enter your mark two: '))\n",
        "if mark1==mark2:\n",
        "  print('both are same')\n",
        "elif mark1<mark2:\n",
        "  print('mark2 is greater than mark1')\n",
        "else:\n",
        "  print('mark1 is greater than mark2')    "
      ],
      "metadata": {
        "id": "Ttu2lo6_QZMK",
        "colab": {
          "base_uri": "https://localhost:8080/"
        },
        "outputId": "538cdccc-e309-4019-ebd4-836e05cc3d57"
      },
      "execution_count": null,
      "outputs": [
        {
          "output_type": "stream",
          "name": "stdout",
          "text": [
            "enter your mark one: 77\n",
            "enter your mark two: 67\n",
            "mark1 is greater than mark2\n"
          ]
        }
      ]
    },
    {
      "cell_type": "markdown",
      "source": [
        "converting .py program into byte is known as interpreting time and converting byte code into binary code is known as running time or execution time"
      ],
      "metadata": {
        "id": "5qk3sRufSN9y"
      }
    },
    {
      "cell_type": "code",
      "source": [
        "#nested if\n",
        "age = int(input('please enter your age: '))\n",
        "citizen = input('please enter your nationality: ').lower()\n",
        "if age >=5:\n",
        "  if citizen == 'indian':\n",
        "    print('you are eligible for aadhar')\n",
        "  else:\n",
        "    print('other nationalities are not eligible for aadhar') \n",
        "else:\n",
        "  print('minimum age critirea is 5yrs old')   "
      ],
      "metadata": {
        "colab": {
          "base_uri": "https://localhost:8080/"
        },
        "id": "CHrTM4zISQ1v",
        "outputId": "d7834390-0e8f-4b11-cb3f-50bce171c892"
      },
      "execution_count": null,
      "outputs": [
        {
          "output_type": "stream",
          "name": "stdout",
          "text": [
            "please enter your age: 4\n",
            "please enter your nationality: indian\n",
            "minimum age critirea is 5yrs old\n"
          ]
        }
      ]
    },
    {
      "cell_type": "code",
      "source": [
        "age = int(input('please enter your age: '))\n",
        "if age >=5:\n",
        "  citizen = input('please enter your nationality: ').lower()\n",
        "  if citizen == 'indian':\n",
        "    print('you are eligible for aadhar')\n",
        "  else:\n",
        "    print('other nationalities are not eligible for aadhar') \n",
        "else:\n",
        "  print('minimum age critirea is 5yrs old')  "
      ],
      "metadata": {
        "colab": {
          "base_uri": "https://localhost:8080/"
        },
        "id": "2-cmFoEuZWeU",
        "outputId": "e21b3376-5d73-4af6-8178-8ee5f71ae558"
      },
      "execution_count": null,
      "outputs": [
        {
          "output_type": "stream",
          "name": "stdout",
          "text": [
            "please enter your age: 5\n",
            "please enter your nationality: american\n",
            "other nationalities are not eligible for aadhar\n"
          ]
        }
      ]
    },
    {
      "cell_type": "code",
      "source": [
        "word = input('please enter your name: ')\n",
        "print(sorted(word))"
      ],
      "metadata": {
        "colab": {
          "base_uri": "https://localhost:8080/"
        },
        "id": "-88wUl8IaShh",
        "outputId": "71e4589f-b71e-4582-cf5e-eaf43b530e0c"
      },
      "execution_count": null,
      "outputs": [
        {
          "output_type": "stream",
          "name": "stdout",
          "text": [
            "please enter your name: sedhu\n",
            "['d', 'e', 'h', 's', 'u']\n"
          ]
        }
      ]
    },
    {
      "cell_type": "code",
      "source": [
        "word = input('please enter your name: ')\n",
        "print(sorted(word))"
      ],
      "metadata": {
        "colab": {
          "base_uri": "https://localhost:8080/"
        },
        "id": "Xuciw0lUda_Y",
        "outputId": "1ff1caa1-e24a-4089-cf55-aa3b7bda54d4"
      },
      "execution_count": null,
      "outputs": [
        {
          "output_type": "stream",
          "name": "stdout",
          "text": [
            "please enter your name: sedhu\n",
            "['d', 'e', 'h', 's', 'u']\n"
          ]
        }
      ]
    },
    {
      "cell_type": "code",
      "source": [
        "word1 = sorted(input())\n",
        "word2 = sorted(input())\n",
        "word3 = sorted(input())\n",
        "if word1==word2 and word2==word3:\n",
        "  print('all are same')\n",
        "else:\n",
        "  print('not same')    "
      ],
      "metadata": {
        "colab": {
          "base_uri": "https://localhost:8080/"
        },
        "id": "l--iclyndyNX",
        "outputId": "49704d3b-ce2b-41f2-c3ba-08d0c090598e"
      },
      "execution_count": null,
      "outputs": [
        {
          "output_type": "stream",
          "name": "stdout",
          "text": [
            "come on\n",
            "on come\n",
            "come on\n",
            "all are same\n"
          ]
        }
      ]
    },
    {
      "cell_type": "code",
      "source": [
        "mind = 11\n",
        "guess = int(input('guess a number between 1 and 20: '))\n",
        "if mind==guess:\n",
        "  print('your guess is right')\n",
        "elif guess<mind:\n",
        "  print('your guess is lesser')\n",
        "elif guess>mind:\n",
        "  print('your guess is higher')  "
      ],
      "metadata": {
        "colab": {
          "base_uri": "https://localhost:8080/"
        },
        "id": "KZ22QsfxhGzr",
        "outputId": "aa8cf205-25f1-49bf-fbad-0baa366d8cd9"
      },
      "execution_count": null,
      "outputs": [
        {
          "output_type": "stream",
          "name": "stdout",
          "text": [
            "guess a number between 1 and 20: 10\n",
            "your guess is lesser\n"
          ]
        }
      ]
    },
    {
      "cell_type": "code",
      "source": [
        "mind = 13\n",
        "match_not_found = True\n",
        "while match_not_found == True:\n",
        "  guess = int(input('guess a num between 1 and 20: '))\n",
        "  if mind==guess:\n",
        "    print('well done,your guess is right')\n",
        "    match_not_found = False\n",
        "  elif guess<mind:\n",
        "    print('your guess is lower')\n",
        "  else:\n",
        "    print('your guess is higher')    "
      ],
      "metadata": {
        "colab": {
          "base_uri": "https://localhost:8080/"
        },
        "id": "Z_Z8ylr6sloh",
        "outputId": "a66dedd4-6eb3-42ce-e17f-b56523341222"
      },
      "execution_count": null,
      "outputs": [
        {
          "output_type": "stream",
          "name": "stdout",
          "text": [
            "guess a num between 1 and 20: 10\n",
            "your guess is lower\n",
            "guess a num between 1 and 20: 12\n",
            "your guess is lower\n",
            "guess a num between 1 and 20: 13\n",
            "well done,your guess is right\n"
          ]
        }
      ]
    },
    {
      "cell_type": "code",
      "source": [
        "#printing 0 to 5\n",
        "num = 0\n",
        "while num<=5:\n",
        "  print(num)\n",
        "  num = num+1"
      ],
      "metadata": {
        "colab": {
          "base_uri": "https://localhost:8080/"
        },
        "id": "yvPwH5Qw6iGc",
        "outputId": "2b770076-7794-45d1-b724-b10416fc6e87"
      },
      "execution_count": null,
      "outputs": [
        {
          "output_type": "stream",
          "name": "stdout",
          "text": [
            "0\n",
            "1\n",
            "2\n",
            "3\n",
            "4\n",
            "5\n"
          ]
        }
      ]
    },
    {
      "cell_type": "code",
      "source": [
        "#printing in descending order\n",
        "last = int(input('enter the number: '))\n",
        "while last >0:\n",
        "  print(last)\n",
        "  last = last-1"
      ],
      "metadata": {
        "colab": {
          "base_uri": "https://localhost:8080/"
        },
        "id": "TXRwp8MByaPK",
        "outputId": "ee96cd10-5167-4a36-c41d-f8b4f63f9cf7"
      },
      "execution_count": null,
      "outputs": [
        {
          "output_type": "stream",
          "name": "stdout",
          "text": [
            "enter the number: 6\n",
            "6\n",
            "5\n",
            "4\n",
            "3\n",
            "2\n",
            "1\n"
          ]
        }
      ]
    },
    {
      "cell_type": "code",
      "source": [
        "#printing in ascending order\n",
        "first = 1\n",
        "last = int(input('enter the number: '))\n",
        "while first<=last:\n",
        "  print(first)\n",
        "  first= first+1  "
      ],
      "metadata": {
        "colab": {
          "base_uri": "https://localhost:8080/"
        },
        "id": "Ef_19SXW2E_K",
        "outputId": "8392e2e1-9b65-453c-f7f6-8189307558b4"
      },
      "execution_count": null,
      "outputs": [
        {
          "output_type": "stream",
          "name": "stdout",
          "text": [
            "enter the number: 6\n",
            "1\n",
            "2\n",
            "3\n",
            "4\n",
            "5\n",
            "6\n"
          ]
        }
      ]
    },
    {
      "cell_type": "code",
      "source": [
        "first = 0\n",
        "while first<=10:\n",
        "  print(first)\n",
        "  first=first+2"
      ],
      "metadata": {
        "colab": {
          "base_uri": "https://localhost:8080/"
        },
        "id": "dl4JH7Ic4IXC",
        "outputId": "7e52e147-4d95-4d6d-bb4b-9b9f484486d5"
      },
      "execution_count": null,
      "outputs": [
        {
          "output_type": "stream",
          "name": "stdout",
          "text": [
            "0\n",
            "2\n",
            "4\n",
            "6\n",
            "8\n",
            "10\n"
          ]
        }
      ]
    },
    {
      "cell_type": "code",
      "source": [
        "first = 0\n",
        "while first<=10:\n",
        "  print(first)\n",
        "  first=first+3"
      ],
      "metadata": {
        "colab": {
          "base_uri": "https://localhost:8080/"
        },
        "id": "q8wqM6qE7eBs",
        "outputId": "24a00a10-25d0-46f8-ad30-c6f6b997c882"
      },
      "execution_count": null,
      "outputs": [
        {
          "output_type": "stream",
          "name": "stdout",
          "text": [
            "0\n",
            "3\n",
            "6\n",
            "9\n"
          ]
        }
      ]
    },
    {
      "cell_type": "code",
      "source": [
        "first = 1\n",
        "last = 20\n",
        "while first<=last:\n",
        "  if (first%3) == 0:\n",
        "    print(first)\n",
        "  first = first+1 "
      ],
      "metadata": {
        "colab": {
          "base_uri": "https://localhost:8080/"
        },
        "id": "KXt1tx6773b1",
        "outputId": "659167ef-aafb-48d3-a45e-37c0e1009708"
      },
      "execution_count": null,
      "outputs": [
        {
          "output_type": "stream",
          "name": "stdout",
          "text": [
            "3\n",
            "6\n",
            "9\n",
            "12\n",
            "15\n",
            "18\n"
          ]
        }
      ]
    },
    {
      "cell_type": "code",
      "source": [
        "first = 1\n",
        "while first<=30:\n",
        "  print(first)\n",
        "  first=first*3"
      ],
      "metadata": {
        "colab": {
          "base_uri": "https://localhost:8080/"
        },
        "id": "RkA6YByw9QNY",
        "outputId": "b12a80f3-7375-49a4-e537-979f109a3af9"
      },
      "execution_count": null,
      "outputs": [
        {
          "output_type": "stream",
          "name": "stdout",
          "text": [
            "1\n",
            "3\n",
            "9\n",
            "27\n"
          ]
        }
      ]
    },
    {
      "cell_type": "code",
      "source": [
        "first = 1\n",
        "last = 30\n",
        "while first<=last:\n",
        "  if (first%3) == 0 and (first%2) == 0:\n",
        "    print(first)\n",
        "  first = first+1"
      ],
      "metadata": {
        "colab": {
          "base_uri": "https://localhost:8080/"
        },
        "id": "HTvP88SsA-aa",
        "outputId": "79aba0f2-6010-4532-bfb5-443180eb9c18"
      },
      "execution_count": null,
      "outputs": [
        {
          "output_type": "stream",
          "name": "stdout",
          "text": [
            "6\n",
            "12\n",
            "18\n",
            "24\n",
            "30\n"
          ]
        }
      ]
    },
    {
      "cell_type": "code",
      "source": [
        "num = 1\n",
        "last = 100\n",
        "total = 0\n",
        "while num<=last:\n",
        "  total = total + num\n",
        "  num = num+1\n",
        "print(total)"
      ],
      "metadata": {
        "colab": {
          "base_uri": "https://localhost:8080/"
        },
        "id": "28KBYJKPCw9-",
        "outputId": "4bf596f3-16e1-403c-fc18-47769c42a02a"
      },
      "execution_count": null,
      "outputs": [
        {
          "output_type": "stream",
          "name": "stdout",
          "text": [
            "5050\n"
          ]
        }
      ]
    },
    {
      "cell_type": "code",
      "source": [
        "num = 1\n",
        "last = 100\n",
        "total = 1\n",
        "while num<=last:\n",
        "  total = total * num\n",
        "  num = num+1\n",
        "print(total)"
      ],
      "metadata": {
        "colab": {
          "base_uri": "https://localhost:8080/"
        },
        "id": "ElrbK2SCFVs_",
        "outputId": "2c894d6e-bf1a-4ed0-bb8c-a9ad310521da"
      },
      "execution_count": null,
      "outputs": [
        {
          "output_type": "stream",
          "name": "stdout",
          "text": [
            "93326215443944152681699238856266700490715968264381621468592963895217599993229915608941463976156518286253697920827223758251185210916864000000000000000000000000\n"
          ]
        }
      ]
    },
    {
      "cell_type": "code",
      "source": [
        "number = 0\n",
        "while number<10:\n",
        "  number = number+1\n",
        "  if number==5:\n",
        "    break\n",
        "  print(number)"
      ],
      "metadata": {
        "colab": {
          "base_uri": "https://localhost:8080/"
        },
        "id": "AK3nacQzIpcb",
        "outputId": "503dfcf6-8ea0-4c28-b82e-aa815369fecb"
      },
      "execution_count": null,
      "outputs": [
        {
          "output_type": "stream",
          "name": "stdout",
          "text": [
            "1\n",
            "2\n",
            "3\n",
            "4\n"
          ]
        }
      ]
    },
    {
      "cell_type": "code",
      "source": [
        "number = 0\n",
        "while number<10:\n",
        "  number = number+1\n",
        "  if number==5:\n",
        "    continue\n",
        "  print(number)"
      ],
      "metadata": {
        "colab": {
          "base_uri": "https://localhost:8080/"
        },
        "id": "TZCQ6htNLxLc",
        "outputId": "186d9a9d-044e-44b8-f1a5-477b050a0c49"
      },
      "execution_count": null,
      "outputs": [
        {
          "output_type": "stream",
          "name": "stdout",
          "text": [
            "1\n",
            "2\n",
            "3\n",
            "4\n",
            "6\n",
            "7\n",
            "8\n",
            "9\n",
            "10\n"
          ]
        }
      ]
    },
    {
      "cell_type": "code",
      "source": [
        "word = input('enter any word: ')\n",
        "num = 0\n",
        "while num <len(word):\n",
        "  print(word[num])\n",
        "  num = num+1\n",
        "print(num)  "
      ],
      "metadata": {
        "id": "0dxBemkvNArh",
        "colab": {
          "base_uri": "https://localhost:8080/"
        },
        "outputId": "fedfab92-061d-4a3c-d068-43e6606c9c3b"
      },
      "execution_count": null,
      "outputs": [
        {
          "output_type": "stream",
          "name": "stdout",
          "text": [
            "enter any word: sedhu\n",
            "s\n",
            "e\n",
            "d\n",
            "h\n",
            "u\n",
            "5\n"
          ]
        }
      ]
    },
    {
      "cell_type": "code",
      "source": [
        "word = input('enter the word: ')\n",
        "num = 0\n",
        "while num<len(word):\n",
        "  if word[num]== 'a'or word[num]=='e'or word[num]=='i'or word[num]=='o'or word[num]=='u':\n",
        "    print(word[num])\n",
        "  num = num+1"
      ],
      "metadata": {
        "colab": {
          "base_uri": "https://localhost:8080/"
        },
        "id": "qyx0bmNCk-R5",
        "outputId": "d2003fe7-b743-4d27-988f-d67b85aba78c"
      },
      "execution_count": null,
      "outputs": [
        {
          "output_type": "stream",
          "name": "stdout",
          "text": [
            "enter the word: sedhu\n",
            "e\n",
            "u\n"
          ]
        }
      ]
    },
    {
      "cell_type": "code",
      "source": [
        "word = input('enter the word: ')\n",
        "num = 0\n",
        "count = 0\n",
        "while num<len(word):\n",
        "  if word[num].lower() in ['a','e','i','o','u']:\n",
        "    print(word[num])\n",
        "    count = count+1\n",
        "  num = num+1\n",
        "print('no.of vowels:',count)"
      ],
      "metadata": {
        "colab": {
          "base_uri": "https://localhost:8080/"
        },
        "id": "BCdi10IolbpV",
        "outputId": "27f56e54-87d0-466a-c5a3-89821159214b"
      },
      "execution_count": null,
      "outputs": [
        {
          "output_type": "stream",
          "name": "stdout",
          "text": [
            "enter the word: vowels\n",
            "o\n",
            "e\n",
            "no.of vowels: 2\n"
          ]
        }
      ]
    },
    {
      "cell_type": "code",
      "source": [
        "no = 1\n",
        "while no<5:\n",
        "  print(no)\n",
        "  no = no+1\n",
        "else:\n",
        "  print('hi',no)"
      ],
      "metadata": {
        "colab": {
          "base_uri": "https://localhost:8080/"
        },
        "id": "GhTq041zp2h3",
        "outputId": "a14df608-11df-4757-ff52-fc63a4deb1ad"
      },
      "execution_count": null,
      "outputs": [
        {
          "output_type": "stream",
          "name": "stdout",
          "text": [
            "1\n",
            "2\n",
            "3\n",
            "4\n",
            "hi 5\n"
          ]
        }
      ]
    },
    {
      "cell_type": "code",
      "source": [
        "name = 'kumaran'\n",
        "person = input('enter your name: ').lower()\n",
        "if name==person:\n",
        "  print('you are welcome')\n",
        "else:\n",
        "  print('sorry you are not the person')  "
      ],
      "metadata": {
        "colab": {
          "base_uri": "https://localhost:8080/"
        },
        "id": "5kT_KuQ3sf--",
        "outputId": "a7a6a1b6-0b4c-45da-d266-6b2aa955adad"
      },
      "execution_count": null,
      "outputs": [
        {
          "output_type": "stream",
          "name": "stdout",
          "text": [
            "enter your name: saravanan\n",
            "sorry you are not the person\n"
          ]
        }
      ]
    },
    {
      "cell_type": "code",
      "source": [
        "name = 'kumaran'\n",
        "person = ''\n",
        "while name!=person:\n",
        "  person = input('please tell your name: ').lower()\n",
        "else:\n",
        "  print('you are welcome')  "
      ],
      "metadata": {
        "colab": {
          "base_uri": "https://localhost:8080/"
        },
        "id": "fWcjigGXvgls",
        "outputId": "7306ca43-1dcf-4065-aa34-558adcd5c2e2"
      },
      "execution_count": null,
      "outputs": [
        {
          "output_type": "stream",
          "name": "stdout",
          "text": [
            "please tell your name: sedhu\n",
            "please tell your name: kumaran\n",
            "you are welcome\n"
          ]
        }
      ]
    },
    {
      "cell_type": "code",
      "source": [
        "name = 'kumaran'\n",
        "i = 0\n",
        "while i <len(name):\n",
        "  print(name[i],end='-')\n",
        "  i = i+1"
      ],
      "metadata": {
        "colab": {
          "base_uri": "https://localhost:8080/"
        },
        "id": "llNAdGMGwaw8",
        "outputId": "b1695028-7d49-4bdf-aaeb-e8831a6103e4"
      },
      "execution_count": null,
      "outputs": [
        {
          "output_type": "stream",
          "name": "stdout",
          "text": [
            "k-u-m-a-r-a-n-"
          ]
        }
      ]
    },
    {
      "cell_type": "code",
      "source": [
        "name = 'kumaran'\n",
        "i = 0\n",
        "while i <len(name):\n",
        "  print(name[i],end='')\n",
        "  i = i+1"
      ],
      "metadata": {
        "colab": {
          "base_uri": "https://localhost:8080/"
        },
        "id": "1L73FMYIyXX8",
        "outputId": "07189d7d-2fce-4a92-d8ab-c5bab8dbf494"
      },
      "execution_count": null,
      "outputs": [
        {
          "output_type": "stream",
          "name": "stdout",
          "text": [
            "kumaran"
          ]
        }
      ]
    },
    {
      "cell_type": "code",
      "source": [
        "num = 5\n",
        "mul_num = 1\n",
        "while mul_num<=10:\n",
        "  print('5*',mul_num,'=',num*mul_num)\n",
        "  mul_num+=1"
      ],
      "metadata": {
        "colab": {
          "base_uri": "https://localhost:8080/"
        },
        "id": "Vvb9wdpRyzjN",
        "outputId": "fbdb9257-e886-444e-f255-c0d8b180fb5c"
      },
      "execution_count": null,
      "outputs": [
        {
          "output_type": "stream",
          "name": "stdout",
          "text": [
            "5* 1 = 5\n",
            "5* 2 = 10\n",
            "5* 3 = 15\n",
            "5* 4 = 20\n",
            "5* 5 = 25\n",
            "5* 6 = 30\n",
            "5* 7 = 35\n",
            "5* 8 = 40\n",
            "5* 9 = 45\n",
            "5* 10 = 50\n"
          ]
        }
      ]
    },
    {
      "cell_type": "code",
      "source": [
        "no_of_sub = int(input('enter your subjects: '))\n",
        "total = 0\n",
        "subject_count = 0\n",
        "while subject_count<no_of_sub:\n",
        "  mark = int(input('please tell your mark: '))\n",
        "  total = total+mark\n",
        "  subject_count=subject_count+1\n",
        "print('your total is',total)\n",
        "print('average of your total is',total/no_of_sub)"
      ],
      "metadata": {
        "colab": {
          "base_uri": "https://localhost:8080/"
        },
        "id": "Bs7Ra4qoz2av",
        "outputId": "d42d0d48-7161-4230-f346-d70629a42e8d"
      },
      "execution_count": null,
      "outputs": [
        {
          "output_type": "stream",
          "name": "stdout",
          "text": [
            "enter your subjects: 5\n",
            "please tell your mark: 85\n",
            "please tell your mark: 55\n",
            "please tell your mark: 58\n",
            "please tell your mark: 60\n",
            "please tell your mark: 62\n",
            "your total is 320\n",
            "average of your total is 64.0\n"
          ]
        }
      ]
    },
    {
      "cell_type": "code",
      "source": [
        "count = 1\n",
        "while count<=5:\n",
        "  print(count,count,count,count,count)\n",
        "  count+=1"
      ],
      "metadata": {
        "id": "7iWcjdLB30Eo",
        "colab": {
          "base_uri": "https://localhost:8080/"
        },
        "outputId": "80eb8eae-632e-4cac-a437-c52d892ab148"
      },
      "execution_count": null,
      "outputs": [
        {
          "output_type": "stream",
          "name": "stdout",
          "text": [
            "1 1 1 1 1\n",
            "2 2 2 2 2\n",
            "3 3 3 3 3\n",
            "4 4 4 4 4\n",
            "5 5 5 5 5\n"
          ]
        }
      ]
    },
    {
      "cell_type": "code",
      "source": [
        "count = 0\n",
        "while count<5:\n",
        "  count+=1\n",
        "  print(count,end='')"
      ],
      "metadata": {
        "colab": {
          "base_uri": "https://localhost:8080/"
        },
        "id": "nZgyq0fQPvdn",
        "outputId": "071ba891-2358-466a-f961-f738b3664ee4"
      },
      "execution_count": null,
      "outputs": [
        {
          "output_type": "stream",
          "name": "stdout",
          "text": [
            "12345"
          ]
        }
      ]
    },
    {
      "cell_type": "code",
      "source": [
        "count = 1\n",
        "while count<=5:\n",
        "  print(1, end='')\n",
        "  count+=1"
      ],
      "metadata": {
        "colab": {
          "base_uri": "https://localhost:8080/"
        },
        "id": "r2CqDwQT5T8o",
        "outputId": "d9833c38-c820-4694-bbb0-e46dd3526dd6"
      },
      "execution_count": null,
      "outputs": [
        {
          "output_type": "stream",
          "name": "stdout",
          "text": [
            "11111"
          ]
        }
      ]
    },
    {
      "cell_type": "code",
      "source": [
        "terms = 1\n",
        "while terms<=5:\n",
        "  count = 1\n",
        "  while count<=5:\n",
        "    print(1, end='')\n",
        "    count+=1\n",
        "  print()  \n",
        "  terms+=1 "
      ],
      "metadata": {
        "colab": {
          "base_uri": "https://localhost:8080/"
        },
        "id": "KJOtcEgzPYRk",
        "outputId": "adf80d66-2458-45c5-cefa-db3a284db7df"
      },
      "execution_count": null,
      "outputs": [
        {
          "output_type": "stream",
          "name": "stdout",
          "text": [
            "11111\n",
            "11111\n",
            "11111\n",
            "11111\n",
            "11111\n"
          ]
        }
      ]
    },
    {
      "cell_type": "code",
      "source": [
        "terms = 1\n",
        "while terms<=5:\n",
        "  count = 1\n",
        "  while count<=5:\n",
        "    print(count, end='')\n",
        "    count+=1\n",
        "  print()  \n",
        "  terms+=1 "
      ],
      "metadata": {
        "colab": {
          "base_uri": "https://localhost:8080/"
        },
        "id": "y7teH0EC9N7D",
        "outputId": "3e8819ec-4a04-4961-f96e-c5b487072302"
      },
      "execution_count": null,
      "outputs": [
        {
          "output_type": "stream",
          "name": "stdout",
          "text": [
            "12345\n",
            "12345\n",
            "12345\n",
            "12345\n",
            "12345\n"
          ]
        }
      ]
    },
    {
      "cell_type": "code",
      "source": [
        "row = 1\n",
        "while row<=5:\n",
        "  column = 1\n",
        "  while column<=5:\n",
        "    print(row, end='')\n",
        "    column+=1\n",
        "  print()  \n",
        "  row+=1 "
      ],
      "metadata": {
        "colab": {
          "base_uri": "https://localhost:8080/"
        },
        "id": "nwKl3bZPAOBG",
        "outputId": "fd0c4e31-f61a-4c0a-a5ea-8e421e2f0eb3"
      },
      "execution_count": null,
      "outputs": [
        {
          "output_type": "stream",
          "name": "stdout",
          "text": [
            "11111\n",
            "22222\n",
            "33333\n",
            "44444\n",
            "55555\n"
          ]
        }
      ]
    },
    {
      "cell_type": "markdown",
      "source": [
        "1. inner loop deciding the columns\n",
        "2.outer loop deciding the rows"
      ],
      "metadata": {
        "id": "6IOfOI62CbPn"
      }
    },
    {
      "cell_type": "code",
      "source": [
        "row = 1\n",
        "while row<=5:\n",
        "  column = 1\n",
        "  while column<=row:\n",
        "    print(row, end='')\n",
        "    column+=1\n",
        "  print()  \n",
        "  row+=1 "
      ],
      "metadata": {
        "colab": {
          "base_uri": "https://localhost:8080/"
        },
        "id": "cZk7_ClrAUN-",
        "outputId": "b0565b99-5b88-43cb-ff3e-b8469ddbcd3f"
      },
      "execution_count": null,
      "outputs": [
        {
          "output_type": "stream",
          "name": "stdout",
          "text": [
            "1\n",
            "22\n",
            "333\n",
            "4444\n",
            "55555\n"
          ]
        }
      ]
    },
    {
      "cell_type": "code",
      "source": [
        "row = 1\n",
        "while row<=5:\n",
        "  column = 1\n",
        "  while column<=row:\n",
        "    print(column, end='')\n",
        "    column+=1\n",
        "  print()  \n",
        "  row+=1"
      ],
      "metadata": {
        "colab": {
          "base_uri": "https://localhost:8080/"
        },
        "id": "wnWr0tPyGu-G",
        "outputId": "96d64c6b-c6b7-4a15-abdf-38eb425fea5f"
      },
      "execution_count": null,
      "outputs": [
        {
          "output_type": "stream",
          "name": "stdout",
          "text": [
            "1\n",
            "12\n",
            "123\n",
            "1234\n",
            "12345\n"
          ]
        }
      ]
    },
    {
      "cell_type": "code",
      "source": [
        "row = 1\n",
        "value = 65\n",
        "while row<=5:\n",
        "  column = 1\n",
        "  while column<=row:\n",
        "    print(chr(value), end='')\n",
        "    value+=1\n",
        "    column+=1\n",
        "  print()  \n",
        "  row+=1"
      ],
      "metadata": {
        "colab": {
          "base_uri": "https://localhost:8080/"
        },
        "id": "iFVov4CmHhbw",
        "outputId": "9382f29f-3649-46bf-af8c-7118f113def0"
      },
      "execution_count": null,
      "outputs": [
        {
          "output_type": "stream",
          "name": "stdout",
          "text": [
            "A\n",
            "BC\n",
            "DEF\n",
            "GHIJ\n",
            "KLMNO\n"
          ]
        }
      ]
    },
    {
      "cell_type": "code",
      "source": [
        "row = 1\n",
        "while row<=5:\n",
        "  column = 1\n",
        "  value = 65\n",
        "  while column<=row:\n",
        "    print(chr(value), end='')\n",
        "    column+=1\n",
        "    value+=1\n",
        "  print()\n",
        "  row+=1  "
      ],
      "metadata": {
        "colab": {
          "base_uri": "https://localhost:8080/"
        },
        "id": "46QsTRH5KEkD",
        "outputId": "f3e073ba-9233-4f69-9d9b-64beb7d5fd98"
      },
      "execution_count": null,
      "outputs": [
        {
          "output_type": "stream",
          "name": "stdout",
          "text": [
            "A\n",
            "AB\n",
            "ABC\n",
            "ABCD\n",
            "ABCDE\n"
          ]
        }
      ]
    },
    {
      "cell_type": "code",
      "source": [
        "row = 1\n",
        "value = 1\n",
        "while row<=5:\n",
        "  column = 1\n",
        "  while column<=row:\n",
        "    print(value, end='')\n",
        "    value+=1\n",
        "    column+=1\n",
        "  print()  \n",
        "  row+=1"
      ],
      "metadata": {
        "colab": {
          "base_uri": "https://localhost:8080/"
        },
        "id": "36-rL_n1HmwN",
        "outputId": "29a4116a-6671-4c5a-c8c2-53918330d14b"
      },
      "execution_count": null,
      "outputs": [
        {
          "output_type": "stream",
          "name": "stdout",
          "text": [
            "1\n",
            "23\n",
            "456\n",
            "78910\n",
            "1112131415\n"
          ]
        }
      ]
    },
    {
      "cell_type": "code",
      "source": [
        "row = 1\n",
        "value = 65\n",
        "while row<=5:\n",
        "  column = 1\n",
        "  while column<=row:\n",
        "    print(chr(value), end='')\n",
        "    column+=1\n",
        "  print()\n",
        "  value+=1  \n",
        "  row+=1"
      ],
      "metadata": {
        "colab": {
          "base_uri": "https://localhost:8080/"
        },
        "id": "4JqXXPq8Jcl0",
        "outputId": "8f3711cf-1aac-4024-c2bf-a72d77169e21"
      },
      "execution_count": null,
      "outputs": [
        {
          "output_type": "stream",
          "name": "stdout",
          "text": [
            "A\n",
            "BB\n",
            "CCC\n",
            "DDDD\n",
            "EEEEE\n"
          ]
        }
      ]
    },
    {
      "cell_type": "code",
      "execution_count": null,
      "metadata": {
        "colab": {
          "base_uri": "https://localhost:8080/"
        },
        "outputId": "2791d0a8-9eef-421b-d429-f099f381ccd4",
        "id": "QSaQUBBnsX-3"
      },
      "outputs": [
        {
          "output_type": "stream",
          "name": "stdout",
          "text": [
            "0\n",
            "1\n",
            "2\n",
            "3\n",
            "4\n",
            "5\n"
          ]
        }
      ],
      "source": [
        "for i in range(6):\n",
        "  print(i)"
      ]
    },
    {
      "cell_type": "code",
      "source": [
        "total = 0\n",
        "for i in range(101):\n",
        "  total = total+i\n",
        "\n",
        "print(total)"
      ],
      "metadata": {
        "colab": {
          "base_uri": "https://localhost:8080/"
        },
        "outputId": "9a67f005-5099-498d-a78f-eeefd5e458b4",
        "id": "oGI98eqQsX-4"
      },
      "execution_count": null,
      "outputs": [
        {
          "output_type": "stream",
          "name": "stdout",
          "text": [
            "5050\n"
          ]
        }
      ]
    },
    {
      "cell_type": "code",
      "source": [
        "total = 0\n",
        "num = int(input('any nymber: '))\n",
        "for i in range(num+1):\n",
        "  total = total+i\n",
        "\n",
        "print(total)"
      ],
      "metadata": {
        "colab": {
          "base_uri": "https://localhost:8080/"
        },
        "outputId": "95799af7-d002-495a-9aa6-9f29557ee6d6",
        "id": "V8Yox1zKsX-4"
      },
      "execution_count": null,
      "outputs": [
        {
          "output_type": "stream",
          "name": "stdout",
          "text": [
            "any nymber: 5\n",
            "15\n"
          ]
        }
      ]
    },
    {
      "cell_type": "code",
      "source": [
        "total = 0\n",
        "for i in range(5,10+1):\n",
        "  total = total+i\n",
        "\n",
        "print(total)  "
      ],
      "metadata": {
        "colab": {
          "base_uri": "https://localhost:8080/"
        },
        "outputId": "2a15eca1-36dd-4ac0-f2ae-4c49cd63e592",
        "id": "ECqRkpAKsX-4"
      },
      "execution_count": null,
      "outputs": [
        {
          "output_type": "stream",
          "name": "stdout",
          "text": [
            "45\n"
          ]
        }
      ]
    },
    {
      "cell_type": "code",
      "source": [
        "for i in range(0,31,5):\n",
        "  print(i)"
      ],
      "metadata": {
        "colab": {
          "base_uri": "https://localhost:8080/"
        },
        "outputId": "e841395e-8d79-4772-c459-3106ff2f1eaa",
        "id": "MeHHEocNsX-5"
      },
      "execution_count": null,
      "outputs": [
        {
          "output_type": "stream",
          "name": "stdout",
          "text": [
            "0\n",
            "5\n",
            "10\n",
            "15\n",
            "20\n",
            "25\n",
            "30\n"
          ]
        }
      ]
    },
    {
      "cell_type": "code",
      "source": [
        "for i in range(0,30,-5):\n",
        "  print(i)"
      ],
      "metadata": {
        "id": "v5RTt-UJsX-5"
      },
      "execution_count": null,
      "outputs": []
    },
    {
      "cell_type": "code",
      "source": [
        "for i in range(10,1):\n",
        "  print(i)"
      ],
      "metadata": {
        "id": "iNNUBPKmsX-5"
      },
      "execution_count": null,
      "outputs": []
    },
    {
      "cell_type": "code",
      "source": [
        "for i in range(6,0,-1):\n",
        "  print(i)"
      ],
      "metadata": {
        "colab": {
          "base_uri": "https://localhost:8080/"
        },
        "outputId": "f97d92fa-801c-484a-ca5c-076f9d6d6311",
        "id": "xM7tdaUBsX-6"
      },
      "execution_count": null,
      "outputs": [
        {
          "output_type": "stream",
          "name": "stdout",
          "text": [
            "6\n",
            "5\n",
            "4\n",
            "3\n",
            "2\n",
            "1\n"
          ]
        }
      ]
    },
    {
      "cell_type": "code",
      "source": [
        "for i in range(10):\n",
        "  print(3*(i))"
      ],
      "metadata": {
        "id": "ryKlsmVjsX-6",
        "colab": {
          "base_uri": "https://localhost:8080/"
        },
        "outputId": "d59cc663-769a-46f7-e7e0-8263f2a824d0"
      },
      "execution_count": null,
      "outputs": [
        {
          "output_type": "stream",
          "name": "stdout",
          "text": [
            "0\n",
            "3\n",
            "6\n",
            "9\n",
            "12\n",
            "15\n",
            "18\n",
            "21\n",
            "24\n",
            "27\n"
          ]
        }
      ]
    },
    {
      "cell_type": "code",
      "source": [
        "for i in range(10):\n",
        "  print(2*(i))"
      ],
      "metadata": {
        "id": "V46AIgcksX-6",
        "colab": {
          "base_uri": "https://localhost:8080/"
        },
        "outputId": "1dfad08b-5b76-468f-f479-696fbad05256"
      },
      "execution_count": null,
      "outputs": [
        {
          "output_type": "stream",
          "name": "stdout",
          "text": [
            "0\n",
            "2\n",
            "4\n",
            "6\n",
            "8\n",
            "10\n",
            "12\n",
            "14\n",
            "16\n",
            "18\n"
          ]
        }
      ]
    },
    {
      "cell_type": "code",
      "source": [
        "for i in range(0,21,2):\n",
        "  print(i)"
      ],
      "metadata": {
        "id": "qtZhrjppsX-6",
        "colab": {
          "base_uri": "https://localhost:8080/"
        },
        "outputId": "beb4df11-4417-4ab8-a2d1-3d6c11b531c3"
      },
      "execution_count": null,
      "outputs": [
        {
          "output_type": "stream",
          "name": "stdout",
          "text": [
            "0\n",
            "2\n",
            "4\n",
            "6\n",
            "8\n",
            "10\n",
            "12\n",
            "14\n",
            "16\n",
            "18\n",
            "20\n"
          ]
        }
      ]
    },
    {
      "cell_type": "code",
      "source": [
        "start = int(input('start: '))\n",
        "end = int(input('end: ' ))\n",
        "for i in range(start,end+1):\n",
        "  print(i)"
      ],
      "metadata": {
        "colab": {
          "base_uri": "https://localhost:8080/"
        },
        "outputId": "c66f3726-3c09-4cb8-9956-1a425891ef66",
        "id": "IrupAyx6sX-6"
      },
      "execution_count": null,
      "outputs": [
        {
          "output_type": "stream",
          "name": "stdout",
          "text": [
            "start: 5\n",
            "end:9\n",
            "5\n",
            "6\n",
            "7\n",
            "8\n",
            "9\n"
          ]
        }
      ]
    },
    {
      "cell_type": "code",
      "source": [
        "word = 'malayalam'\n",
        "word[::-1]"
      ],
      "metadata": {
        "colab": {
          "base_uri": "https://localhost:8080/",
          "height": 36
        },
        "id": "T5CoQWwbOyZd",
        "outputId": "51d48cca-8e46-484d-f7be-4727773ebd1d"
      },
      "execution_count": null,
      "outputs": [
        {
          "output_type": "execute_result",
          "data": {
            "text/plain": [
              "'malayalam'"
            ],
            "application/vnd.google.colaboratory.intrinsic+json": {
              "type": "string"
            }
          },
          "metadata": {},
          "execution_count": 162
        }
      ]
    },
    {
      "cell_type": "code",
      "source": [
        "word = 'malayalam'\n",
        "word2 = word[::-1]\n",
        "if word==word2:\n",
        "  print('its a palindrome')\n",
        "else:\n",
        "  print('word is not a palindrome')  "
      ],
      "metadata": {
        "colab": {
          "base_uri": "https://localhost:8080/"
        },
        "id": "t4oOaffvuYC-",
        "outputId": "f33c3c75-1d4f-4638-e5ad-5fb2df1b5d27"
      },
      "execution_count": null,
      "outputs": [
        {
          "output_type": "stream",
          "name": "stdout",
          "text": [
            "its a palindrome\n"
          ]
        }
      ]
    },
    {
      "cell_type": "code",
      "source": [
        "word = input('enter the word: ')\n",
        "word2 = word[::-1]\n",
        "if word==word2:\n",
        "  print('its a palindrome')\n",
        "else:\n",
        "  print('word is not a palindrome')  "
      ],
      "metadata": {
        "colab": {
          "base_uri": "https://localhost:8080/"
        },
        "id": "ILLU4Jxrtjub",
        "outputId": "8f4ed3b8-29f1-4955-8a4b-fb84503ef84e"
      },
      "execution_count": null,
      "outputs": [
        {
          "output_type": "stream",
          "name": "stdout",
          "text": [
            "enter the word: kayal\n",
            "word is not a palindrome\n"
          ]
        }
      ]
    },
    {
      "cell_type": "code",
      "source": [
        "sent = 'god is great'\n",
        "for words in sent:\n",
        "  print(words)"
      ],
      "metadata": {
        "colab": {
          "base_uri": "https://localhost:8080/"
        },
        "id": "NstWuimmuAbT",
        "outputId": "c010c309-e823-4f55-dce3-ad5680b28533"
      },
      "execution_count": null,
      "outputs": [
        {
          "output_type": "stream",
          "name": "stdout",
          "text": [
            "g\n",
            "o\n",
            "d\n",
            " \n",
            "i\n",
            "s\n",
            " \n",
            "g\n",
            "r\n",
            "e\n",
            "a\n",
            "t\n"
          ]
        }
      ]
    },
    {
      "cell_type": "code",
      "source": [
        "sent = 'god is great'\n",
        "for words in sent:\n",
        "  print(words, end='')"
      ],
      "metadata": {
        "colab": {
          "base_uri": "https://localhost:8080/"
        },
        "id": "6FfQDM2BvTbw",
        "outputId": "ebb73434-f8c5-4408-8e99-4fa3ef51738f"
      },
      "execution_count": null,
      "outputs": [
        {
          "output_type": "stream",
          "name": "stdout",
          "text": [
            "god is great"
          ]
        }
      ]
    },
    {
      "cell_type": "code",
      "source": [
        "sent = 'god is great'\n",
        "for words in sent:\n",
        "  if words in ['a','e','i','o','u']:\n",
        "    print(words, end='')"
      ],
      "metadata": {
        "colab": {
          "base_uri": "https://localhost:8080/"
        },
        "id": "Sn6WbEkzwKIx",
        "outputId": "680922a0-a398-49a3-cb52-c71e3240d496"
      },
      "execution_count": null,
      "outputs": [
        {
          "output_type": "stream",
          "name": "stdout",
          "text": [
            "oiea"
          ]
        }
      ]
    },
    {
      "cell_type": "code",
      "source": [
        "sent = input('enter the word: ')\n",
        "no_of_words = 1\n",
        "for words in sent:\n",
        "  if words == ' ':\n",
        "    no_of_words+=1\n",
        "print('num of words:',no_of_words)    "
      ],
      "metadata": {
        "colab": {
          "base_uri": "https://localhost:8080/"
        },
        "id": "_4smVDmFwbmg",
        "outputId": "7dbc0b64-b562-4187-9bb4-a78879b602d3"
      },
      "execution_count": null,
      "outputs": [
        {
          "output_type": "stream",
          "name": "stdout",
          "text": [
            "enter the word: win or lose\n",
            "num of words: 3\n"
          ]
        }
      ]
    },
    {
      "cell_type": "code",
      "source": [
        "sent = 'today\"s date is 13,day is sunday'\n",
        "no_of_words = 1\n",
        "for words in sent:\n",
        "  if words in [',','.']:\n",
        "    no_of_words+=1\n",
        "print('num of sentence:',no_of_words)    "
      ],
      "metadata": {
        "colab": {
          "base_uri": "https://localhost:8080/"
        },
        "id": "OutFJaPZx59d",
        "outputId": "ab82c3b3-d175-484f-ea05-6d6aaf8b723b"
      },
      "execution_count": null,
      "outputs": [
        {
          "output_type": "stream",
          "name": "stdout",
          "text": [
            "num of sentence: 2\n"
          ]
        }
      ]
    },
    {
      "cell_type": "code",
      "source": [
        "for i in range(ord('A'),ord('Z')+1):\n",
        "  print(chr(i), end=' ')"
      ],
      "metadata": {
        "colab": {
          "base_uri": "https://localhost:8080/"
        },
        "id": "bGxbECfz1aeR",
        "outputId": "097fa2b3-66be-45bb-9b29-dfff21143c78"
      },
      "execution_count": null,
      "outputs": [
        {
          "output_type": "stream",
          "name": "stdout",
          "text": [
            "A B C D E F G H I J K L M N O P Q R S T U V W X Y Z "
          ]
        }
      ]
    },
    {
      "cell_type": "code",
      "source": [
        "for i in [1,2,3]:\n",
        "  pass\n",
        "  print('vanakkam',i)"
      ],
      "metadata": {
        "colab": {
          "base_uri": "https://localhost:8080/"
        },
        "id": "wCVL-gR23htQ",
        "outputId": "0b1cdd23-616e-4143-f038-cdb2775d38f1"
      },
      "execution_count": null,
      "outputs": [
        {
          "output_type": "stream",
          "name": "stdout",
          "text": [
            "vanakkam 1\n",
            "vanakkam 2\n",
            "vanakkam 3\n"
          ]
        }
      ]
    },
    {
      "cell_type": "code",
      "source": [
        "for i in [1,2,3]:\n",
        "  pass\n",
        "print('vanakkam',i)"
      ],
      "metadata": {
        "colab": {
          "base_uri": "https://localhost:8080/"
        },
        "id": "UzN0lK2m4giD",
        "outputId": "38a58b5a-6fc4-4f00-d24c-5dc8904a049b"
      },
      "execution_count": null,
      "outputs": [
        {
          "output_type": "stream",
          "name": "stdout",
          "text": [
            "vanakkam 3\n"
          ]
        }
      ]
    },
    {
      "cell_type": "code",
      "source": [
        "word = input('enter the word: ')\n",
        "length = len(word)\n",
        "count_of_alpha = 0\n",
        "count_of_num = 0\n",
        "count_of_sc = 0\n",
        "\n",
        "if length<=8:\n",
        "  print('password shouldbe atleat 8 characters')\n",
        "else:\n",
        "  for letter in range(length):\n",
        "    if(word[letter]>='A' and word[letter]<='z'):\n",
        "      count_of_alpha+=1\n",
        "    elif(word[letter]>='0' and word[letter]<='9'):\n",
        "      count_of_num+=1\n",
        "    else:\n",
        "      count_of_sc+=1    \n",
        "\n",
        "  print('count of alphabets',count_of_alpha)    \n",
        "  print('count of numbers',count_of_num)\n",
        "  print('count of special charac',count_of_sc)"
      ],
      "metadata": {
        "id": "HFHgr3--4tcP",
        "colab": {
          "base_uri": "https://localhost:8080/"
        },
        "outputId": "9b3576d4-ddf3-41f1-cb54-39110fb0684c"
      },
      "execution_count": null,
      "outputs": [
        {
          "output_type": "stream",
          "name": "stdout",
          "text": [
            "enter the word: sedhusmartz@gmail.com\n",
            "count of alphabets 19\n",
            "count of numbers 0\n",
            "count of special charac 2\n"
          ]
        }
      ]
    },
    {
      "cell_type": "code",
      "source": [
        "word = input('enter the word: ')\n",
        "length = len(word)\n",
        "count_of_alpha = 0\n",
        "count_of_num = 0\n",
        "count_of_sc = 0\n",
        "\n",
        "if length<=7:\n",
        "  print('password shouldbe atleat 8 characters')\n",
        "else:\n",
        "  for letter in range(length):\n",
        "    if(word[letter].isalpha()):\n",
        "      count_of_alpha+=1\n",
        "    elif(word[letter].isdigit()):\n",
        "      count_of_num+=1\n",
        "    else:\n",
        "      count_of_sc+=1    \n",
        "\n",
        "  print('count of alphabets',count_of_alpha)    \n",
        "  print('count of numbers',count_of_num)\n",
        "  print('count of special charac',count_of_sc)"
      ],
      "metadata": {
        "colab": {
          "base_uri": "https://localhost:8080/"
        },
        "id": "N0KKxoqTRUaC",
        "outputId": "4e535ec2-8678-47ec-a715-33661ec93d3f"
      },
      "execution_count": null,
      "outputs": [
        {
          "output_type": "stream",
          "name": "stdout",
          "text": [
            "enter the word: sedhusmartz@gmail.com\n",
            "count of alphabets 19\n",
            "count of numbers 0\n",
            "count of special charac 2\n"
          ]
        }
      ]
    },
    {
      "cell_type": "code",
      "source": [
        "word = input('enter any word: ')\n",
        "\n",
        "for i in range(len(word)):\n",
        "  print(word[i], end='')\n",
        "print()  \n",
        "for i in range(len(word)-1):\n",
        "  print(word[i], end='')\n",
        "print()    \n",
        "for i in range(len(word)-2):\n",
        "  print(word[i], end='')\n",
        "print()    "
      ],
      "metadata": {
        "colab": {
          "base_uri": "https://localhost:8080/"
        },
        "id": "DQ27rNqhZe7W",
        "outputId": "1f433f12-6e70-4a2e-a14f-497040736eaf"
      },
      "execution_count": null,
      "outputs": [
        {
          "output_type": "stream",
          "name": "stdout",
          "text": [
            "enter any word: bingo\n",
            "bingo\n",
            "bing\n",
            "bin\n"
          ]
        }
      ]
    },
    {
      "cell_type": "code",
      "source": [
        "word = input('enter any word: ')\n",
        "count = len(word)\n",
        "for terms in range(count):\n",
        "  for i in range(count):\n",
        "    print(word[i], end='')\n",
        "  print()\n",
        "  count-=1  "
      ],
      "metadata": {
        "colab": {
          "base_uri": "https://localhost:8080/"
        },
        "id": "SjHwnvD1b2oo",
        "outputId": "6265c3c1-7313-4fcf-8a1c-f4cf24638076"
      },
      "execution_count": null,
      "outputs": [
        {
          "output_type": "stream",
          "name": "stdout",
          "text": [
            "enter any word: bingo\n",
            "bingo\n",
            "bing\n",
            "bin\n",
            "bi\n",
            "b\n"
          ]
        }
      ]
    },
    {
      "cell_type": "code",
      "source": [
        "word = input('enter any word: ')\n",
        "count = len(word)\n",
        "for terms in range(count):\n",
        "  for i in range(count):\n",
        "    print(chr(i+65), end='')\n",
        "  print()\n",
        "  count-=1  "
      ],
      "metadata": {
        "colab": {
          "base_uri": "https://localhost:8080/"
        },
        "id": "ZeexQkahd0jW",
        "outputId": "1597e982-e0a5-4198-97e4-f63c21716a80"
      },
      "execution_count": null,
      "outputs": [
        {
          "output_type": "stream",
          "name": "stdout",
          "text": [
            "enter any word: bingo\n",
            "ABCDE\n",
            "ABCD\n",
            "ABC\n",
            "AB\n",
            "A\n"
          ]
        }
      ]
    },
    {
      "cell_type": "code",
      "source": [
        "word = 'beckham'\n",
        "count = len(word)\n",
        "for terms in range(count):\n",
        "  for i in range(count):\n",
        "    print('#', end='')\n",
        "  for star in range(terms+1):\n",
        "    print('*',end='')\n",
        "  print()\n",
        "  count-=1  "
      ],
      "metadata": {
        "colab": {
          "base_uri": "https://localhost:8080/"
        },
        "id": "UgYJaTMdjCaB",
        "outputId": "9f1e34f5-9ee8-4b11-b0b7-80f0b074c39b"
      },
      "execution_count": null,
      "outputs": [
        {
          "output_type": "stream",
          "name": "stdout",
          "text": [
            "#######*\n",
            "######**\n",
            "#####***\n",
            "####****\n",
            "###*****\n",
            "##******\n",
            "#*******\n"
          ]
        }
      ]
    },
    {
      "cell_type": "code",
      "source": [
        "word = 'beckham'\n",
        "count = len(word)\n",
        "for terms in range(count):\n",
        "  for i in range(count):\n",
        "    print(' ', end='')\n",
        "  for hashh in range(terms+1):\n",
        "    print('* ',end='')\n",
        "  print()\n",
        "  count-=1  "
      ],
      "metadata": {
        "colab": {
          "base_uri": "https://localhost:8080/"
        },
        "id": "WaA-GdcrjgP1",
        "outputId": "29fe1d1d-adde-4161-e7ca-0887e4fd8891"
      },
      "execution_count": null,
      "outputs": [
        {
          "output_type": "stream",
          "name": "stdout",
          "text": [
            "       * \n",
            "      * * \n",
            "     * * * \n",
            "    * * * * \n",
            "   * * * * * \n",
            "  * * * * * * \n",
            " * * * * * * * \n"
          ]
        }
      ]
    },
    {
      "cell_type": "code",
      "source": [
        "word = 'beckham'\n",
        "count = len(word)\n",
        "for terms in range(count):\n",
        "  for i in range(count):\n",
        "    print(' ', end=' ')\n",
        "  for hashh in range(terms+1):\n",
        "    print(chr(hashh+65),end=' ')\n",
        "  print()\n",
        "  count-=1  "
      ],
      "metadata": {
        "colab": {
          "base_uri": "https://localhost:8080/"
        },
        "id": "EGsCpqh_mLyt",
        "outputId": "5da00fd6-178a-4463-ca96-e497e176f4f2"
      },
      "execution_count": null,
      "outputs": [
        {
          "output_type": "stream",
          "name": "stdout",
          "text": [
            "              A \n",
            "            A B \n",
            "          A B C \n",
            "        A B C D \n",
            "      A B C D E \n",
            "    A B C D E F \n",
            "  A B C D E F G \n"
          ]
        }
      ]
    },
    {
      "cell_type": "code",
      "source": [
        "word = 'beckham'\n",
        "count = len(word)\n",
        "for terms in range(count):\n",
        "  for i in range(count):\n",
        "    print(' ', end=' ')\n",
        "  for hashh in range(terms+1):\n",
        "    print(i,end=' ')\n",
        "  print()\n",
        "  count-=1  "
      ],
      "metadata": {
        "colab": {
          "base_uri": "https://localhost:8080/"
        },
        "id": "DEdyLAFPmWZM",
        "outputId": "c6b71437-a8e9-4ad6-c739-1ba9de2cce0f"
      },
      "execution_count": null,
      "outputs": [
        {
          "output_type": "stream",
          "name": "stdout",
          "text": [
            "              6 \n",
            "            5 5 \n",
            "          4 4 4 \n",
            "        3 3 3 3 \n",
            "      2 2 2 2 2 \n",
            "    1 1 1 1 1 1 \n",
            "  0 0 0 0 0 0 0 \n"
          ]
        }
      ]
    },
    {
      "cell_type": "code",
      "source": [
        "#immutable\n",
        "#whenever we change any new value for a variable, the existing value present in a particular memory address will not get changed. instead ,it will create new memory address\n",
        "house_no = 10\n",
        "print(id(house_no))\n",
        "house_no = 12\n",
        "print(id(house_no))"
      ],
      "metadata": {
        "colab": {
          "base_uri": "https://localhost:8080/"
        },
        "id": "-b0N7WgAqAgY",
        "outputId": "2c7f0f9a-ba17-4ec1-85e0-d2bbc6f0b7e4"
      },
      "execution_count": null,
      "outputs": [
        {
          "output_type": "stream",
          "name": "stdout",
          "text": [
            "11531200\n",
            "11531264\n"
          ]
        }
      ]
    },
    {
      "cell_type": "code",
      "source": [
        "house_no = 10\n",
        "print(id(house_no))\n",
        "house_no1 = 10\n",
        "print(id(house_no))"
      ],
      "metadata": {
        "colab": {
          "base_uri": "https://localhost:8080/"
        },
        "id": "uccP07hKX-je",
        "outputId": "a2439705-5fd7-408a-9338-67ed83cb1f6d"
      },
      "execution_count": null,
      "outputs": [
        {
          "output_type": "stream",
          "name": "stdout",
          "text": [
            "11531200\n",
            "11531200\n"
          ]
        }
      ]
    },
    {
      "cell_type": "code",
      "source": [
        "#there is no change in old memory address, but will create new memory address and disable the old memory address\n",
        "mark = 0\n",
        "print(id(mark))\n",
        "mark =1\n",
        "print(id(mark))"
      ],
      "metadata": {
        "colab": {
          "base_uri": "https://localhost:8080/"
        },
        "id": "Z8UB1Sw1qRWW",
        "outputId": "b903b08c-a5b7-4f5d-8c15-a3a533cf217d"
      },
      "execution_count": null,
      "outputs": [
        {
          "output_type": "stream",
          "name": "stdout",
          "text": [
            "11530880\n",
            "11530912\n"
          ]
        }
      ]
    },
    {
      "cell_type": "code",
      "source": [
        "captain = 'msdhoni'\n",
        "print(id(captain))\n",
        "captain = 'virat'\n",
        "print(id(captain))"
      ],
      "metadata": {
        "colab": {
          "base_uri": "https://localhost:8080/"
        },
        "id": "VSDfrtnfrpDQ",
        "outputId": "ae79b5c1-510f-4d65-ca49-a53f65cfe52b"
      },
      "execution_count": null,
      "outputs": [
        {
          "output_type": "stream",
          "name": "stdout",
          "text": [
            "139981634216880\n",
            "139981634127280\n"
          ]
        }
      ]
    },
    {
      "cell_type": "code",
      "source": [
        "#immutability = efficient memory management,performance of the program is increased\n",
        "captain = 'msdhoni'\n",
        "print(id(captain))\n",
        "captain1 = 'msdhoni'\n",
        "print(id(captain))"
      ],
      "metadata": {
        "colab": {
          "base_uri": "https://localhost:8080/"
        },
        "id": "w88dIy32uji8",
        "outputId": "223f95ca-3ce7-488b-a59a-d8c707ccba41"
      },
      "execution_count": null,
      "outputs": [
        {
          "output_type": "stream",
          "name": "stdout",
          "text": [
            "139981634219504\n",
            "139981634219504\n"
          ]
        }
      ]
    },
    {
      "cell_type": "code",
      "source": [
        "# 'is' compare the memory address, '=' compare the value of the given identifier\n",
        "# str,float,int,bool,complex,byte is immutable\n",
        "#memory address will not change if the values are same and viriables are differnet\n",
        "house_no1 = 10\n",
        "house_no2 = 10\n",
        "print(house_no1 is house_no2)\n",
        "print(house_no1 == house_no2)"
      ],
      "metadata": {
        "colab": {
          "base_uri": "https://localhost:8080/"
        },
        "id": "zVuWB_j4vXGh",
        "outputId": "47896031-d837-45a5-db57-68c81bb82914"
      },
      "execution_count": null,
      "outputs": [
        {
          "output_type": "stream",
          "name": "stdout",
          "text": [
            "True\n",
            "True\n"
          ]
        }
      ]
    },
    {
      "cell_type": "code",
      "source": [
        "name = 'python'\n",
        "'j'+name[1:]"
      ],
      "metadata": {
        "colab": {
          "base_uri": "https://localhost:8080/",
          "height": 36
        },
        "id": "-Q8cY6jAyLGK",
        "outputId": "3fb9875f-6162-4c8f-83e5-befba037bd97"
      },
      "execution_count": null,
      "outputs": [
        {
          "output_type": "execute_result",
          "data": {
            "text/plain": [
              "'jython'"
            ],
            "application/vnd.google.colaboratory.intrinsic+json": {
              "type": "string"
            }
          },
          "metadata": {},
          "execution_count": 63
        }
      ]
    },
    {
      "cell_type": "code",
      "source": [
        "#compound datatypes is mutable datatype, mutable = no change in memory address\n",
        "#list - [],separated by comma,accepts homo and hetro\n",
        "house_no = [10,11]\n",
        "print(id(house_no))\n",
        "house_no[0] = 12\n",
        "print(id(house_no))"
      ],
      "metadata": {
        "colab": {
          "base_uri": "https://localhost:8080/"
        },
        "id": "1VLVggueYp9n",
        "outputId": "053676dc-3205-42dc-9acb-b7dcc846c5b9"
      },
      "execution_count": null,
      "outputs": [
        {
          "output_type": "stream",
          "name": "stdout",
          "text": [
            "140027495210240\n",
            "140027495210240\n"
          ]
        }
      ]
    },
    {
      "cell_type": "code",
      "source": [
        "#compound datatypes is mutable datatype, mutable = no change in memory address\n",
        "#list - [],separated by comma,accepts homo and hetro,list can contain n number of elements, list maintain insertion order,[] used it list\n",
        "name = ['raja','vimal','vijay',123,5.6,True]\n",
        "print(id(name))\n",
        "name[0] = 'kamal'\n",
        "print(id(name))\n",
        "print(name)"
      ],
      "metadata": {
        "colab": {
          "base_uri": "https://localhost:8080/"
        },
        "id": "scgVRqUVw9lC",
        "outputId": "b5317872-8cd8-44bb-f546-afe104a7337e"
      },
      "execution_count": null,
      "outputs": [
        {
          "output_type": "stream",
          "name": "stdout",
          "text": [
            "140027495519680\n",
            "140027495519680\n",
            "['kamal', 'vimal', 'vijay', 123, 5.6, True]\n"
          ]
        }
      ]
    },
    {
      "cell_type": "code",
      "source": [
        "lst = [23,36,64,25,88]\n",
        "lst[-1]"
      ],
      "metadata": {
        "id": "dokIRNaN1pkx",
        "colab": {
          "base_uri": "https://localhost:8080/"
        },
        "outputId": "d3c870cc-eb6e-488f-e39b-9d8cf0735401"
      },
      "execution_count": null,
      "outputs": [
        {
          "output_type": "execute_result",
          "data": {
            "text/plain": [
              "88"
            ]
          },
          "metadata": {},
          "execution_count": 44
        }
      ]
    },
    {
      "cell_type": "code",
      "source": [
        "lst[0]"
      ],
      "metadata": {
        "colab": {
          "base_uri": "https://localhost:8080/"
        },
        "id": "g-neFzWkeaMu",
        "outputId": "e66a637f-22e8-4974-86dd-5d7e511b1770"
      },
      "execution_count": null,
      "outputs": [
        {
          "output_type": "execute_result",
          "data": {
            "text/plain": [
              "23"
            ]
          },
          "metadata": {},
          "execution_count": 45
        }
      ]
    },
    {
      "cell_type": "code",
      "source": [
        "lst[2]"
      ],
      "metadata": {
        "colab": {
          "base_uri": "https://localhost:8080/"
        },
        "id": "PFxJQ8_PedS8",
        "outputId": "a4d3fee0-3f05-4225-9a76-6e836413753c"
      },
      "execution_count": null,
      "outputs": [
        {
          "output_type": "execute_result",
          "data": {
            "text/plain": [
              "64"
            ]
          },
          "metadata": {},
          "execution_count": 46
        }
      ]
    },
    {
      "cell_type": "code",
      "source": [
        "lst[:]"
      ],
      "metadata": {
        "colab": {
          "base_uri": "https://localhost:8080/"
        },
        "id": "8KtMxR8gee1t",
        "outputId": "0a3216be-65bd-43c4-d14c-8e1568c117f5"
      },
      "execution_count": null,
      "outputs": [
        {
          "output_type": "execute_result",
          "data": {
            "text/plain": [
              "[23, 36, 64, 25, 88]"
            ]
          },
          "metadata": {},
          "execution_count": 47
        }
      ]
    },
    {
      "cell_type": "code",
      "source": [
        "lst[0:3]"
      ],
      "metadata": {
        "colab": {
          "base_uri": "https://localhost:8080/"
        },
        "id": "1GYsjvBrejdZ",
        "outputId": "810980cd-0d88-479e-aeb8-2f8300c75914"
      },
      "execution_count": null,
      "outputs": [
        {
          "output_type": "execute_result",
          "data": {
            "text/plain": [
              "[23, 36, 64]"
            ]
          },
          "metadata": {},
          "execution_count": 48
        }
      ]
    },
    {
      "cell_type": "code",
      "source": [
        "lst[-5:]"
      ],
      "metadata": {
        "colab": {
          "base_uri": "https://localhost:8080/"
        },
        "id": "hMF1vqCTenot",
        "outputId": "648b4824-88a4-4911-8c68-99d82109c2a4"
      },
      "execution_count": null,
      "outputs": [
        {
          "output_type": "execute_result",
          "data": {
            "text/plain": [
              "[23, 36, 64, 25, 88]"
            ]
          },
          "metadata": {},
          "execution_count": 49
        }
      ]
    },
    {
      "cell_type": "code",
      "source": [
        "lst + [1,2,3,4,5]"
      ],
      "metadata": {
        "colab": {
          "base_uri": "https://localhost:8080/"
        },
        "id": "Pp7ibyb1evOz",
        "outputId": "fb0556fc-08e6-462b-d768-0f2a24296b1b"
      },
      "execution_count": null,
      "outputs": [
        {
          "output_type": "execute_result",
          "data": {
            "text/plain": [
              "[23, 36, 64, 25, 88, 1, 2, 3, 4, 5]"
            ]
          },
          "metadata": {},
          "execution_count": 50
        }
      ]
    },
    {
      "cell_type": "code",
      "source": [
        "[23,36,64,25,88] + [23,36,64,25,88]"
      ],
      "metadata": {
        "colab": {
          "base_uri": "https://localhost:8080/"
        },
        "id": "wf93CfdKfVOe",
        "outputId": "7d243e02-9080-41a1-81d5-d6d8cdf05629"
      },
      "execution_count": null,
      "outputs": [
        {
          "output_type": "execute_result",
          "data": {
            "text/plain": [
              "[23, 36, 64, 25, 88, 23, 36, 64, 25, 88]"
            ]
          },
          "metadata": {},
          "execution_count": 51
        }
      ]
    },
    {
      "cell_type": "code",
      "source": [
        "lst.append(99)\n",
        "lst"
      ],
      "metadata": {
        "colab": {
          "base_uri": "https://localhost:8080/"
        },
        "id": "bjYqP3ZXfZks",
        "outputId": "df2f1313-ad7c-4b59-9b48-33681839ebf4"
      },
      "execution_count": null,
      "outputs": [
        {
          "output_type": "execute_result",
          "data": {
            "text/plain": [
              "[23, 36, 64, 25, 88, 99]"
            ]
          },
          "metadata": {},
          "execution_count": 52
        }
      ]
    },
    {
      "cell_type": "code",
      "source": [
        "lst[1:2] = [11,22]\n",
        "lst"
      ],
      "metadata": {
        "colab": {
          "base_uri": "https://localhost:8080/"
        },
        "id": "qXrWbT2Fgf2O",
        "outputId": "18db8f7c-582f-4ad5-e87f-fc5f64459c40"
      },
      "execution_count": null,
      "outputs": [
        {
          "output_type": "execute_result",
          "data": {
            "text/plain": [
              "[23, 11, 22, 64, 25, 88, 99]"
            ]
          },
          "metadata": {},
          "execution_count": 53
        }
      ]
    },
    {
      "cell_type": "code",
      "source": [
        "lst.append([9])"
      ],
      "metadata": {
        "id": "LKdPqi6mg8uw"
      },
      "execution_count": null,
      "outputs": []
    },
    {
      "cell_type": "code",
      "source": [
        "lst"
      ],
      "metadata": {
        "colab": {
          "base_uri": "https://localhost:8080/"
        },
        "id": "PkMSd3jKiF-g",
        "outputId": "cf9849de-0496-493f-f0da-34848b583cf7"
      },
      "execution_count": null,
      "outputs": [
        {
          "output_type": "execute_result",
          "data": {
            "text/plain": [
              "[23, 11, 22, 64, 25, 88, 99, [9]]"
            ]
          },
          "metadata": {},
          "execution_count": 55
        }
      ]
    },
    {
      "cell_type": "code",
      "source": [
        "lst[0]"
      ],
      "metadata": {
        "colab": {
          "base_uri": "https://localhost:8080/"
        },
        "id": "8S7WOASukgtT",
        "outputId": "861daf00-ddeb-490d-a7d8-ebcd0f394f66"
      },
      "execution_count": null,
      "outputs": [
        {
          "output_type": "execute_result",
          "data": {
            "text/plain": [
              "23"
            ]
          },
          "metadata": {},
          "execution_count": 62
        }
      ]
    },
    {
      "cell_type": "code",
      "source": [
        "letters = ['a','b','c','d']"
      ],
      "metadata": {
        "id": "ZqyQt7IOiZNp"
      },
      "execution_count": null,
      "outputs": []
    },
    {
      "cell_type": "code",
      "source": [
        "letters[1] = 'B'\n",
        "letters"
      ],
      "metadata": {
        "colab": {
          "base_uri": "https://localhost:8080/"
        },
        "id": "_BYQ6kFiipPt",
        "outputId": "6e90d615-8964-4a57-f4cf-894a3a261cd6"
      },
      "execution_count": null,
      "outputs": [
        {
          "output_type": "execute_result",
          "data": {
            "text/plain": [
              "['a', 'B', 'c', 'd']"
            ]
          },
          "metadata": {},
          "execution_count": 57
        }
      ]
    },
    {
      "cell_type": "code",
      "source": [
        "letters[2:4] = ['C','D']\n",
        "letters"
      ],
      "metadata": {
        "colab": {
          "base_uri": "https://localhost:8080/"
        },
        "id": "U0BoPyPQiv1w",
        "outputId": "ce538276-0d63-4c60-a94f-81d17aed90e5"
      },
      "execution_count": null,
      "outputs": [
        {
          "output_type": "execute_result",
          "data": {
            "text/plain": [
              "['a', 'B', 'C', 'D']"
            ]
          },
          "metadata": {},
          "execution_count": 58
        }
      ]
    },
    {
      "cell_type": "code",
      "source": [
        "len(letters)"
      ],
      "metadata": {
        "colab": {
          "base_uri": "https://localhost:8080/"
        },
        "id": "1kXfYs71jrX4",
        "outputId": "bad302c4-e40a-4901-ceaa-9278bb3bcab9"
      },
      "execution_count": null,
      "outputs": [
        {
          "output_type": "execute_result",
          "data": {
            "text/plain": [
              "4"
            ]
          },
          "metadata": {},
          "execution_count": 59
        }
      ]
    },
    {
      "cell_type": "code",
      "source": [
        "letters[:] = []\n",
        "letters"
      ],
      "metadata": {
        "colab": {
          "base_uri": "https://localhost:8080/"
        },
        "id": "DUQDvqIWi-0c",
        "outputId": "2d19b4e6-08ff-4d0c-a1df-229446e42098"
      },
      "execution_count": null,
      "outputs": [
        {
          "output_type": "execute_result",
          "data": {
            "text/plain": [
              "[]"
            ]
          },
          "metadata": {},
          "execution_count": 60
        }
      ]
    },
    {
      "cell_type": "code",
      "source": [
        "alpha = ['a','b','c']\n",
        "num = [1,2,3]\n",
        "both = [alpha,num]"
      ],
      "metadata": {
        "id": "casgJt9Wjk4P"
      },
      "execution_count": null,
      "outputs": []
    },
    {
      "cell_type": "code",
      "source": [
        "len(alpha)"
      ],
      "metadata": {
        "colab": {
          "base_uri": "https://localhost:8080/"
        },
        "id": "yHoylvVA4s6a",
        "outputId": "5d1c7b00-30f3-4e02-ba1f-cb10ef0716f0"
      },
      "execution_count": null,
      "outputs": [
        {
          "output_type": "execute_result",
          "data": {
            "text/plain": [
              "3"
            ]
          },
          "metadata": {},
          "execution_count": 94
        }
      ]
    },
    {
      "cell_type": "code",
      "source": [
        "type(alpha[0])"
      ],
      "metadata": {
        "colab": {
          "base_uri": "https://localhost:8080/"
        },
        "id": "m3qF39bBlmJe",
        "outputId": "27510982-a15a-4b49-ac21-84efb3457346"
      },
      "execution_count": null,
      "outputs": [
        {
          "output_type": "execute_result",
          "data": {
            "text/plain": [
              "str"
            ]
          },
          "metadata": {},
          "execution_count": 73
        }
      ]
    },
    {
      "cell_type": "code",
      "source": [
        "alpha[0]"
      ],
      "metadata": {
        "colab": {
          "base_uri": "https://localhost:8080/",
          "height": 36
        },
        "id": "7eYVKWTgmLfn",
        "outputId": "ceadeb67-162d-4329-c248-47d44c74637a"
      },
      "execution_count": null,
      "outputs": [
        {
          "output_type": "execute_result",
          "data": {
            "text/plain": [
              "'a'"
            ],
            "application/vnd.google.colaboratory.intrinsic+json": {
              "type": "string"
            }
          },
          "metadata": {},
          "execution_count": 76
        }
      ]
    },
    {
      "cell_type": "code",
      "source": [
        "both"
      ],
      "metadata": {
        "colab": {
          "base_uri": "https://localhost:8080/"
        },
        "id": "WdQrvcaklB2B",
        "outputId": "db2c0be8-6818-426f-ebf6-ca5489c8cd1a"
      },
      "execution_count": null,
      "outputs": [
        {
          "output_type": "execute_result",
          "data": {
            "text/plain": [
              "[['a', 'b', 'c'], [1, 2, 3]]"
            ]
          },
          "metadata": {},
          "execution_count": 64
        }
      ]
    },
    {
      "cell_type": "code",
      "source": [
        "both[0]"
      ],
      "metadata": {
        "colab": {
          "base_uri": "https://localhost:8080/"
        },
        "id": "cvD-PGrIlYOK",
        "outputId": "9f5c60e9-9e75-41a9-d8e4-fc054f07dd48"
      },
      "execution_count": null,
      "outputs": [
        {
          "output_type": "execute_result",
          "data": {
            "text/plain": [
              "['a', 'b', 'c']"
            ]
          },
          "metadata": {},
          "execution_count": 69
        }
      ]
    },
    {
      "cell_type": "code",
      "source": [
        "both[0][0]"
      ],
      "metadata": {
        "colab": {
          "base_uri": "https://localhost:8080/",
          "height": 36
        },
        "id": "VrdXDSmOlRuT",
        "outputId": "87eb497c-2655-41ad-abd1-80a063c29cf7"
      },
      "execution_count": null,
      "outputs": [
        {
          "output_type": "execute_result",
          "data": {
            "text/plain": [
              "'a'"
            ],
            "application/vnd.google.colaboratory.intrinsic+json": {
              "type": "string"
            }
          },
          "metadata": {},
          "execution_count": 68
        }
      ]
    },
    {
      "cell_type": "code",
      "source": [
        "type(alpha)"
      ],
      "metadata": {
        "colab": {
          "base_uri": "https://localhost:8080/"
        },
        "id": "_u7khvHMlM6p",
        "outputId": "33f76339-ef2b-4fcf-9ead-11f02799a69b"
      },
      "execution_count": null,
      "outputs": [
        {
          "output_type": "execute_result",
          "data": {
            "text/plain": [
              "list"
            ]
          },
          "metadata": {},
          "execution_count": 70
        }
      ]
    },
    {
      "cell_type": "code",
      "source": [
        "type(num[0])"
      ],
      "metadata": {
        "colab": {
          "base_uri": "https://localhost:8080/"
        },
        "id": "0ERUmRbHlsT0",
        "outputId": "eb38b881-0e3a-4b97-ba31-9d980cf48005"
      },
      "execution_count": null,
      "outputs": [
        {
          "output_type": "execute_result",
          "data": {
            "text/plain": [
              "int"
            ]
          },
          "metadata": {},
          "execution_count": 74
        }
      ]
    },
    {
      "cell_type": "code",
      "source": [
        "type(both)"
      ],
      "metadata": {
        "colab": {
          "base_uri": "https://localhost:8080/"
        },
        "id": "VhlrH6dGlF-R",
        "outputId": "483a7b38-cab6-404f-8772-13cb3c7ccfe1"
      },
      "execution_count": null,
      "outputs": [
        {
          "output_type": "execute_result",
          "data": {
            "text/plain": [
              "list"
            ]
          },
          "metadata": {},
          "execution_count": 65
        }
      ]
    },
    {
      "cell_type": "code",
      "source": [
        "len(both)"
      ],
      "metadata": {
        "colab": {
          "base_uri": "https://localhost:8080/"
        },
        "id": "Wa3Y8KVWlJJN",
        "outputId": "1e5fc7d4-ba22-4765-b84b-3d1d5a27d11a"
      },
      "execution_count": null,
      "outputs": [
        {
          "output_type": "execute_result",
          "data": {
            "text/plain": [
              "2"
            ]
          },
          "metadata": {},
          "execution_count": 75
        }
      ]
    },
    {
      "cell_type": "code",
      "source": [
        "alpha = ['a','b','c']\n",
        "for item in alpha:\n",
        "  print(item, end=' ')"
      ],
      "metadata": {
        "colab": {
          "base_uri": "https://localhost:8080/"
        },
        "id": "Czc_N8ZwlyXB",
        "outputId": "293156e3-e8d9-41ba-dc88-295b60262d67"
      },
      "execution_count": null,
      "outputs": [
        {
          "output_type": "stream",
          "name": "stdout",
          "text": [
            "a b c "
          ]
        }
      ]
    },
    {
      "cell_type": "code",
      "source": [
        "alpha = ['a','b','c']\n",
        "for item in alpha:\n",
        "  if item in ['a','e','i','o','u']:\n",
        "    print(item, end=' ')"
      ],
      "metadata": {
        "colab": {
          "base_uri": "https://localhost:8080/"
        },
        "id": "_NtS0Q1xm6rY",
        "outputId": "04b3b117-b7e6-408d-9a8c-529369214c47"
      },
      "execution_count": null,
      "outputs": [
        {
          "output_type": "stream",
          "name": "stdout",
          "text": [
            "a "
          ]
        }
      ]
    },
    {
      "cell_type": "code",
      "source": [
        "both"
      ],
      "metadata": {
        "colab": {
          "base_uri": "https://localhost:8080/"
        },
        "id": "kolDC_HpoV0-",
        "outputId": "456819aa-2010-46cd-bdee-054fd0caf15b"
      },
      "execution_count": null,
      "outputs": [
        {
          "output_type": "execute_result",
          "data": {
            "text/plain": [
              "[['a', 'b', 'c'], [1, 2, 3]]"
            ]
          },
          "metadata": {},
          "execution_count": 81
        }
      ]
    },
    {
      "cell_type": "code",
      "source": [
        "for item in both:\n",
        "  for all in item:\n",
        "    print(all, end=' ')"
      ],
      "metadata": {
        "colab": {
          "base_uri": "https://localhost:8080/"
        },
        "id": "40ndEE0WnMvt",
        "outputId": "88076f82-f677-40c0-ce1d-9d79fc6c48a9"
      },
      "execution_count": null,
      "outputs": [
        {
          "output_type": "stream",
          "name": "stdout",
          "text": [
            "a b c 1 2 3 "
          ]
        }
      ]
    },
    {
      "cell_type": "code",
      "source": [
        "both = [[1,2,3],[4,5,6],[7,8,9]]\n",
        "for item in both:\n",
        "  for all in item:\n",
        "    print(all, end=' ')"
      ],
      "metadata": {
        "colab": {
          "base_uri": "https://localhost:8080/"
        },
        "id": "_f6ivGFDoTYm",
        "outputId": "c739c7bc-5cf1-4ff1-b80d-6dd0eda851fc"
      },
      "execution_count": null,
      "outputs": [
        {
          "output_type": "stream",
          "name": "stdout",
          "text": [
            "1 2 3 4 5 6 7 8 9 "
          ]
        }
      ]
    },
    {
      "cell_type": "code",
      "source": [
        "both = [[1,2,3],[4,5,6],[7,8,9]]\n",
        "for all in both:\n",
        "  print(all, end=' ')"
      ],
      "metadata": {
        "colab": {
          "base_uri": "https://localhost:8080/"
        },
        "id": "eFUAhlB8orlY",
        "outputId": "8674e596-da68-4c14-f742-8888e3e34fc5"
      },
      "execution_count": null,
      "outputs": [
        {
          "output_type": "stream",
          "name": "stdout",
          "text": [
            "[1, 2, 3] [4, 5, 6] [7, 8, 9] "
          ]
        }
      ]
    },
    {
      "cell_type": "code",
      "source": [
        "both = [[1,2,3],[4,5,6],['a','b',5]]\n",
        "for item in both:\n",
        "  for all in str(item):\n",
        "    if all.isalpha():\n",
        "      print(all, end=' ')"
      ],
      "metadata": {
        "colab": {
          "base_uri": "https://localhost:8080/"
        },
        "id": "o6fTfqyco8rZ",
        "outputId": "e012271f-452f-4621-8841-2421ace8c6ef"
      },
      "execution_count": null,
      "outputs": [
        {
          "output_type": "stream",
          "name": "stdout",
          "text": [
            "a b "
          ]
        }
      ]
    },
    {
      "cell_type": "code",
      "source": [
        "alpha = ['c','a','b','c']\n",
        "num = [2,3,4,1]\n",
        "both = [alpha,num]\n",
        "lst = 0\n",
        "while lst <len(both):\n",
        "  item = 0\n",
        "  while item<len(both[lst]):\n",
        "    print(both[lst][item], end=' ')\n",
        "    item+=1\n",
        "  lst+=1  "
      ],
      "metadata": {
        "colab": {
          "base_uri": "https://localhost:8080/"
        },
        "id": "XhBdznE456de",
        "outputId": "5664a7d6-6d1b-4408-fd21-978f85c92952"
      },
      "execution_count": null,
      "outputs": [
        {
          "output_type": "stream",
          "name": "stdout",
          "text": [
            "c a b c 2 3 4 1 "
          ]
        }
      ]
    },
    {
      "cell_type": "code",
      "source": [
        "alpha = ['c','a','b','c']\n",
        "num = [2,3,4,1]\n",
        "both = [alpha,num]\n",
        "print(both)\n",
        "lst = 0\n",
        "while lst <len(both):\n",
        "  item = 0\n",
        "  while item<len(both[lst]):\n",
        "    print(both[lst][item], end='')\n",
        "    item+=1\n",
        "  print()\n",
        "  lst+=1  "
      ],
      "metadata": {
        "colab": {
          "base_uri": "https://localhost:8080/"
        },
        "id": "JL7oZ2UNpkzi",
        "outputId": "19563a7c-ec14-48ab-80f5-c06121b8ed73"
      },
      "execution_count": null,
      "outputs": [
        {
          "output_type": "stream",
          "name": "stdout",
          "text": [
            "[['c', 'a', 'b', 'c'], [2, 3, 4, 1]]\n",
            "cabc\n",
            "2341\n"
          ]
        }
      ]
    },
    {
      "cell_type": "code",
      "source": [
        "alpha = ['c','a','b','c']\n",
        "num = [2,3,'c',1]\n",
        "both = [alpha,num]\n",
        "li = 0\n",
        "while li <len(both):\n",
        "  item = 0\n",
        "  while item<len(both[li]):\n",
        "    if(type(both[li][item])==str):\n",
        "      print(both[li][item], end='')\n",
        "    item+=1\n",
        "  print()\n",
        "  li+=1 "
      ],
      "metadata": {
        "colab": {
          "base_uri": "https://localhost:8080/"
        },
        "id": "JXBjsB-u0BjP",
        "outputId": "10579fd7-12ab-46fd-f485-ba2d925c5fab"
      },
      "execution_count": null,
      "outputs": [
        {
          "output_type": "stream",
          "name": "stdout",
          "text": [
            "cabc\n",
            "c\n"
          ]
        }
      ]
    },
    {
      "cell_type": "code",
      "source": [
        "alpha = ['c','prabhua','bpd','c']\n",
        "num = [2,3,'praveen',1]\n",
        "all = ['prashanth','v',2]\n",
        "both = [alpha,num,all]\n",
        "li = 0\n",
        "while li <len(both):\n",
        "  item = 0\n",
        "  while item<len(both[li]):\n",
        "    if(type(both[li][item])==str):\n",
        "      if(both[li][item])[0]=='p':  \n",
        "        print(both[li][item], end='')\n",
        "    item+=1\n",
        "  print()\n",
        "  li+=1 "
      ],
      "metadata": {
        "colab": {
          "base_uri": "https://localhost:8080/"
        },
        "id": "Q9kQxiDG7YNw",
        "outputId": "a5a8ec52-440f-4482-ad09-c2029a8cf12c"
      },
      "execution_count": null,
      "outputs": [
        {
          "output_type": "stream",
          "name": "stdout",
          "text": [
            "prabhua\n",
            "praveen\n",
            "prashanth\n"
          ]
        }
      ]
    },
    {
      "cell_type": "code",
      "source": [
        "alpha = ['a','b','c','c']\n",
        "num = [1,2,3,4]\n",
        "both = [alpha,num]\n",
        "li=0\n",
        "while li<len(both):\n",
        "  item = 0\n",
        "  while item < len(both[li]):\n",
        "    if li == 1 and item == 1:\n",
        "      both[li][item] ='check'\n",
        "    item+=1\n",
        "  print()   \n",
        "  li+=1\n",
        "print(both)"
      ],
      "metadata": {
        "colab": {
          "base_uri": "https://localhost:8080/"
        },
        "id": "Ed6ss5TU8dIO",
        "outputId": "fbd3de69-12f0-45e0-eeef-3e33c22737a1"
      },
      "execution_count": null,
      "outputs": [
        {
          "output_type": "stream",
          "name": "stdout",
          "text": [
            "\n",
            "\n",
            "[['a', 'b', 'c', 'c'], [1, 'check', 3, 4]]\n"
          ]
        }
      ]
    },
    {
      "cell_type": "code",
      "source": [
        "alpha = ['c','a','b','c']\n",
        "num = [2,'v','c',1]\n",
        "both = [alpha,num]\n",
        "lst = 0\n",
        "for i in range(len(both)):\n",
        "  for j in range(len(both[lst])):\n",
        "    if i == 1 and j == 1:\n",
        "      both[i][j]='check'\n",
        "print(both)      "
      ],
      "metadata": {
        "colab": {
          "base_uri": "https://localhost:8080/"
        },
        "id": "PTpUR_iQ__Cp",
        "outputId": "fb6dc1e5-1531-47d9-f2d2-8cae1d6cb18e"
      },
      "execution_count": null,
      "outputs": [
        {
          "output_type": "stream",
          "name": "stdout",
          "text": [
            "[['c', 'a', 'b', 'c'], [2, 'check', 'c', 1]]\n"
          ]
        }
      ]
    },
    {
      "cell_type": "code",
      "source": [
        "alpha = ['c','a','b','c']\n",
        "alpha.remove('c')\n",
        "alpha"
      ],
      "metadata": {
        "colab": {
          "base_uri": "https://localhost:8080/"
        },
        "id": "qgMLoLxlDJVx",
        "outputId": "12611907-adec-4904-f277-a68d7ca88698"
      },
      "execution_count": null,
      "outputs": [
        {
          "output_type": "execute_result",
          "data": {
            "text/plain": [
              "['a', 'b', 'c']"
            ]
          },
          "metadata": {},
          "execution_count": 7
        }
      ]
    },
    {
      "cell_type": "code",
      "source": [
        "number = int(input(\"Tell us the number \"))\n",
        "squares=[] \n",
        "for i in range(1, number+1):\n",
        "  squares.append(i**2) #squares.append(i**2)\n",
        "squares"
      ],
      "metadata": {
        "id": "SeilryhgER63",
        "colab": {
          "base_uri": "https://localhost:8080/"
        },
        "outputId": "fa18eb5f-c517-4b75-aa6c-2d3eea3a7196"
      },
      "execution_count": null,
      "outputs": [
        {
          "name": "stdout",
          "output_type": "stream",
          "text": [
            "Tell us the number 4\n"
          ]
        },
        {
          "output_type": "execute_result",
          "data": {
            "text/plain": [
              "[1, 4, 9, 16]"
            ]
          },
          "metadata": {},
          "execution_count": 5
        }
      ]
    },
    {
      "cell_type": "code",
      "source": [
        "studentdetails = []\n",
        "studentcount = int(input('good morning sir,''please tell your class student strength: '))\n",
        "\n",
        "for student in range(studentcount):\n",
        "  name, age, percentage = input('enter students name,age,percentage seperated by space: ').split()\n",
        "  studentdetails.append(name)\n",
        "  studentdetails.append(age)\n",
        "  studentdetails.append(percentage)\n",
        "\n",
        "count = 1\n",
        "print()\n",
        "print('studentname',' studentage', end = ' ')\n",
        "print()\n",
        "print('--------------------------')\n",
        "for i in studentdetails:\n",
        "  if count%3 == 0:\n",
        "    if int(i)>=75:\n",
        "      print(studentdetails[count-3], ',        ',\n",
        "      studentdetails[count-2])\n",
        "  count+=1"
      ],
      "metadata": {
        "colab": {
          "base_uri": "https://localhost:8080/"
        },
        "id": "P0ISmdEToYgi",
        "outputId": "8e4dd3c7-7d3c-4dd0-8bff-6d2fdd7ae757"
      },
      "execution_count": null,
      "outputs": [
        {
          "output_type": "stream",
          "name": "stdout",
          "text": [
            "good morning sir,please tell your class student strength: 2\n",
            "enter students name,age,percentage seperated by space: kumar 21 75\n",
            "enter students name,age,percentage seperated by space: varun 21 85\n",
            "\n",
            "studentname  studentage \n",
            "-----------------------------------------------\n",
            "21 ,         75\n",
            "21 ,         85\n"
          ]
        }
      ]
    },
    {
      "cell_type": "code",
      "source": [
        "square = [i**2 for i in range(1,6)]\n",
        "square"
      ],
      "metadata": {
        "colab": {
          "base_uri": "https://localhost:8080/"
        },
        "id": "LTfiIxCUyYce",
        "outputId": "f946126f-c216-4ce0-c7fd-838c309d6302"
      },
      "execution_count": null,
      "outputs": [
        {
          "output_type": "execute_result",
          "data": {
            "text/plain": [
              "[1, 4, 9, 16, 25]"
            ]
          },
          "metadata": {},
          "execution_count": 25
        }
      ]
    },
    {
      "cell_type": "code",
      "source": [
        "fruits = ['apple','orange','banana','apple','kiwi']\n",
        "fruits.count('apple')\n",
        "if fruits.count('apple')>1:\n",
        "  fruits.remove('apple')\n",
        "fruits  "
      ],
      "metadata": {
        "colab": {
          "base_uri": "https://localhost:8080/"
        },
        "id": "wT93Ro2l5BHD",
        "outputId": "daa94b8f-e988-4e54-a358-537d12ff932f"
      },
      "execution_count": null,
      "outputs": [
        {
          "output_type": "execute_result",
          "data": {
            "text/plain": [
              "['orange', 'banana', 'apple', 'kiwi']"
            ]
          },
          "metadata": {},
          "execution_count": 28
        }
      ]
    },
    {
      "cell_type": "code",
      "source": [
        "fruits = ['apple','orange','banana','apple','kiwi']\n",
        "fruits.count('apple')\n",
        "fruits.reverse()\n",
        "if fruits.count('apple')>1:\n",
        "  fruits.remove('apple')\n",
        "fruits.reverse() \n",
        "fruits"
      ],
      "metadata": {
        "colab": {
          "base_uri": "https://localhost:8080/"
        },
        "id": "P8g5SZDT6bnB",
        "outputId": "fed4a7b1-ed60-4177-98d2-24784bee585e"
      },
      "execution_count": null,
      "outputs": [
        {
          "output_type": "execute_result",
          "data": {
            "text/plain": [
              "['apple', 'orange', 'banana', 'kiwi']"
            ]
          },
          "metadata": {},
          "execution_count": 31
        }
      ]
    },
    {
      "cell_type": "code",
      "source": [
        "fruits.insert(2, 'papaya')\n",
        "fruits"
      ],
      "metadata": {
        "colab": {
          "base_uri": "https://localhost:8080/"
        },
        "id": "351PsNDK_LA_",
        "outputId": "e01fa597-9831-455e-d489-b05bbae58815"
      },
      "execution_count": null,
      "outputs": [
        {
          "output_type": "execute_result",
          "data": {
            "text/plain": [
              "['apple', 'orange', 'papaya', 'banana', 'kiwi']"
            ]
          },
          "metadata": {},
          "execution_count": 32
        }
      ]
    },
    {
      "cell_type": "code",
      "source": [
        "i = fruits.index('apple')\n",
        "i"
      ],
      "metadata": {
        "colab": {
          "base_uri": "https://localhost:8080/"
        },
        "id": "Ha1axseg_g6E",
        "outputId": "f9ed35a0-9947-40e0-8f46-29819a1d39d6"
      },
      "execution_count": null,
      "outputs": [
        {
          "output_type": "execute_result",
          "data": {
            "text/plain": [
              "0"
            ]
          },
          "metadata": {},
          "execution_count": 33
        }
      ]
    },
    {
      "cell_type": "code",
      "source": [
        "fruits = ['apple','orange','banana','apple','kiwi','apple']\n",
        "i = fruits.index('apple',3)\n",
        "i"
      ],
      "metadata": {
        "colab": {
          "base_uri": "https://localhost:8080/"
        },
        "id": "zM7C1jga_3Rd",
        "outputId": "fb47f304-e142-4227-dbe1-75a0770299bf"
      },
      "execution_count": null,
      "outputs": [
        {
          "output_type": "execute_result",
          "data": {
            "text/plain": [
              "3"
            ]
          },
          "metadata": {},
          "execution_count": 39
        }
      ]
    },
    {
      "cell_type": "code",
      "source": [
        "#list and tuple are somehow similar\n",
        "#list is mutable,tuple is immutable\n",
        "#tuple doesnt have append,remove functions\n",
        "#tuple is more efficient/effective than list\n",
        "#() used for set"
      ],
      "metadata": {
        "id": "mBJApOfmAOHq"
      },
      "execution_count": null,
      "outputs": []
    },
    {
      "cell_type": "code",
      "source": [
        "t = ()\n",
        "print(type(t))"
      ],
      "metadata": {
        "colab": {
          "base_uri": "https://localhost:8080/"
        },
        "id": "Z6vlp9e0BuNh",
        "outputId": "7dd0fca9-41b0-4e14-ac3e-d09e01ec3093"
      },
      "execution_count": null,
      "outputs": [
        {
          "output_type": "stream",
          "name": "stdout",
          "text": [
            "<class 'tuple'>\n"
          ]
        }
      ]
    },
    {
      "cell_type": "code",
      "source": [
        "t = (5)\n",
        "print(type(t))"
      ],
      "metadata": {
        "colab": {
          "base_uri": "https://localhost:8080/"
        },
        "id": "ngh-aaBqCLyx",
        "outputId": "5c9314e9-c915-4532-be8f-e39dcc1fd935"
      },
      "execution_count": null,
      "outputs": [
        {
          "output_type": "stream",
          "name": "stdout",
          "text": [
            "<class 'int'>\n"
          ]
        }
      ]
    },
    {
      "cell_type": "code",
      "source": [
        "t = (5,)\n",
        "print(type(t))"
      ],
      "metadata": {
        "colab": {
          "base_uri": "https://localhost:8080/"
        },
        "id": "_68XULJ8CPzf",
        "outputId": "02bc1ff8-8a2a-43e1-edb7-6108f36438c5"
      },
      "execution_count": null,
      "outputs": [
        {
          "output_type": "stream",
          "name": "stdout",
          "text": [
            "<class 'tuple'>\n"
          ]
        }
      ]
    },
    {
      "cell_type": "code",
      "source": [
        "t = 5,\n",
        "print(type(t))"
      ],
      "metadata": {
        "colab": {
          "base_uri": "https://localhost:8080/"
        },
        "id": "uqqTgdk7CeXe",
        "outputId": "d1656959-a840-4355-a110-9018525bfba7"
      },
      "execution_count": null,
      "outputs": [
        {
          "output_type": "stream",
          "name": "stdout",
          "text": [
            "<class 'tuple'>\n"
          ]
        }
      ]
    },
    {
      "cell_type": "code",
      "source": [
        "alpha = ('a','b','c')\n",
        "item = 0\n",
        "while item < len(alpha):\n",
        "  print(alpha[item], end=' ')\n",
        "  item+=1"
      ],
      "metadata": {
        "colab": {
          "base_uri": "https://localhost:8080/"
        },
        "id": "SBKt1aM2Ckfb",
        "outputId": "81e5fefc-9d07-4027-8560-64d00894f19b"
      },
      "execution_count": null,
      "outputs": [
        {
          "output_type": "stream",
          "name": "stdout",
          "text": [
            "abc"
          ]
        }
      ]
    },
    {
      "cell_type": "code",
      "source": [
        "for x in alpha:\n",
        "   print(x, end= ' ')"
      ],
      "metadata": {
        "colab": {
          "base_uri": "https://localhost:8080/"
        },
        "id": "_QwB4sedDNZ1",
        "outputId": "617e7297-4599-4ead-9493-e04254e55ed6"
      },
      "execution_count": null,
      "outputs": [
        {
          "output_type": "stream",
          "name": "stdout",
          "text": [
            "a b c "
          ]
        }
      ]
    },
    {
      "cell_type": "code",
      "source": [
        "tuple1 = ('a','b','c')\n",
        "tuple2 = (1,2,3)\n",
        "tuples = tuple1,tuple2\n",
        "tuples"
      ],
      "metadata": {
        "colab": {
          "base_uri": "https://localhost:8080/"
        },
        "id": "dI2x2KyHDeq1",
        "outputId": "e0fe001f-7fd9-4a57-a893-5c9af6a61e3b"
      },
      "execution_count": null,
      "outputs": [
        {
          "output_type": "execute_result",
          "data": {
            "text/plain": [
              "(('a', 'b', 'c'), (1, 2, 3))"
            ]
          },
          "metadata": {},
          "execution_count": 55
        }
      ]
    },
    {
      "cell_type": "code",
      "source": [
        "tuple1 = ('a','b','c')\n",
        "tuple2 = (1,2,3)\n",
        "tuples = tuple1+tuple2\n",
        "tuples"
      ],
      "metadata": {
        "colab": {
          "base_uri": "https://localhost:8080/"
        },
        "id": "IuBU1gByEe15",
        "outputId": "35b861c8-8b8b-4aac-d971-a9fe5962f17f"
      },
      "execution_count": null,
      "outputs": [
        {
          "output_type": "execute_result",
          "data": {
            "text/plain": [
              "('a', 'b', 'c', 1, 2, 3)"
            ]
          },
          "metadata": {},
          "execution_count": 53
        }
      ]
    },
    {
      "cell_type": "code",
      "source": [
        "#tuple packing\n",
        "t = 10,20,30\n",
        "t"
      ],
      "metadata": {
        "colab": {
          "base_uri": "https://localhost:8080/"
        },
        "id": "7rDdUQLXEw16",
        "outputId": "607407f1-bf2d-4c60-b989-fec949bf491d"
      },
      "execution_count": null,
      "outputs": [
        {
          "output_type": "execute_result",
          "data": {
            "text/plain": [
              "(10, 20, 30)"
            ]
          },
          "metadata": {},
          "execution_count": 56
        }
      ]
    },
    {
      "cell_type": "code",
      "source": [
        "#sequence unpacking\n",
        "no1,no2,no3 = t\n",
        "no1"
      ],
      "metadata": {
        "colab": {
          "base_uri": "https://localhost:8080/"
        },
        "id": "AFMmzMjoFxP4",
        "outputId": "32a4414c-adeb-4dec-d328-9eea11a43408"
      },
      "execution_count": null,
      "outputs": [
        {
          "output_type": "execute_result",
          "data": {
            "text/plain": [
              "10"
            ]
          },
          "metadata": {},
          "execution_count": 57
        }
      ]
    },
    {
      "cell_type": "code",
      "source": [
        "#list,tuple,range are sequence datatypes (same order)"
      ],
      "metadata": {
        "id": "jW8q44F_F19K"
      },
      "execution_count": null,
      "outputs": []
    },
    {
      "cell_type": "code",
      "source": [
        "#no duplicates allowded in set\n",
        "#no indexing in possible in set,not sequence\n",
        "#no slicing coz no indexing\n",
        "#{} used for set"
      ],
      "metadata": {
        "id": "gg7l3wLAG2fp"
      },
      "execution_count": null,
      "outputs": []
    },
    {
      "cell_type": "code",
      "source": [
        "values = {'arul', 'mukil', 123, True}\n",
        "print(values)"
      ],
      "metadata": {
        "colab": {
          "base_uri": "https://localhost:8080/"
        },
        "id": "B2RkQjsuHkab",
        "outputId": "f0b7414a-1d8e-43fa-bca1-471044bb9c39"
      },
      "execution_count": null,
      "outputs": [
        {
          "output_type": "stream",
          "name": "stdout",
          "text": [
            "{'mukil', 'arul', 123, True}\n"
          ]
        }
      ]
    },
    {
      "cell_type": "code",
      "source": [
        "values = {'arul', 'mukil', 123, True,'arul'}\n",
        "print(values)"
      ],
      "metadata": {
        "colab": {
          "base_uri": "https://localhost:8080/"
        },
        "id": "8s3ETcM-HtVI",
        "outputId": "cacdab7b-32fe-4f81-f942-9af2a3597974"
      },
      "execution_count": null,
      "outputs": [
        {
          "output_type": "stream",
          "name": "stdout",
          "text": [
            "{'mukil', 'arul', 123, True}\n"
          ]
        }
      ]
    },
    {
      "cell_type": "code",
      "source": [
        "#append() func only used in list, add() func can use all datatypes, insert() will add in specific index\n",
        "values.add(50)\n",
        "values"
      ],
      "metadata": {
        "colab": {
          "base_uri": "https://localhost:8080/"
        },
        "id": "v2CUEMtxIAet",
        "outputId": "a118d75f-22cd-47c7-b3f8-08daae3eacd7"
      },
      "execution_count": null,
      "outputs": [
        {
          "output_type": "execute_result",
          "data": {
            "text/plain": [
              "{123, 50, True, 'arul', 'mukil'}"
            ]
          },
          "metadata": {},
          "execution_count": 111
        }
      ]
    },
    {
      "cell_type": "code",
      "source": [
        "values.remove(True)\n",
        "values"
      ],
      "metadata": {
        "colab": {
          "base_uri": "https://localhost:8080/"
        },
        "id": "PTUANuvXIbZs",
        "outputId": "de4146e2-686b-417c-fa3b-3ab2b22211b8"
      },
      "execution_count": null,
      "outputs": [
        {
          "output_type": "execute_result",
          "data": {
            "text/plain": [
              "{123, 50, 'arul', 'mukil'}"
            ]
          },
          "metadata": {},
          "execution_count": 112
        }
      ]
    },
    {
      "cell_type": "code",
      "source": [
        "values.pop()"
      ],
      "metadata": {
        "colab": {
          "base_uri": "https://localhost:8080/",
          "height": 36
        },
        "id": "Z_hphZVlIhdY",
        "outputId": "05f263a3-7ff1-4319-b036-ef224050dcbf"
      },
      "execution_count": null,
      "outputs": [
        {
          "output_type": "execute_result",
          "data": {
            "text/plain": [
              "'mukil'"
            ],
            "application/vnd.google.colaboratory.intrinsic+json": {
              "type": "string"
            }
          },
          "metadata": {},
          "execution_count": 113
        }
      ]
    },
    {
      "cell_type": "code",
      "source": [
        "values"
      ],
      "metadata": {
        "colab": {
          "base_uri": "https://localhost:8080/"
        },
        "id": "FYo9MojwJX5b",
        "outputId": "823ee0a5-f9bb-4392-f116-eb5c67fcfb54"
      },
      "execution_count": null,
      "outputs": [
        {
          "output_type": "execute_result",
          "data": {
            "text/plain": [
              "{123, 50, 'arul'}"
            ]
          },
          "metadata": {},
          "execution_count": 114
        }
      ]
    },
    {
      "cell_type": "code",
      "source": [
        "for i in values:\n",
        "  print(i)"
      ],
      "metadata": {
        "colab": {
          "base_uri": "https://localhost:8080/"
        },
        "id": "814EKI47J6r_",
        "outputId": "3f2f893d-9084-4fae-bd59-fc42cb0b25a9"
      },
      "execution_count": null,
      "outputs": [
        {
          "output_type": "stream",
          "name": "stdout",
          "text": [
            "50\n",
            "arul\n",
            "123\n"
          ]
        }
      ]
    },
    {
      "cell_type": "code",
      "source": [
        "#when there in no values in set ,it will take it as dict\n",
        "values={} \n",
        "print(type(values))"
      ],
      "metadata": {
        "colab": {
          "base_uri": "https://localhost:8080/"
        },
        "id": "uFNPk3qkK6Pd",
        "outputId": "069b0ba2-a351-4994-cdc5-3ff11a00fa3b"
      },
      "execution_count": null,
      "outputs": [
        {
          "output_type": "stream",
          "name": "stdout",
          "text": [
            "<class 'dict'>\n"
          ]
        }
      ]
    },
    {
      "cell_type": "code",
      "source": [
        "values = set()\n",
        "print(type(values))"
      ],
      "metadata": {
        "colab": {
          "base_uri": "https://localhost:8080/"
        },
        "id": "f5YVvw0gLFUZ",
        "outputId": "803754de-72b1-487f-fdfa-3050f75f1c6f"
      },
      "execution_count": null,
      "outputs": [
        {
          "output_type": "stream",
          "name": "stdout",
          "text": [
            "<class 'set'>\n"
          ]
        }
      ]
    },
    {
      "cell_type": "code",
      "source": [],
      "metadata": {
        "id": "52fVToQHLcNN"
      },
      "execution_count": null,
      "outputs": []
    }
  ]
}