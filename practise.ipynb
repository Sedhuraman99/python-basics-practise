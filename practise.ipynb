{
  "nbformat": 4,
  "nbformat_minor": 0,
  "metadata": {
    "colab": {
      "provenance": [],
      "authorship_tag": "ABX9TyM9239q5y/mZZue5HYuXEww",
      "include_colab_link": true
    },
    "kernelspec": {
      "name": "python3",
      "display_name": "Python 3"
    },
    "language_info": {
      "name": "python"
    }
  },
  "cells": [
    {
      "cell_type": "markdown",
      "metadata": {
        "id": "view-in-github",
        "colab_type": "text"
      },
      "source": [
        "<a href=\"https://colab.research.google.com/github/Sedhuraman99/python-basics-practise/blob/main/practise.ipynb\" target=\"_parent\"><img src=\"https://colab.research.google.com/assets/colab-badge.svg\" alt=\"Open In Colab\"/></a>"
      ]
    },
    {
      "cell_type": "code",
      "source": [],
      "metadata": {
        "id": "80MB5pETTBjL"
      },
      "execution_count": null,
      "outputs": []
    },
    {
      "cell_type": "markdown",
      "source": [
        "python was developed by guido van rossum in 1989 at NRI(national research institute) netherlands .python officially introduced in 1991 .the name python is derived from the monty python circus program in bbc channel .it is a high level general purpose language . python is a interpreter language . interpreter means word by word translater. python is developed from c and abc .python supports number 0f paradigms including procedure oriented language,functional language,object oriented language,scripting language,modular programming"
      ],
      "metadata": {
        "id": "osXKs4R8OAE3"
      }
    },
    {
      "cell_type": "markdown",
      "source": [
        "Features of python\n",
        "1. simple and easy\n",
        "2.free,open source\n",
        "3.high level programming language\n",
        "4.object oriented programming and procedure oriented programming\n",
        "5.platform independent\n",
        "6.portabilty\n",
        "7.dynamically typed ,robust\n",
        "8.interpreted language\n",
        "9.embedded language\n",
        "10.extensible language\n",
        "\n",
        "\n"
      ],
      "metadata": {
        "id": "SffiidEdVols"
      }
    },
    {
      "cell_type": "markdown",
      "source": [
        "Advantage of python\n",
        "\n",
        "1. python is used in machine learning \n",
        "2.web framework like flask,django"
      ],
      "metadata": {
        "id": "opavxwaQYmGw"
      }
    },
    {
      "cell_type": "markdown",
      "source": [
        "Disadvantage of python\n",
        "\n",
        "1. it cant create mobile app"
      ],
      "metadata": {
        "id": "4QSXqzraaKpa"
      }
    },
    {
      "cell_type": "code",
      "source": [
        "5+5"
      ],
      "metadata": {
        "colab": {
          "base_uri": "https://localhost:8080/"
        },
        "id": "wiofA2CBPo2v",
        "outputId": "c4a0881d-d8e8-479e-9d31-0b533a784c2c"
      },
      "execution_count": null,
      "outputs": [
        {
          "output_type": "execute_result",
          "data": {
            "text/plain": [
              "10"
            ]
          },
          "metadata": {},
          "execution_count": 1
        }
      ]
    },
    {
      "cell_type": "code",
      "source": [
        "5-5"
      ],
      "metadata": {
        "colab": {
          "base_uri": "https://localhost:8080/"
        },
        "id": "9ksqKSaae48b",
        "outputId": "011f4f81-32d4-4155-a3cd-c7a4ea71baf9"
      },
      "execution_count": null,
      "outputs": [
        {
          "output_type": "execute_result",
          "data": {
            "text/plain": [
              "0"
            ]
          },
          "metadata": {},
          "execution_count": 2
        }
      ]
    },
    {
      "cell_type": "code",
      "source": [
        "5*5"
      ],
      "metadata": {
        "colab": {
          "base_uri": "https://localhost:8080/"
        },
        "id": "2m1U40Gje7PY",
        "outputId": "0928750f-8721-4c52-f6ab-6cde5da0fc16"
      },
      "execution_count": null,
      "outputs": [
        {
          "output_type": "execute_result",
          "data": {
            "text/plain": [
              "25"
            ]
          },
          "metadata": {},
          "execution_count": 3
        }
      ]
    },
    {
      "cell_type": "code",
      "source": [
        "5*(10+2)"
      ],
      "metadata": {
        "colab": {
          "base_uri": "https://localhost:8080/"
        },
        "id": "s6Zslkwee8jb",
        "outputId": "165a36bc-6e88-4a63-b3b3-8b396523e529"
      },
      "execution_count": null,
      "outputs": [
        {
          "output_type": "execute_result",
          "data": {
            "text/plain": [
              "60"
            ]
          },
          "metadata": {},
          "execution_count": 4
        }
      ]
    },
    {
      "cell_type": "code",
      "source": [
        "80/4"
      ],
      "metadata": {
        "colab": {
          "base_uri": "https://localhost:8080/"
        },
        "id": "6DT8fztrfBY4",
        "outputId": "150d3188-e8eb-426b-a943-552c0ec554b0"
      },
      "execution_count": null,
      "outputs": [
        {
          "output_type": "execute_result",
          "data": {
            "text/plain": [
              "20.0"
            ]
          },
          "metadata": {},
          "execution_count": 5
        }
      ]
    },
    {
      "cell_type": "code",
      "source": [
        "80//4"
      ],
      "metadata": {
        "colab": {
          "base_uri": "https://localhost:8080/"
        },
        "id": "GQohjphHfEkc",
        "outputId": "54f4de06-61ec-4974-8d84-3ba1025b2118"
      },
      "execution_count": null,
      "outputs": [
        {
          "output_type": "execute_result",
          "data": {
            "text/plain": [
              "20"
            ]
          },
          "metadata": {},
          "execution_count": 6
        }
      ]
    },
    {
      "cell_type": "code",
      "source": [
        "2*3"
      ],
      "metadata": {
        "colab": {
          "base_uri": "https://localhost:8080/"
        },
        "id": "ZYCwcD-afNgG",
        "outputId": "298a0d8b-5bd4-4949-d3ff-cbf7bd55a2ae"
      },
      "execution_count": null,
      "outputs": [
        {
          "output_type": "execute_result",
          "data": {
            "text/plain": [
              "6"
            ]
          },
          "metadata": {},
          "execution_count": 7
        }
      ]
    },
    {
      "cell_type": "code",
      "source": [
        "2**3"
      ],
      "metadata": {
        "colab": {
          "base_uri": "https://localhost:8080/"
        },
        "id": "AeugfZqEfQnU",
        "outputId": "0fcf08fc-16b7-4acb-f7e7-0234501dd0bd"
      },
      "execution_count": null,
      "outputs": [
        {
          "output_type": "execute_result",
          "data": {
            "text/plain": [
              "8"
            ]
          },
          "metadata": {},
          "execution_count": 8
        }
      ]
    },
    {
      "cell_type": "code",
      "source": [
        "8/4"
      ],
      "metadata": {
        "colab": {
          "base_uri": "https://localhost:8080/"
        },
        "id": "y5yBigjSfXvB",
        "outputId": "4e0f3c53-3d15-42d2-de2a-efd0acf2d65d"
      },
      "execution_count": null,
      "outputs": [
        {
          "output_type": "execute_result",
          "data": {
            "text/plain": [
              "2.0"
            ]
          },
          "metadata": {},
          "execution_count": 6
        }
      ]
    },
    {
      "cell_type": "code",
      "source": [
        "8%4"
      ],
      "metadata": {
        "colab": {
          "base_uri": "https://localhost:8080/"
        },
        "id": "hHxQnPmDfR2X",
        "outputId": "6a2b28a2-d336-4ab5-f249-4d16e9c5bf5c"
      },
      "execution_count": null,
      "outputs": [
        {
          "output_type": "execute_result",
          "data": {
            "text/plain": [
              "0"
            ]
          },
          "metadata": {},
          "execution_count": 10
        }
      ]
    },
    {
      "cell_type": "code",
      "source": [
        "width = 20\n",
        "height = 10+20\n",
        "height * width"
      ],
      "metadata": {
        "colab": {
          "base_uri": "https://localhost:8080/"
        },
        "id": "SSrBYbc4fhoG",
        "outputId": "922fadd6-225f-4dea-f164-65313e3513ec"
      },
      "execution_count": null,
      "outputs": [
        {
          "output_type": "execute_result",
          "data": {
            "text/plain": [
              "600"
            ]
          },
          "metadata": {},
          "execution_count": 11
        }
      ]
    },
    {
      "cell_type": "code",
      "source": [
        "tamil,english,maths = 70,80,75\n",
        "print(tamil+english+maths)"
      ],
      "metadata": {
        "colab": {
          "base_uri": "https://localhost:8080/"
        },
        "id": "xHy13oevgC8j",
        "outputId": "b7bc035f-7ed0-44b7-e828-d0c948a77b80"
      },
      "execution_count": null,
      "outputs": [
        {
          "output_type": "stream",
          "name": "stdout",
          "text": [
            "225\n"
          ]
        }
      ]
    },
    {
      "cell_type": "code",
      "source": [
        "salary = 500000\n",
        "tax = salary*(10/100)\n",
        "tax"
      ],
      "metadata": {
        "colab": {
          "base_uri": "https://localhost:8080/"
        },
        "id": "jN5OnGO9hY9q",
        "outputId": "a4c7b2e9-8c56-4957-ab78-90f6523e4e3c"
      },
      "execution_count": null,
      "outputs": [
        {
          "output_type": "execute_result",
          "data": {
            "text/plain": [
              "50000.0"
            ]
          },
          "metadata": {},
          "execution_count": 13
        }
      ]
    },
    {
      "cell_type": "code",
      "source": [
        "#underscore will take last value\n",
        "tax + _"
      ],
      "metadata": {
        "colab": {
          "base_uri": "https://localhost:8080/"
        },
        "id": "5nq24jyCitnz",
        "outputId": "b256c8b6-627c-429e-88b6-c85c1cd8a790"
      },
      "execution_count": null,
      "outputs": [
        {
          "output_type": "execute_result",
          "data": {
            "text/plain": [
              "100000.0"
            ]
          },
          "metadata": {},
          "execution_count": 14
        }
      ]
    },
    {
      "cell_type": "code",
      "source": [
        "int(tax)"
      ],
      "metadata": {
        "colab": {
          "base_uri": "https://localhost:8080/"
        },
        "id": "A4NmDKH_jWJ9",
        "outputId": "680a4329-7c98-4f6e-8384-b943ebae8be1"
      },
      "execution_count": null,
      "outputs": [
        {
          "output_type": "execute_result",
          "data": {
            "text/plain": [
              "50000"
            ]
          },
          "metadata": {},
          "execution_count": 15
        }
      ]
    },
    {
      "cell_type": "code",
      "source": [
        "product_rate = 121.99\n",
        "quantity = 4.5\n",
        "t = product_rate * quantity\n",
        "t"
      ],
      "metadata": {
        "colab": {
          "base_uri": "https://localhost:8080/"
        },
        "id": "H-_dkJ1ukJPd",
        "outputId": "9ed7de16-051e-404f-f970-27243fb6ab4d"
      },
      "execution_count": null,
      "outputs": [
        {
          "output_type": "execute_result",
          "data": {
            "text/plain": [
              "548.9549999999999"
            ]
          },
          "metadata": {},
          "execution_count": 16
        }
      ]
    },
    {
      "cell_type": "code",
      "source": [
        "print(round(_,2))"
      ],
      "metadata": {
        "colab": {
          "base_uri": "https://localhost:8080/"
        },
        "id": "-5Qt3qJ8kcMv",
        "outputId": "0a88ab8c-9199-4cce-d699-1d2dccf4c8db"
      },
      "execution_count": null,
      "outputs": [
        {
          "output_type": "stream",
          "name": "stdout",
          "text": [
            "548.95\n"
          ]
        }
      ]
    },
    {
      "cell_type": "code",
      "source": [
        "print(round(t))"
      ],
      "metadata": {
        "colab": {
          "base_uri": "https://localhost:8080/"
        },
        "id": "n6vkwXSbkj6F",
        "outputId": "b5981abd-db56-4673-bdbc-0a34d2cc6fd4"
      },
      "execution_count": null,
      "outputs": [
        {
          "output_type": "stream",
          "name": "stdout",
          "text": [
            "549\n"
          ]
        }
      ]
    },
    {
      "cell_type": "code",
      "source": [
        "print(round(t,3))"
      ],
      "metadata": {
        "colab": {
          "base_uri": "https://localhost:8080/"
        },
        "id": "C890blwkk2Uo",
        "outputId": "04002802-ebcc-4cbc-ee1b-8f5db0520134"
      },
      "execution_count": null,
      "outputs": [
        {
          "output_type": "stream",
          "name": "stdout",
          "text": [
            "548.955\n"
          ]
        }
      ]
    },
    {
      "cell_type": "code",
      "source": [
        "# python keywords\n",
        "#True,False,None,and,or,not,is,in,if,elif,else,while,for,break,pass,continue,yield,try,except,raise,assert,import,from,as,class,return,def,global,nonlocal,lambda,del,with,async,await,finally"
      ],
      "metadata": {
        "id": "V8j6Zcp-k6He"
      },
      "execution_count": null,
      "outputs": []
    },
    {
      "cell_type": "code",
      "source": [
        "import keyword\n",
        "keyword.kwlist"
      ],
      "metadata": {
        "colab": {
          "base_uri": "https://localhost:8080/"
        },
        "id": "aiGODjx8rM13",
        "outputId": "44cd7cff-41c8-408c-b62c-d3a5f2384c5d"
      },
      "execution_count": null,
      "outputs": [
        {
          "output_type": "execute_result",
          "data": {
            "text/plain": [
              "['False',\n",
              " 'None',\n",
              " 'True',\n",
              " 'and',\n",
              " 'as',\n",
              " 'assert',\n",
              " 'async',\n",
              " 'await',\n",
              " 'break',\n",
              " 'class',\n",
              " 'continue',\n",
              " 'def',\n",
              " 'del',\n",
              " 'elif',\n",
              " 'else',\n",
              " 'except',\n",
              " 'finally',\n",
              " 'for',\n",
              " 'from',\n",
              " 'global',\n",
              " 'if',\n",
              " 'import',\n",
              " 'in',\n",
              " 'is',\n",
              " 'lambda',\n",
              " 'nonlocal',\n",
              " 'not',\n",
              " 'or',\n",
              " 'pass',\n",
              " 'raise',\n",
              " 'return',\n",
              " 'try',\n",
              " 'while',\n",
              " 'with',\n",
              " 'yield']"
            ]
          },
          "metadata": {},
          "execution_count": 20
        }
      ]
    },
    {
      "cell_type": "code",
      "source": [
        "mark = 100\n",
        "type(mark)"
      ],
      "metadata": {
        "colab": {
          "base_uri": "https://localhost:8080/"
        },
        "id": "9zIoD6Pysvs9",
        "outputId": "4851dac2-60a6-4c6e-8b54-81a1daf36919"
      },
      "execution_count": null,
      "outputs": [
        {
          "output_type": "execute_result",
          "data": {
            "text/plain": [
              "int"
            ]
          },
          "metadata": {},
          "execution_count": 20
        }
      ]
    },
    {
      "cell_type": "code",
      "source": [
        "mark = 100.0\n",
        "type(mark)"
      ],
      "metadata": {
        "colab": {
          "base_uri": "https://localhost:8080/"
        },
        "id": "HQmDkdwvvcnZ",
        "outputId": "bb77a2a6-a419-43e8-eeb2-9572502938d1"
      },
      "execution_count": null,
      "outputs": [
        {
          "output_type": "execute_result",
          "data": {
            "text/plain": [
              "float"
            ]
          },
          "metadata": {},
          "execution_count": 21
        }
      ]
    },
    {
      "cell_type": "code",
      "source": [
        "indian = True\n",
        "type(indian)"
      ],
      "metadata": {
        "colab": {
          "base_uri": "https://localhost:8080/"
        },
        "id": "0PMXUNlLvgn-",
        "outputId": "f3e3abc2-7441-44d8-ed53-ecfedaf44473"
      },
      "execution_count": null,
      "outputs": [
        {
          "output_type": "execute_result",
          "data": {
            "text/plain": [
              "bool"
            ]
          },
          "metadata": {},
          "execution_count": 22
        }
      ]
    },
    {
      "cell_type": "code",
      "source": [
        "#datatypes in python\n",
        "#int,float,complex,bool,str,list,tuple,set,frozenset,dict,bytes,bytearray,range,None"
      ],
      "metadata": {
        "id": "NtSdGR4xv4Us"
      },
      "execution_count": null,
      "outputs": []
    },
    {
      "cell_type": "code",
      "source": [
        "#binary to decimal\n",
        "value = 0b1111\n",
        "print(value)"
      ],
      "metadata": {
        "colab": {
          "base_uri": "https://localhost:8080/"
        },
        "id": "pvhnlqYnpUgn",
        "outputId": "dfb20b2a-2c59-4f1b-c9fc-4bbc83f8891c"
      },
      "execution_count": null,
      "outputs": [
        {
          "output_type": "stream",
          "name": "stdout",
          "text": [
            "15\n"
          ]
        }
      ]
    },
    {
      "cell_type": "code",
      "source": [
        "#octa to decimal\n",
        "value = 0o12345\n",
        "value"
      ],
      "metadata": {
        "colab": {
          "base_uri": "https://localhost:8080/"
        },
        "id": "XkXRuLD5pccO",
        "outputId": "d134227f-5447-4421-803c-569a625f8776"
      },
      "execution_count": null,
      "outputs": [
        {
          "output_type": "execute_result",
          "data": {
            "text/plain": [
              "5349"
            ]
          },
          "metadata": {},
          "execution_count": 24
        }
      ]
    },
    {
      "cell_type": "code",
      "source": [
        "#hexa to decimal\n",
        "value = 0x1234\n",
        "value"
      ],
      "metadata": {
        "colab": {
          "base_uri": "https://localhost:8080/"
        },
        "id": "2E49SdrNpw_C",
        "outputId": "3dea6f0d-1d57-4aa0-9aab-fc612b7e9b86"
      },
      "execution_count": null,
      "outputs": [
        {
          "output_type": "execute_result",
          "data": {
            "text/plain": [
              "4660"
            ]
          },
          "metadata": {},
          "execution_count": 25
        }
      ]
    },
    {
      "cell_type": "code",
      "source": [
        "#hexa to decimal\n",
        "value = 0x1abc\n",
        "value"
      ],
      "metadata": {
        "colab": {
          "base_uri": "https://localhost:8080/"
        },
        "id": "fbRiVh55qPSP",
        "outputId": "0d3fa75b-791b-49c1-be18-882f86240c58"
      },
      "execution_count": null,
      "outputs": [
        {
          "output_type": "execute_result",
          "data": {
            "text/plain": [
              "6844"
            ]
          },
          "metadata": {},
          "execution_count": 26
        }
      ]
    },
    {
      "cell_type": "markdown",
      "source": [
        "decimal to others"
      ],
      "metadata": {
        "id": "Xz0G7aOxr4XL"
      }
    },
    {
      "cell_type": "code",
      "source": [
        "print(bin(10))"
      ],
      "metadata": {
        "colab": {
          "base_uri": "https://localhost:8080/"
        },
        "id": "wKuGNiJsqb2h",
        "outputId": "af4043c0-ff9f-4653-85c3-6617bec55cfa"
      },
      "execution_count": null,
      "outputs": [
        {
          "output_type": "stream",
          "name": "stdout",
          "text": [
            "0b1010\n"
          ]
        }
      ]
    },
    {
      "cell_type": "code",
      "source": [
        "print(oct(10))"
      ],
      "metadata": {
        "colab": {
          "base_uri": "https://localhost:8080/"
        },
        "id": "de6Th_Urrvzd",
        "outputId": "40fba442-805b-4cd9-da14-3138b0588f64"
      },
      "execution_count": null,
      "outputs": [
        {
          "output_type": "stream",
          "name": "stdout",
          "text": [
            "0o12\n"
          ]
        }
      ]
    },
    {
      "cell_type": "code",
      "source": [
        "print(hex(10))"
      ],
      "metadata": {
        "colab": {
          "base_uri": "https://localhost:8080/"
        },
        "id": "bHDspnS5ryWs",
        "outputId": "e4436853-7275-425b-bb5b-87185a9b52f6"
      },
      "execution_count": null,
      "outputs": [
        {
          "output_type": "stream",
          "name": "stdout",
          "text": [
            "0xa\n"
          ]
        }
      ]
    },
    {
      "cell_type": "code",
      "source": [
        "#e3 = 10**3\n",
        "num = 5.6e3\n",
        "num"
      ],
      "metadata": {
        "colab": {
          "base_uri": "https://localhost:8080/"
        },
        "id": "SfbT15Blr3Lc",
        "outputId": "028bb64f-e043-46fb-c109-c9286cdf6559"
      },
      "execution_count": null,
      "outputs": [
        {
          "output_type": "execute_result",
          "data": {
            "text/plain": [
              "5600.0"
            ]
          },
          "metadata": {},
          "execution_count": 30
        }
      ]
    },
    {
      "cell_type": "code",
      "source": [
        "num = 5.6e5\n",
        "num"
      ],
      "metadata": {
        "colab": {
          "base_uri": "https://localhost:8080/"
        },
        "id": "BApxSPx0K5EJ",
        "outputId": "6c600920-71ed-4f00-b0fc-f228da378239"
      },
      "execution_count": null,
      "outputs": [
        {
          "output_type": "execute_result",
          "data": {
            "text/plain": [
              "560000.0"
            ]
          },
          "metadata": {},
          "execution_count": 31
        }
      ]
    },
    {
      "cell_type": "code",
      "source": [
        "#complex datatype will end with j\n",
        "p = 5+6j"
      ],
      "metadata": {
        "id": "z9pHpZv2tCRr"
      },
      "execution_count": null,
      "outputs": []
    },
    {
      "cell_type": "code",
      "source": [
        "print(p.real)"
      ],
      "metadata": {
        "colab": {
          "base_uri": "https://localhost:8080/"
        },
        "id": "3MYEYEevtMWF",
        "outputId": "a8c9de3f-5b11-41c6-f8a2-cac38c0cb75f"
      },
      "execution_count": null,
      "outputs": [
        {
          "output_type": "stream",
          "name": "stdout",
          "text": [
            "5.0\n"
          ]
        }
      ]
    },
    {
      "cell_type": "code",
      "source": [
        "print(p.imag)"
      ],
      "metadata": {
        "colab": {
          "base_uri": "https://localhost:8080/"
        },
        "id": "4YFXJKlet3hd",
        "outputId": "05a4a987-7dac-4780-ab85-78ffcaa291df"
      },
      "execution_count": null,
      "outputs": [
        {
          "output_type": "stream",
          "name": "stdout",
          "text": [
            "6.0\n"
          ]
        }
      ]
    },
    {
      "cell_type": "code",
      "source": [
        "bool"
      ],
      "metadata": {
        "colab": {
          "base_uri": "https://localhost:8080/"
        },
        "id": "frpK0MOZuFnG",
        "outputId": "1986c084-7469-4762-e45b-c4e220c0802f"
      },
      "execution_count": null,
      "outputs": [
        {
          "output_type": "execute_result",
          "data": {
            "text/plain": [
              "bool"
            ]
          },
          "metadata": {},
          "execution_count": 35
        }
      ]
    },
    {
      "cell_type": "code",
      "source": [
        "mark1 = 90\n",
        "mark2 = 80\n",
        "print(mark1==mark2)"
      ],
      "metadata": {
        "colab": {
          "base_uri": "https://localhost:8080/"
        },
        "id": "tuSy9qzGuolm",
        "outputId": "93b7957a-ac93-4244-b2b6-94f34eaefb9e"
      },
      "execution_count": null,
      "outputs": [
        {
          "output_type": "stream",
          "name": "stdout",
          "text": [
            "False\n"
          ]
        }
      ]
    },
    {
      "cell_type": "code",
      "source": [
        "print(True+True)"
      ],
      "metadata": {
        "colab": {
          "base_uri": "https://localhost:8080/"
        },
        "id": "O8SnDSrxu60r",
        "outputId": "d42d53c2-98ed-4285-b93f-7524d9817bac"
      },
      "execution_count": null,
      "outputs": [
        {
          "output_type": "stream",
          "name": "stdout",
          "text": [
            "2\n"
          ]
        }
      ]
    },
    {
      "cell_type": "code",
      "source": [
        "print(False+False)"
      ],
      "metadata": {
        "colab": {
          "base_uri": "https://localhost:8080/"
        },
        "id": "7IoIJAxpvZJy",
        "outputId": "cd30c5c0-0460-4015-b201-abac98a2baa8"
      },
      "execution_count": null,
      "outputs": [
        {
          "output_type": "stream",
          "name": "stdout",
          "text": [
            "0\n"
          ]
        }
      ]
    },
    {
      "cell_type": "code",
      "source": [
        "print(False+True)"
      ],
      "metadata": {
        "colab": {
          "base_uri": "https://localhost:8080/"
        },
        "id": "6vOHEsaIvjOY",
        "outputId": "617bf485-f807-4e42-f82f-78ad3d7459de"
      },
      "execution_count": null,
      "outputs": [
        {
          "output_type": "stream",
          "name": "stdout",
          "text": [
            "1\n"
          ]
        }
      ]
    },
    {
      "cell_type": "code",
      "source": [
        "print(False+True)"
      ],
      "metadata": {
        "colab": {
          "base_uri": "https://localhost:8080/"
        },
        "id": "_FhfXCr3vnOc",
        "outputId": "0bde6734-8880-4b88-c63e-f353e0eea54b"
      },
      "execution_count": null,
      "outputs": [
        {
          "output_type": "stream",
          "name": "stdout",
          "text": [
            "1\n"
          ]
        }
      ]
    },
    {
      "cell_type": "code",
      "source": [
        "print('sedhu')"
      ],
      "metadata": {
        "colab": {
          "base_uri": "https://localhost:8080/"
        },
        "id": "58JVtm6vvpln",
        "outputId": "6d7e9052-137e-48ea-930f-6010720f5d87"
      },
      "execution_count": null,
      "outputs": [
        {
          "output_type": "stream",
          "name": "stdout",
          "text": [
            "sedhu\n"
          ]
        }
      ]
    },
    {
      "cell_type": "code",
      "source": [
        "name = 'sedhu'\n",
        "name"
      ],
      "metadata": {
        "colab": {
          "base_uri": "https://localhost:8080/",
          "height": 36
        },
        "id": "SH1JCBN_vuTz",
        "outputId": "444ef0f1-a524-4c8a-f90a-e9c5a083d3c7"
      },
      "execution_count": null,
      "outputs": [
        {
          "output_type": "execute_result",
          "data": {
            "text/plain": [
              "'sedhu'"
            ],
            "application/vnd.google.colaboratory.intrinsic+json": {
              "type": "string"
            }
          },
          "metadata": {},
          "execution_count": 42
        }
      ]
    },
    {
      "cell_type": "code",
      "source": [
        "address = '''spkovil \n",
        "saisri\n",
        "varinagar'''\n",
        "address"
      ],
      "metadata": {
        "colab": {
          "base_uri": "https://localhost:8080/",
          "height": 36
        },
        "id": "ARW_fhbdw6uR",
        "outputId": "f6132e6c-1124-4c46-95f7-3dc36af6f169"
      },
      "execution_count": null,
      "outputs": [
        {
          "output_type": "execute_result",
          "data": {
            "text/plain": [
              "'spkovil \\nsaisri\\nvarinagar'"
            ],
            "application/vnd.google.colaboratory.intrinsic+json": {
              "type": "string"
            }
          },
          "metadata": {},
          "execution_count": 43
        }
      ]
    },
    {
      "cell_type": "code",
      "source": [
        "address = '''spkovil \n",
        "saisri\n",
        "varinagar'''\n",
        "print(address)"
      ],
      "metadata": {
        "colab": {
          "base_uri": "https://localhost:8080/"
        },
        "id": "qLuMLGp4xd4h",
        "outputId": "397e0e6d-767e-4f9a-9323-b7d24561031a"
      },
      "execution_count": null,
      "outputs": [
        {
          "output_type": "stream",
          "name": "stdout",
          "text": [
            "spkovil \n",
            "saisri\n",
            "varinagar\n"
          ]
        }
      ]
    },
    {
      "cell_type": "code",
      "source": [
        "sent = 'sedhu.\\nspkovil\\ntamilnadu'\n",
        "print(sent)"
      ],
      "metadata": {
        "id": "PNCoCE3pQU6x",
        "colab": {
          "base_uri": "https://localhost:8080/"
        },
        "outputId": "c0551775-97c8-4fbe-ee64-dbcea385634e"
      },
      "execution_count": null,
      "outputs": [
        {
          "output_type": "stream",
          "name": "stdout",
          "text": [
            "sedhu.\n",
            "spkovil\n",
            "tamilnadu\n"
          ]
        }
      ]
    },
    {
      "cell_type": "code",
      "source": [
        "sent = \"sedhu doing 'python'\"\n",
        "print(sent)"
      ],
      "metadata": {
        "colab": {
          "base_uri": "https://localhost:8080/"
        },
        "id": "zAWIX2a1xmls",
        "outputId": "6a9e531a-e11b-4951-b3c1-5a2818494d4a"
      },
      "execution_count": null,
      "outputs": [
        {
          "output_type": "stream",
          "name": "stdout",
          "text": [
            "sedhu doing 'python'\n"
          ]
        }
      ]
    },
    {
      "cell_type": "code",
      "source": [
        "sent = ''''sedhu' doing \"python\"'''\n",
        "print(sent)"
      ],
      "metadata": {
        "colab": {
          "base_uri": "https://localhost:8080/"
        },
        "id": "ScbcopPJxwTv",
        "outputId": "21e57497-a4c3-4f08-f722-c2b5ebd09ab1"
      },
      "execution_count": null,
      "outputs": [
        {
          "output_type": "stream",
          "name": "stdout",
          "text": [
            "'sedhu' doing \"python\"\n"
          ]
        }
      ]
    },
    {
      "cell_type": "code",
      "source": [
        "#upload file\n",
        "sent = r'sedhu.\\nspkovil\\ntamilnadu'\n",
        "print(sent)"
      ],
      "metadata": {
        "colab": {
          "base_uri": "https://localhost:8080/"
        },
        "id": "jJOKdSC217GW",
        "outputId": "42b072be-2f10-4e30-8593-aff44db32570"
      },
      "execution_count": null,
      "outputs": [
        {
          "output_type": "stream",
          "name": "stdout",
          "text": [
            "sedhu.\\nspkovil\\ntamilnadu\n"
          ]
        }
      ]
    },
    {
      "cell_type": "code",
      "source": [
        "sent = 'sedhu\\tspkovil\\ttamilnadu'\n",
        "print(sent)"
      ],
      "metadata": {
        "colab": {
          "base_uri": "https://localhost:8080/"
        },
        "id": "x2whWfNx7FZu",
        "outputId": "f47dfcf9-a410-4e83-cfa0-fe019d377e2a"
      },
      "execution_count": null,
      "outputs": [
        {
          "output_type": "stream",
          "name": "stdout",
          "text": [
            "sedhu\tspkovil\ttamilnadu\n"
          ]
        }
      ]
    },
    {
      "cell_type": "code",
      "source": [
        "name = 'sedhu'\n",
        "name.upper()"
      ],
      "metadata": {
        "colab": {
          "base_uri": "https://localhost:8080/",
          "height": 36
        },
        "id": "d9NVg35F2sag",
        "outputId": "d352a8dc-0692-4a8b-ff60-230614dfaea9"
      },
      "execution_count": null,
      "outputs": [
        {
          "output_type": "execute_result",
          "data": {
            "text/plain": [
              "'SEDHU'"
            ],
            "application/vnd.google.colaboratory.intrinsic+json": {
              "type": "string"
            }
          },
          "metadata": {},
          "execution_count": 50
        }
      ]
    },
    {
      "cell_type": "code",
      "source": [
        "name = 'SEDhu'\n",
        "name.lower()"
      ],
      "metadata": {
        "colab": {
          "base_uri": "https://localhost:8080/",
          "height": 36
        },
        "id": "6PHhODmJ2_PN",
        "outputId": "08fe8b9a-89f2-4f87-8561-8d3af95fdf0a"
      },
      "execution_count": null,
      "outputs": [
        {
          "output_type": "execute_result",
          "data": {
            "text/plain": [
              "'sedhu'"
            ],
            "application/vnd.google.colaboratory.intrinsic+json": {
              "type": "string"
            }
          },
          "metadata": {},
          "execution_count": 51
        }
      ]
    },
    {
      "cell_type": "code",
      "source": [
        "sent = 'sedhu reading book'\n",
        "sent.title()"
      ],
      "metadata": {
        "colab": {
          "base_uri": "https://localhost:8080/",
          "height": 36
        },
        "id": "wDwk5AVD3E6C",
        "outputId": "142c05bb-4cce-419f-ff96-9f5466dc7a3c"
      },
      "execution_count": null,
      "outputs": [
        {
          "output_type": "execute_result",
          "data": {
            "text/plain": [
              "'Sedhu Reading Book'"
            ],
            "application/vnd.google.colaboratory.intrinsic+json": {
              "type": "string"
            }
          },
          "metadata": {},
          "execution_count": 52
        }
      ]
    },
    {
      "cell_type": "code",
      "source": [
        "print(sent[0])"
      ],
      "metadata": {
        "colab": {
          "base_uri": "https://localhost:8080/"
        },
        "id": "zS5AOkba3Rk6",
        "outputId": "2d13624b-2958-4895-d57b-1f1d3a8889a2"
      },
      "execution_count": null,
      "outputs": [
        {
          "output_type": "stream",
          "name": "stdout",
          "text": [
            "s\n"
          ]
        }
      ]
    },
    {
      "cell_type": "code",
      "source": [
        "sent[0]"
      ],
      "metadata": {
        "colab": {
          "base_uri": "https://localhost:8080/",
          "height": 36
        },
        "id": "ABYZE5GJ4UOh",
        "outputId": "fda57115-2ca5-4422-f273-997f6ca4986b"
      },
      "execution_count": null,
      "outputs": [
        {
          "output_type": "execute_result",
          "data": {
            "text/plain": [
              "'s'"
            ],
            "application/vnd.google.colaboratory.intrinsic+json": {
              "type": "string"
            }
          },
          "metadata": {},
          "execution_count": 54
        }
      ]
    },
    {
      "cell_type": "code",
      "source": [
        "sent[-2]"
      ],
      "metadata": {
        "colab": {
          "base_uri": "https://localhost:8080/",
          "height": 36
        },
        "id": "omKkabR94WxV",
        "outputId": "dd5f07fe-25b5-4bf0-827f-4422c6ef1a49"
      },
      "execution_count": null,
      "outputs": [
        {
          "output_type": "execute_result",
          "data": {
            "text/plain": [
              "'o'"
            ],
            "application/vnd.google.colaboratory.intrinsic+json": {
              "type": "string"
            }
          },
          "metadata": {},
          "execution_count": 55
        }
      ]
    },
    {
      "cell_type": "code",
      "source": [
        "sent[0:5]"
      ],
      "metadata": {
        "colab": {
          "base_uri": "https://localhost:8080/",
          "height": 36
        },
        "id": "ckZXE95j5PeD",
        "outputId": "6f3c4f98-d1f7-48f5-e193-3d22a97a2136"
      },
      "execution_count": null,
      "outputs": [
        {
          "output_type": "execute_result",
          "data": {
            "text/plain": [
              "'sedhu'"
            ],
            "application/vnd.google.colaboratory.intrinsic+json": {
              "type": "string"
            }
          },
          "metadata": {},
          "execution_count": 56
        }
      ]
    },
    {
      "cell_type": "code",
      "source": [
        "sent[:13]"
      ],
      "metadata": {
        "colab": {
          "base_uri": "https://localhost:8080/",
          "height": 36
        },
        "id": "cI0BsNjh7gLg",
        "outputId": "527794d3-6e68-4246-827d-6b95a15a8572"
      },
      "execution_count": null,
      "outputs": [
        {
          "output_type": "execute_result",
          "data": {
            "text/plain": [
              "'sedhu reading'"
            ],
            "application/vnd.google.colaboratory.intrinsic+json": {
              "type": "string"
            }
          },
          "metadata": {},
          "execution_count": 57
        }
      ]
    },
    {
      "cell_type": "code",
      "source": [
        "sent[5:]"
      ],
      "metadata": {
        "colab": {
          "base_uri": "https://localhost:8080/",
          "height": 36
        },
        "id": "GYNCc9Gs8Hs8",
        "outputId": "0211c7cc-6349-45b3-c7d6-658ca44fd31c"
      },
      "execution_count": null,
      "outputs": [
        {
          "output_type": "execute_result",
          "data": {
            "text/plain": [
              "' reading book'"
            ],
            "application/vnd.google.colaboratory.intrinsic+json": {
              "type": "string"
            }
          },
          "metadata": {},
          "execution_count": 58
        }
      ]
    },
    {
      "cell_type": "code",
      "source": [
        "sent[:]"
      ],
      "metadata": {
        "colab": {
          "base_uri": "https://localhost:8080/",
          "height": 36
        },
        "id": "VX4sdmpE8TB8",
        "outputId": "8786dd8c-1266-4a6a-c770-d4dafde2f564"
      },
      "execution_count": null,
      "outputs": [
        {
          "output_type": "execute_result",
          "data": {
            "text/plain": [
              "'sedhu reading book'"
            ],
            "application/vnd.google.colaboratory.intrinsic+json": {
              "type": "string"
            }
          },
          "metadata": {},
          "execution_count": 59
        }
      ]
    },
    {
      "cell_type": "code",
      "source": [
        "sent[-1:]"
      ],
      "metadata": {
        "colab": {
          "base_uri": "https://localhost:8080/",
          "height": 36
        },
        "id": "NhkmIgsV8VS6",
        "outputId": "edf45ae4-de0c-473c-9850-88f3a2b8d856"
      },
      "execution_count": null,
      "outputs": [
        {
          "output_type": "execute_result",
          "data": {
            "text/plain": [
              "'k'"
            ],
            "application/vnd.google.colaboratory.intrinsic+json": {
              "type": "string"
            }
          },
          "metadata": {},
          "execution_count": 60
        }
      ]
    },
    {
      "cell_type": "code",
      "source": [
        "sent[-4:]"
      ],
      "metadata": {
        "colab": {
          "base_uri": "https://localhost:8080/",
          "height": 36
        },
        "id": "Xy4Xfonp8wkV",
        "outputId": "3b9e5c01-c4db-4d2d-ccb4-659b8facbb76"
      },
      "execution_count": null,
      "outputs": [
        {
          "output_type": "execute_result",
          "data": {
            "text/plain": [
              "'book'"
            ],
            "application/vnd.google.colaboratory.intrinsic+json": {
              "type": "string"
            }
          },
          "metadata": {},
          "execution_count": 61
        }
      ]
    },
    {
      "cell_type": "code",
      "source": [
        "sent[-12:-5]"
      ],
      "metadata": {
        "colab": {
          "base_uri": "https://localhost:8080/",
          "height": 36
        },
        "id": "sS4pebjx9A7N",
        "outputId": "8d81aee4-a29c-4f1d-91e3-e3e14df7c064"
      },
      "execution_count": null,
      "outputs": [
        {
          "output_type": "execute_result",
          "data": {
            "text/plain": [
              "'reading'"
            ],
            "application/vnd.google.colaboratory.intrinsic+json": {
              "type": "string"
            }
          },
          "metadata": {},
          "execution_count": 62
        }
      ]
    },
    {
      "cell_type": "code",
      "source": [
        "sent[0:-5]"
      ],
      "metadata": {
        "colab": {
          "base_uri": "https://localhost:8080/",
          "height": 36
        },
        "id": "NTB5Ny_o9sX4",
        "outputId": "d863841c-d519-446b-815c-66ca6e68e7c2"
      },
      "execution_count": null,
      "outputs": [
        {
          "output_type": "execute_result",
          "data": {
            "text/plain": [
              "'sedhu reading'"
            ],
            "application/vnd.google.colaboratory.intrinsic+json": {
              "type": "string"
            }
          },
          "metadata": {},
          "execution_count": 63
        }
      ]
    },
    {
      "cell_type": "code",
      "source": [
        "sent[::2]"
      ],
      "metadata": {
        "colab": {
          "base_uri": "https://localhost:8080/",
          "height": 36
        },
        "id": "pjCZUg_f98Sc",
        "outputId": "5dc1e364-04c3-4d21-f1d2-51a7e4f56e40"
      },
      "execution_count": null,
      "outputs": [
        {
          "output_type": "execute_result",
          "data": {
            "text/plain": [
              "'sduraigbo'"
            ],
            "application/vnd.google.colaboratory.intrinsic+json": {
              "type": "string"
            }
          },
          "metadata": {},
          "execution_count": 64
        }
      ]
    },
    {
      "cell_type": "code",
      "source": [
        "print(sent[0:5].upper())"
      ],
      "metadata": {
        "colab": {
          "base_uri": "https://localhost:8080/"
        },
        "id": "OHjjrL78-RMM",
        "outputId": "831bbc28-dc90-4bd2-f630-d0d6ecbffe5d"
      },
      "execution_count": null,
      "outputs": [
        {
          "output_type": "stream",
          "name": "stdout",
          "text": [
            "SEDHU\n"
          ]
        }
      ]
    },
    {
      "cell_type": "code",
      "source": [
        "print(sent[5:])"
      ],
      "metadata": {
        "colab": {
          "base_uri": "https://localhost:8080/"
        },
        "id": "oP1sK_KpCHk0",
        "outputId": "4f6229ab-aa24-46a9-cd11-d0bb152635bd"
      },
      "execution_count": null,
      "outputs": [
        {
          "output_type": "stream",
          "name": "stdout",
          "text": [
            " reading book\n"
          ]
        }
      ]
    },
    {
      "cell_type": "code",
      "source": [
        "print(sent[0:5].upper()+sent[5:])"
      ],
      "metadata": {
        "colab": {
          "base_uri": "https://localhost:8080/"
        },
        "id": "dixSot6lCWTm",
        "outputId": "8a4980cf-6b50-4587-e410-99dc871cd516"
      },
      "execution_count": null,
      "outputs": [
        {
          "output_type": "stream",
          "name": "stdout",
          "text": [
            "SEDHU reading book\n"
          ]
        }
      ]
    },
    {
      "cell_type": "code",
      "source": [
        "len(sent)"
      ],
      "metadata": {
        "colab": {
          "base_uri": "https://localhost:8080/"
        },
        "id": "c4ckxTYTCddR",
        "outputId": "3505a8fe-aa0a-425c-df56-9b83742a94cd"
      },
      "execution_count": null,
      "outputs": [
        {
          "output_type": "execute_result",
          "data": {
            "text/plain": [
              "18"
            ]
          },
          "metadata": {},
          "execution_count": 68
        }
      ]
    },
    {
      "cell_type": "code",
      "source": [
        "print(sent[0].upper()+sent[1:len(sent)-1]+sent[-1].upper())"
      ],
      "metadata": {
        "colab": {
          "base_uri": "https://localhost:8080/"
        },
        "id": "_DVBmhJuFBem",
        "outputId": "38b5607a-951b-4d0f-8a5a-5dcc0b9e798d"
      },
      "execution_count": null,
      "outputs": [
        {
          "output_type": "stream",
          "name": "stdout",
          "text": [
            "Sedhu reading booK\n"
          ]
        }
      ]
    },
    {
      "cell_type": "code",
      "source": [
        "print('ab'+'cd')"
      ],
      "metadata": {
        "colab": {
          "base_uri": "https://localhost:8080/"
        },
        "id": "j4QK047cFkE4",
        "outputId": "2f174b8d-4689-4ad1-cf4c-d5f64913fdf9"
      },
      "execution_count": null,
      "outputs": [
        {
          "output_type": "stream",
          "name": "stdout",
          "text": [
            "abcd\n"
          ]
        }
      ]
    },
    {
      "cell_type": "code",
      "source": [
        "print('ab'+'9')"
      ],
      "metadata": {
        "colab": {
          "base_uri": "https://localhost:8080/"
        },
        "id": "TNmfEeYfHKqt",
        "outputId": "2759abc0-0163-40a3-f46a-dbe8420c4f80"
      },
      "execution_count": null,
      "outputs": [
        {
          "output_type": "stream",
          "name": "stdout",
          "text": [
            "ab9\n"
          ]
        }
      ]
    },
    {
      "cell_type": "code",
      "source": [
        "print('ab '+'9')"
      ],
      "metadata": {
        "colab": {
          "base_uri": "https://localhost:8080/"
        },
        "id": "8w2ITBHeHQBD",
        "outputId": "f317b887-8c62-4e39-9c4a-aa0a864cc03d"
      },
      "execution_count": null,
      "outputs": [
        {
          "output_type": "stream",
          "name": "stdout",
          "text": [
            "ab 9\n"
          ]
        }
      ]
    },
    {
      "cell_type": "code",
      "source": [
        "print('ab '* 9)"
      ],
      "metadata": {
        "colab": {
          "base_uri": "https://localhost:8080/"
        },
        "id": "IWAGY2R2Hfoy",
        "outputId": "9f156ef2-6383-4705-8897-5d9d8f9c7767"
      },
      "execution_count": null,
      "outputs": [
        {
          "output_type": "stream",
          "name": "stdout",
          "text": [
            "ab ab ab ab ab ab ab ab ab \n"
          ]
        }
      ]
    },
    {
      "cell_type": "code",
      "source": [
        "'ab '* 9"
      ],
      "metadata": {
        "colab": {
          "base_uri": "https://localhost:8080/",
          "height": 36
        },
        "id": "xY37eDHeHoMP",
        "outputId": "031350e7-bbdc-4e3e-8436-e86a1120b37c"
      },
      "execution_count": null,
      "outputs": [
        {
          "output_type": "execute_result",
          "data": {
            "text/plain": [
              "'ab ab ab ab ab ab ab ab ab '"
            ],
            "application/vnd.google.colaboratory.intrinsic+json": {
              "type": "string"
            }
          },
          "metadata": {},
          "execution_count": 74
        }
      ]
    },
    {
      "cell_type": "code",
      "source": [
        "name = 'sedhu'\n",
        "'e' in name"
      ],
      "metadata": {
        "colab": {
          "base_uri": "https://localhost:8080/"
        },
        "id": "lYFaLgA2Huw2",
        "outputId": "7b54fc5c-140f-40b9-b4f9-f7f444a3b667"
      },
      "execution_count": null,
      "outputs": [
        {
          "output_type": "execute_result",
          "data": {
            "text/plain": [
              "True"
            ]
          },
          "metadata": {},
          "execution_count": 75
        }
      ]
    },
    {
      "cell_type": "code",
      "source": [
        "'k' in name"
      ],
      "metadata": {
        "colab": {
          "base_uri": "https://localhost:8080/"
        },
        "id": "xFjhz3LpIaNJ",
        "outputId": "2bfaac29-3136-4f54-fad6-ce6b46e5fb9c"
      },
      "execution_count": null,
      "outputs": [
        {
          "output_type": "execute_result",
          "data": {
            "text/plain": [
              "False"
            ]
          },
          "metadata": {},
          "execution_count": 76
        }
      ]
    },
    {
      "cell_type": "code",
      "source": [
        "first = 100\n",
        "second = 50.5\n",
        "total = first+second"
      ],
      "metadata": {
        "id": "rZSoDLbIIjfm"
      },
      "execution_count": null,
      "outputs": []
    },
    {
      "cell_type": "code",
      "source": [
        "total"
      ],
      "metadata": {
        "colab": {
          "base_uri": "https://localhost:8080/"
        },
        "id": "9aYf07y5JhdV",
        "outputId": "97303d04-70f3-466e-ac14-02dcf9d76bdd"
      },
      "execution_count": null,
      "outputs": [
        {
          "output_type": "execute_result",
          "data": {
            "text/plain": [
              "150.5"
            ]
          },
          "metadata": {},
          "execution_count": 78
        }
      ]
    },
    {
      "cell_type": "code",
      "source": [
        "avg = total/2\n",
        "avg"
      ],
      "metadata": {
        "colab": {
          "base_uri": "https://localhost:8080/"
        },
        "id": "m0jFiMFoJizh",
        "outputId": "32290761-fb38-4122-f1f4-37ab470d1822"
      },
      "execution_count": null,
      "outputs": [
        {
          "output_type": "execute_result",
          "data": {
            "text/plain": [
              "75.25"
            ]
          },
          "metadata": {},
          "execution_count": 79
        }
      ]
    },
    {
      "cell_type": "code",
      "source": [
        "print(int(avg))"
      ],
      "metadata": {
        "colab": {
          "base_uri": "https://localhost:8080/"
        },
        "id": "Wc_YUt5kJnMd",
        "outputId": "41d5f14c-be6d-48f5-8412-eec1a14accff"
      },
      "execution_count": null,
      "outputs": [
        {
          "output_type": "stream",
          "name": "stdout",
          "text": [
            "75\n"
          ]
        }
      ]
    },
    {
      "cell_type": "code",
      "source": [
        "print('your average is '+ str(avg))"
      ],
      "metadata": {
        "colab": {
          "base_uri": "https://localhost:8080/"
        },
        "id": "0xdHy7wwKWm9",
        "outputId": "ee29e6bf-2f03-415d-8398-423adbefc9d0"
      },
      "execution_count": null,
      "outputs": [
        {
          "output_type": "stream",
          "name": "stdout",
          "text": [
            "your average is 75.25\n"
          ]
        }
      ]
    },
    {
      "cell_type": "code",
      "source": [
        "print('your average is', avg)"
      ],
      "metadata": {
        "colab": {
          "base_uri": "https://localhost:8080/"
        },
        "id": "38i7T-lNJsJ9",
        "outputId": "7e5fc457-a5e6-48ac-bc1b-703ec055648b"
      },
      "execution_count": null,
      "outputs": [
        {
          "output_type": "stream",
          "name": "stdout",
          "text": [
            "your average is 75.25\n"
          ]
        }
      ]
    },
    {
      "cell_type": "code",
      "source": [
        "a = 1\n",
        "bool(a)"
      ],
      "metadata": {
        "colab": {
          "base_uri": "https://localhost:8080/"
        },
        "id": "jvq2rw7GKOn4",
        "outputId": "e0ceac9f-57d4-49de-bf58-df1fdb99e16a"
      },
      "execution_count": null,
      "outputs": [
        {
          "output_type": "execute_result",
          "data": {
            "text/plain": [
              "True"
            ]
          },
          "metadata": {},
          "execution_count": 83
        }
      ]
    },
    {
      "cell_type": "code",
      "source": [
        "a = 0\n",
        "bool(a)"
      ],
      "metadata": {
        "colab": {
          "base_uri": "https://localhost:8080/"
        },
        "id": "PJGLX6xbLsh_",
        "outputId": "04b4a10e-096b-4aeb-ef72-3844ac7e3b33"
      },
      "execution_count": null,
      "outputs": [
        {
          "output_type": "execute_result",
          "data": {
            "text/plain": [
              "False"
            ]
          },
          "metadata": {},
          "execution_count": 84
        }
      ]
    },
    {
      "cell_type": "code",
      "source": [
        "a = 1234\n",
        "bool(a)"
      ],
      "metadata": {
        "colab": {
          "base_uri": "https://localhost:8080/"
        },
        "id": "mjH6MJm8L5Tx",
        "outputId": "857f80d6-832d-4d88-a569-336aed7c1e04"
      },
      "execution_count": null,
      "outputs": [
        {
          "output_type": "execute_result",
          "data": {
            "text/plain": [
              "True"
            ]
          },
          "metadata": {},
          "execution_count": 85
        }
      ]
    },
    {
      "cell_type": "code",
      "source": [
        "a = True\n",
        "int(a)"
      ],
      "metadata": {
        "colab": {
          "base_uri": "https://localhost:8080/"
        },
        "id": "fpwe7ie6MBJY",
        "outputId": "d818b3a4-a06f-49c3-8fc7-61594595c06f"
      },
      "execution_count": null,
      "outputs": [
        {
          "output_type": "execute_result",
          "data": {
            "text/plain": [
              "1"
            ]
          },
          "metadata": {},
          "execution_count": 86
        }
      ]
    },
    {
      "cell_type": "code",
      "source": [
        "a = True\n",
        "float(a)"
      ],
      "metadata": {
        "colab": {
          "base_uri": "https://localhost:8080/"
        },
        "id": "OqNRsQEDMN0P",
        "outputId": "e1711d87-0589-4e9f-f5a4-e2dfdb9f53f2"
      },
      "execution_count": null,
      "outputs": [
        {
          "output_type": "execute_result",
          "data": {
            "text/plain": [
              "1.0"
            ]
          },
          "metadata": {},
          "execution_count": 87
        }
      ]
    },
    {
      "cell_type": "code",
      "source": [
        "a = 'asdf'\n",
        "bool(a)"
      ],
      "metadata": {
        "colab": {
          "base_uri": "https://localhost:8080/"
        },
        "id": "MEc1HiCAMRiG",
        "outputId": "c10f27f0-285e-43e0-937a-5a421bc9e3b1"
      },
      "execution_count": null,
      "outputs": [
        {
          "output_type": "execute_result",
          "data": {
            "text/plain": [
              "True"
            ]
          },
          "metadata": {},
          "execution_count": 88
        }
      ]
    },
    {
      "cell_type": "code",
      "source": [
        "a = ''\n",
        "bool(a)"
      ],
      "metadata": {
        "colab": {
          "base_uri": "https://localhost:8080/"
        },
        "id": "yZsaj_CoMk0l",
        "outputId": "7df7563b-bd4f-41ea-d3db-f34ac7c6ac51"
      },
      "execution_count": null,
      "outputs": [
        {
          "output_type": "execute_result",
          "data": {
            "text/plain": [
              "False"
            ]
          },
          "metadata": {},
          "execution_count": 89
        }
      ]
    },
    {
      "cell_type": "code",
      "source": [
        "complex(5,5)"
      ],
      "metadata": {
        "colab": {
          "base_uri": "https://localhost:8080/"
        },
        "id": "GqFpTw_rMqGH",
        "outputId": "6bd0178f-8b4f-4efc-9d0c-9af2726a7b79"
      },
      "execution_count": null,
      "outputs": [
        {
          "output_type": "execute_result",
          "data": {
            "text/plain": [
              "(5+5j)"
            ]
          },
          "metadata": {},
          "execution_count": 90
        }
      ]
    },
    {
      "cell_type": "code",
      "source": [
        "complex(5)"
      ],
      "metadata": {
        "colab": {
          "base_uri": "https://localhost:8080/"
        },
        "id": "518p7jPMONJV",
        "outputId": "2f9661a0-d4ea-4434-8d68-610208f087b4"
      },
      "execution_count": null,
      "outputs": [
        {
          "output_type": "execute_result",
          "data": {
            "text/plain": [
              "(5+0j)"
            ]
          },
          "metadata": {},
          "execution_count": 91
        }
      ]
    },
    {
      "cell_type": "code",
      "source": [
        "complex(True,True)"
      ],
      "metadata": {
        "colab": {
          "base_uri": "https://localhost:8080/"
        },
        "id": "jtwuCQwbOR8o",
        "outputId": "0736fac5-f60f-43d6-c216-a39b2ecd4a9d"
      },
      "execution_count": null,
      "outputs": [
        {
          "output_type": "execute_result",
          "data": {
            "text/plain": [
              "(1+1j)"
            ]
          },
          "metadata": {},
          "execution_count": 92
        }
      ]
    },
    {
      "cell_type": "code",
      "source": [
        "mark = int(input('enter your mark: '))\n",
        "if mark>80:\n",
        "  print('good')\n",
        "elif mark>60:\n",
        "  print('better')\n",
        "else:\n",
        "  print('parctise well')  "
      ],
      "metadata": {
        "colab": {
          "base_uri": "https://localhost:8080/"
        },
        "id": "1o14rGGdOXgm",
        "outputId": "dede4cb5-e936-4b75-ce1a-833702244e19"
      },
      "execution_count": null,
      "outputs": [
        {
          "output_type": "stream",
          "name": "stdout",
          "text": [
            "enter your mark: 66\n",
            "better\n"
          ]
        }
      ]
    },
    {
      "cell_type": "code",
      "source": [
        "mark1 = int(input('enter your mark one: '))\n",
        "mark2 = int(input('enter your mark two: '))\n",
        "if mark1==mark2:\n",
        "  print('both are same')\n",
        "elif mark1<mark2:\n",
        "  print('mark2 is greater than mark1')\n",
        "else:\n",
        "  print('mark1 is greater than mark2')    "
      ],
      "metadata": {
        "id": "Ttu2lo6_QZMK",
        "colab": {
          "base_uri": "https://localhost:8080/"
        },
        "outputId": "f72e7258-c342-42b8-db16-268abc89f2be"
      },
      "execution_count": null,
      "outputs": [
        {
          "output_type": "stream",
          "name": "stdout",
          "text": [
            "enter your mark one: 77\n",
            "enter your mark two: 90\n",
            "mark2 is greater than mark1\n"
          ]
        }
      ]
    },
    {
      "cell_type": "markdown",
      "source": [
        "converting .py program into byte is known as interpreting time and converting byte code into binary code is known as running time or execution time"
      ],
      "metadata": {
        "id": "5qk3sRufSN9y"
      }
    },
    {
      "cell_type": "code",
      "source": [
        "#nested if\n",
        "age = int(input('please enter your age: '))\n",
        "citizen = input('please enter your nationality: ').lower()\n",
        "if age >=5:\n",
        "  if citizen == 'indian':\n",
        "    print('you are eligible for aadhar')\n",
        "  else:\n",
        "    print('other nationalities are not eligible for aadhar') \n",
        "else:\n",
        "  print('minimum age critirea is 5yrs old')   "
      ],
      "metadata": {
        "colab": {
          "base_uri": "https://localhost:8080/"
        },
        "id": "CHrTM4zISQ1v",
        "outputId": "9ad78ea6-6f26-426e-e10a-a1473295e1d3"
      },
      "execution_count": null,
      "outputs": [
        {
          "output_type": "stream",
          "name": "stdout",
          "text": [
            "please enter your age: 4\n",
            "please enter your nationality: indian\n",
            "minimum age critirea is 5yrs old\n"
          ]
        }
      ]
    },
    {
      "cell_type": "code",
      "source": [
        "age = int(input('please enter your age: '))\n",
        "if age >=5:\n",
        "  citizen = input('please enter your nationality: ').lower()\n",
        "  if citizen == 'indian':\n",
        "    print('you are eligible for aadhar')\n",
        "  else:\n",
        "    print('other nationalities are not eligible for aadhar') \n",
        "else:\n",
        "  print('minimum age critirea is 5yrs old')  "
      ],
      "metadata": {
        "colab": {
          "base_uri": "https://localhost:8080/"
        },
        "id": "2-cmFoEuZWeU",
        "outputId": "c7144422-289a-4594-e4f1-78619df656c1"
      },
      "execution_count": 1,
      "outputs": [
        {
          "output_type": "stream",
          "name": "stdout",
          "text": [
            "please enter your age: 4\n",
            "minimum age critirea is 5yrs old\n"
          ]
        }
      ]
    },
    {
      "cell_type": "code",
      "source": [
        "word = input('please enter your name: ')\n",
        "print(sorted(word))"
      ],
      "metadata": {
        "colab": {
          "base_uri": "https://localhost:8080/"
        },
        "id": "-88wUl8IaShh",
        "outputId": "8f4a9a24-d491-42e1-8c17-4371c4ce1706"
      },
      "execution_count": null,
      "outputs": [
        {
          "output_type": "stream",
          "name": "stdout",
          "text": [
            "please enter your name: sedhu\n",
            "['d', 'e', 'h', 's', 'u']\n"
          ]
        }
      ]
    },
    {
      "cell_type": "code",
      "source": [
        "word = input('please enter your name: ')\n",
        "print(sorted(word))"
      ],
      "metadata": {
        "colab": {
          "base_uri": "https://localhost:8080/"
        },
        "id": "Xuciw0lUda_Y",
        "outputId": "96b51a98-b7f2-43dc-a654-9792c55d03e9"
      },
      "execution_count": null,
      "outputs": [
        {
          "output_type": "stream",
          "name": "stdout",
          "text": [
            "please enter your name: vicky\n",
            "['c', 'i', 'k', 'v', 'y']\n"
          ]
        }
      ]
    },
    {
      "cell_type": "code",
      "source": [
        "word1 = sorted(input())\n",
        "word2 = sorted(input())\n",
        "word3 = sorted(input())\n",
        "if word1==word2 and word2==word3:\n",
        "  print('all are same')\n",
        "else:\n",
        "  print('not same')    "
      ],
      "metadata": {
        "colab": {
          "base_uri": "https://localhost:8080/"
        },
        "id": "l--iclyndyNX",
        "outputId": "05fff56b-b190-4050-a180-d52b98071593"
      },
      "execution_count": null,
      "outputs": [
        {
          "output_type": "stream",
          "name": "stdout",
          "text": [
            "come on\n",
            "come on \n",
            "go on\n",
            "not same\n"
          ]
        }
      ]
    },
    {
      "cell_type": "code",
      "source": [
        "mind = 11\n",
        "guess = int(input('guess a number between 1 and 20: '))\n",
        "if mind==guess:\n",
        "  print('your guess is right')\n",
        "elif guess<mind:\n",
        "  print('your guess is lesser')\n",
        "elif guess>mind:\n",
        "  print('your guess is higher')  "
      ],
      "metadata": {
        "colab": {
          "base_uri": "https://localhost:8080/"
        },
        "id": "KZ22QsfxhGzr",
        "outputId": "c5aee0a8-091e-4dfb-a2f8-9feb5c6b2447"
      },
      "execution_count": null,
      "outputs": [
        {
          "output_type": "stream",
          "name": "stdout",
          "text": [
            "guess a number between 1 and 20: 10\n",
            "your guess is lesser\n"
          ]
        }
      ]
    },
    {
      "cell_type": "code",
      "source": [
        "mind = 13\n",
        "match_not_found = True\n",
        "while match_not_found == True:\n",
        "  guess = int(input('guess a num between 1 and 20: '))\n",
        "  if mind==guess:\n",
        "    print('well done,your guess is right')\n",
        "    match_not_found = False\n",
        "  elif guess<mind:\n",
        "    print('your guess is lower')\n",
        "  else:\n",
        "    print('your guess is higher')    "
      ],
      "metadata": {
        "colab": {
          "base_uri": "https://localhost:8080/"
        },
        "id": "Z_Z8ylr6sloh",
        "outputId": "6f9e69fd-8df8-4b3c-adc5-68c0c79b16de"
      },
      "execution_count": null,
      "outputs": [
        {
          "output_type": "stream",
          "name": "stdout",
          "text": [
            "guess a num between 1 and 20: 11\n",
            "your guess is lower\n",
            "guess a num between 1 and 20: 12\n",
            "your guess is lower\n",
            "guess a num between 1 and 20: 13\n",
            "well done,your guess is right\n"
          ]
        }
      ]
    },
    {
      "cell_type": "code",
      "source": [
        "#printing 0 to 5\n",
        "num = 0\n",
        "while num<=5:\n",
        "  print(num)\n",
        "  num = num+1"
      ],
      "metadata": {
        "colab": {
          "base_uri": "https://localhost:8080/"
        },
        "id": "yvPwH5Qw6iGc",
        "outputId": "0d906905-7192-4c3f-ba26-beef25847468"
      },
      "execution_count": null,
      "outputs": [
        {
          "output_type": "stream",
          "name": "stdout",
          "text": [
            "0\n",
            "1\n",
            "2\n",
            "3\n",
            "4\n",
            "5\n"
          ]
        }
      ]
    },
    {
      "cell_type": "code",
      "source": [
        "#printing in descending order\n",
        "last = int(input('enter the number: '))\n",
        "while last >0:\n",
        "  print(last)\n",
        "  last = last-1"
      ],
      "metadata": {
        "colab": {
          "base_uri": "https://localhost:8080/"
        },
        "id": "TXRwp8MByaPK",
        "outputId": "5dfe5420-6acb-483c-9e89-ff25b6197f90"
      },
      "execution_count": null,
      "outputs": [
        {
          "output_type": "stream",
          "name": "stdout",
          "text": [
            "enter the number: 10\n",
            "10\n",
            "9\n",
            "8\n",
            "7\n",
            "6\n",
            "5\n",
            "4\n",
            "3\n",
            "2\n",
            "1\n"
          ]
        }
      ]
    },
    {
      "cell_type": "code",
      "source": [
        "#printing in ascending order\n",
        "first = 1\n",
        "last = int(input('enter the number: '))\n",
        "while first<=last:\n",
        "  print(first)\n",
        "  first= first+1  "
      ],
      "metadata": {
        "colab": {
          "base_uri": "https://localhost:8080/"
        },
        "id": "Ef_19SXW2E_K",
        "outputId": "f40e0084-d431-4633-f006-a9071069062e"
      },
      "execution_count": null,
      "outputs": [
        {
          "output_type": "stream",
          "name": "stdout",
          "text": [
            "enter the number: 6\n",
            "1\n",
            "2\n",
            "3\n",
            "4\n",
            "5\n",
            "6\n"
          ]
        }
      ]
    },
    {
      "cell_type": "code",
      "source": [
        "first = 0\n",
        "while first<=10:\n",
        "  print(first)\n",
        "  first=first+2"
      ],
      "metadata": {
        "colab": {
          "base_uri": "https://localhost:8080/"
        },
        "id": "dl4JH7Ic4IXC",
        "outputId": "68a8675e-2f05-4b40-b9be-df23ab4bc97f"
      },
      "execution_count": null,
      "outputs": [
        {
          "output_type": "stream",
          "name": "stdout",
          "text": [
            "0\n",
            "2\n",
            "4\n",
            "6\n",
            "8\n",
            "10\n"
          ]
        }
      ]
    },
    {
      "cell_type": "code",
      "source": [
        "first = 0\n",
        "while first<=10:\n",
        "  print(first)\n",
        "  first=first+3"
      ],
      "metadata": {
        "colab": {
          "base_uri": "https://localhost:8080/"
        },
        "id": "q8wqM6qE7eBs",
        "outputId": "48f915f6-8827-4bf2-f6c3-745e289e752f"
      },
      "execution_count": null,
      "outputs": [
        {
          "output_type": "stream",
          "name": "stdout",
          "text": [
            "0\n",
            "3\n",
            "6\n",
            "9\n"
          ]
        }
      ]
    },
    {
      "cell_type": "code",
      "source": [
        "first = 1\n",
        "last = 20\n",
        "while first<=last:\n",
        "  if (first%3) == 0:\n",
        "    print(first)\n",
        "  first = first+1 "
      ],
      "metadata": {
        "colab": {
          "base_uri": "https://localhost:8080/"
        },
        "id": "KXt1tx6773b1",
        "outputId": "7a76c097-c251-4f5e-c62a-37458db4a642"
      },
      "execution_count": null,
      "outputs": [
        {
          "output_type": "stream",
          "name": "stdout",
          "text": [
            "3\n",
            "6\n",
            "9\n",
            "12\n",
            "15\n",
            "18\n"
          ]
        }
      ]
    },
    {
      "cell_type": "code",
      "source": [
        "first = 1\n",
        "while first<=30:\n",
        "  print(first)\n",
        "  first=first*3"
      ],
      "metadata": {
        "colab": {
          "base_uri": "https://localhost:8080/"
        },
        "id": "RkA6YByw9QNY",
        "outputId": "1254cb39-6331-43a2-a577-465f208d0598"
      },
      "execution_count": null,
      "outputs": [
        {
          "output_type": "stream",
          "name": "stdout",
          "text": [
            "1\n",
            "3\n",
            "9\n",
            "27\n"
          ]
        }
      ]
    },
    {
      "cell_type": "code",
      "source": [
        "first = 1\n",
        "last = 30\n",
        "while first<=last:\n",
        "  if (first%3) == 0 and (first%2) == 0:\n",
        "    print(first)\n",
        "  first = first+1"
      ],
      "metadata": {
        "colab": {
          "base_uri": "https://localhost:8080/"
        },
        "id": "HTvP88SsA-aa",
        "outputId": "eaca6cca-6bf0-498d-99cb-133e30785252"
      },
      "execution_count": null,
      "outputs": [
        {
          "output_type": "stream",
          "name": "stdout",
          "text": [
            "6\n",
            "12\n",
            "18\n",
            "24\n",
            "30\n"
          ]
        }
      ]
    },
    {
      "cell_type": "code",
      "source": [
        "num = 1\n",
        "last = 100\n",
        "total = 0\n",
        "while num<=last:\n",
        "  total = total + num\n",
        "  num = num+1\n",
        "print(total)"
      ],
      "metadata": {
        "colab": {
          "base_uri": "https://localhost:8080/"
        },
        "id": "28KBYJKPCw9-",
        "outputId": "65c08ead-779c-4bde-906e-98e95b7141aa"
      },
      "execution_count": null,
      "outputs": [
        {
          "output_type": "stream",
          "name": "stdout",
          "text": [
            "5050\n"
          ]
        }
      ]
    },
    {
      "cell_type": "code",
      "source": [
        "num = 1\n",
        "last = 100\n",
        "total = 1\n",
        "while num<=last:\n",
        "  total = total * num\n",
        "  num = num+1\n",
        "print(total)"
      ],
      "metadata": {
        "colab": {
          "base_uri": "https://localhost:8080/"
        },
        "id": "ElrbK2SCFVs_",
        "outputId": "883e2373-2e4b-4a99-fe56-8c9034aeccbb"
      },
      "execution_count": null,
      "outputs": [
        {
          "output_type": "stream",
          "name": "stdout",
          "text": [
            "93326215443944152681699238856266700490715968264381621468592963895217599993229915608941463976156518286253697920827223758251185210916864000000000000000000000000\n"
          ]
        }
      ]
    },
    {
      "cell_type": "code",
      "source": [
        "number = 0\n",
        "while number<10:\n",
        "  number = number+1\n",
        "  if number==5:\n",
        "    break\n",
        "  print(number)"
      ],
      "metadata": {
        "colab": {
          "base_uri": "https://localhost:8080/"
        },
        "id": "AK3nacQzIpcb",
        "outputId": "c89a0661-8127-4ecc-9c79-954388b5984e"
      },
      "execution_count": null,
      "outputs": [
        {
          "output_type": "stream",
          "name": "stdout",
          "text": [
            "1\n",
            "2\n",
            "3\n",
            "4\n"
          ]
        }
      ]
    },
    {
      "cell_type": "code",
      "source": [
        "number = 0\n",
        "while number<10:\n",
        "  number = number+1\n",
        "  if number==5:\n",
        "    continue\n",
        "  print(number)"
      ],
      "metadata": {
        "colab": {
          "base_uri": "https://localhost:8080/"
        },
        "id": "TZCQ6htNLxLc",
        "outputId": "ccecf0e6-5dae-4b30-b00a-91d104f96ea0"
      },
      "execution_count": null,
      "outputs": [
        {
          "output_type": "stream",
          "name": "stdout",
          "text": [
            "1\n",
            "2\n",
            "3\n",
            "4\n",
            "6\n",
            "7\n",
            "8\n",
            "9\n",
            "10\n"
          ]
        }
      ]
    },
    {
      "cell_type": "code",
      "source": [
        "word = input('enter any word: ')\n",
        "num = 0\n",
        "while num <len(word):\n",
        "  print(word[num])\n",
        "  num = num+1\n",
        "print(num)  "
      ],
      "metadata": {
        "id": "0dxBemkvNArh",
        "colab": {
          "base_uri": "https://localhost:8080/"
        },
        "outputId": "8c05124b-d7f1-410f-b738-dcd59f35cdc6"
      },
      "execution_count": null,
      "outputs": [
        {
          "output_type": "stream",
          "name": "stdout",
          "text": [
            "enter any word: sedhu\n",
            "s\n",
            "e\n",
            "d\n",
            "h\n",
            "u\n",
            "5\n"
          ]
        }
      ]
    },
    {
      "cell_type": "code",
      "source": [
        "word = input('enter the word: ')\n",
        "num = 0\n",
        "while num<len(word):\n",
        "  if word[num]== 'a'or word[num]=='e'or word[num]=='i'or word[num]=='o'or word[num]=='u':\n",
        "    print(word[num])\n",
        "  num = num+1"
      ],
      "metadata": {
        "colab": {
          "base_uri": "https://localhost:8080/"
        },
        "id": "qyx0bmNCk-R5",
        "outputId": "b81e62f1-6de8-48fc-a9b8-1865c49f0def"
      },
      "execution_count": null,
      "outputs": [
        {
          "output_type": "stream",
          "name": "stdout",
          "text": [
            "enter the word: sedhu\n",
            "e\n",
            "u\n"
          ]
        }
      ]
    },
    {
      "cell_type": "code",
      "source": [
        "word = input('enter the word: ')\n",
        "num = 0\n",
        "count = 0\n",
        "while num<len(word):\n",
        "  if word[num].lower() in ['a','e','i','o','u']:\n",
        "    print(word[num])\n",
        "    count = count+1\n",
        "  num = num+1\n",
        "print('no.of vowels:',count)"
      ],
      "metadata": {
        "colab": {
          "base_uri": "https://localhost:8080/"
        },
        "id": "BCdi10IolbpV",
        "outputId": "e42c6946-7837-4d67-de1b-b14b0716e8c1"
      },
      "execution_count": null,
      "outputs": [
        {
          "output_type": "stream",
          "name": "stdout",
          "text": [
            "enter the word: sedhu\n",
            "e\n",
            "u\n",
            "no.of vowels: 2\n"
          ]
        }
      ]
    },
    {
      "cell_type": "code",
      "source": [
        "no = 1\n",
        "while no<5:\n",
        "  print(no)\n",
        "  no = no+1\n",
        "else:\n",
        "  print('hi',no)"
      ],
      "metadata": {
        "colab": {
          "base_uri": "https://localhost:8080/"
        },
        "id": "GhTq041zp2h3",
        "outputId": "8a450a03-927e-47c0-921d-194b96bf33fa"
      },
      "execution_count": null,
      "outputs": [
        {
          "output_type": "stream",
          "name": "stdout",
          "text": [
            "1\n",
            "2\n",
            "3\n",
            "4\n",
            "hi 5\n"
          ]
        }
      ]
    },
    {
      "cell_type": "code",
      "source": [
        "name = 'kumaran'\n",
        "person = input('enter your name: ').lower()\n",
        "if name==person:\n",
        "  print('you are welcome')\n",
        "else:\n",
        "  print('sorry you are not the person')  "
      ],
      "metadata": {
        "colab": {
          "base_uri": "https://localhost:8080/"
        },
        "id": "5kT_KuQ3sf--",
        "outputId": "fad53a12-db68-483c-e2f0-095d627b4349"
      },
      "execution_count": null,
      "outputs": [
        {
          "output_type": "stream",
          "name": "stdout",
          "text": [
            "enter your name: kumar\n",
            "sorry you are not the person\n"
          ]
        }
      ]
    },
    {
      "cell_type": "code",
      "source": [
        "name = 'kumaran'\n",
        "person = ''\n",
        "while name!=person:\n",
        "  person = input('please tell your name: ').lower()\n",
        "else:\n",
        "  print('you are welcome')  "
      ],
      "metadata": {
        "colab": {
          "base_uri": "https://localhost:8080/"
        },
        "id": "fWcjigGXvgls",
        "outputId": "c2299aa2-516a-4b5c-ff9a-df0d44a36233"
      },
      "execution_count": null,
      "outputs": [
        {
          "output_type": "stream",
          "name": "stdout",
          "text": [
            "please tell your name: suresh\n",
            "please tell your name: kumaran\n",
            "you are welcome\n"
          ]
        }
      ]
    },
    {
      "cell_type": "code",
      "source": [
        "name = 'kumaran'\n",
        "i = 0\n",
        "while i <len(name):\n",
        "  print(name[i],end='-')\n",
        "  i = i+1"
      ],
      "metadata": {
        "colab": {
          "base_uri": "https://localhost:8080/"
        },
        "id": "llNAdGMGwaw8",
        "outputId": "e855a32b-55b1-45c2-9ea8-8efa9390cec8"
      },
      "execution_count": null,
      "outputs": [
        {
          "output_type": "stream",
          "name": "stdout",
          "text": [
            "k-u-m-a-r-a-n-"
          ]
        }
      ]
    },
    {
      "cell_type": "code",
      "source": [
        "name = 'kumaran'\n",
        "i = 0\n",
        "while i <len(name):\n",
        "  print(name[i],end='')\n",
        "  i = i+1"
      ],
      "metadata": {
        "colab": {
          "base_uri": "https://localhost:8080/"
        },
        "id": "1L73FMYIyXX8",
        "outputId": "7a801664-a3a9-46ef-9945-b9609567b767"
      },
      "execution_count": null,
      "outputs": [
        {
          "output_type": "stream",
          "name": "stdout",
          "text": [
            "kumaran"
          ]
        }
      ]
    },
    {
      "cell_type": "code",
      "source": [
        "num = 5\n",
        "mul_num = 1\n",
        "while mul_num<=10:\n",
        "  print('5*',mul_num,'=',num*mul_num)\n",
        "  mul_num+=1"
      ],
      "metadata": {
        "colab": {
          "base_uri": "https://localhost:8080/"
        },
        "id": "Vvb9wdpRyzjN",
        "outputId": "63011ff3-2772-4bd6-c391-0785c06452ad"
      },
      "execution_count": null,
      "outputs": [
        {
          "output_type": "stream",
          "name": "stdout",
          "text": [
            "5* 1 = 5\n",
            "5* 2 = 10\n",
            "5* 3 = 15\n",
            "5* 4 = 20\n",
            "5* 5 = 25\n",
            "5* 6 = 30\n",
            "5* 7 = 35\n",
            "5* 8 = 40\n",
            "5* 9 = 45\n",
            "5* 10 = 50\n"
          ]
        }
      ]
    },
    {
      "cell_type": "code",
      "source": [
        "no_of_sub = int(input('enter your subjects: '))\n",
        "total = 0\n",
        "subject_count = 0\n",
        "while subject_count<no_of_sub:\n",
        "  mark = int(input('please tell your mark: '))\n",
        "  total = total+mark\n",
        "  subject_count=subject_count+1\n",
        "print('your total is',total)\n",
        "print('average of your total is',total/no_of_sub)"
      ],
      "metadata": {
        "colab": {
          "base_uri": "https://localhost:8080/"
        },
        "id": "Bs7Ra4qoz2av",
        "outputId": "69e48ce1-67c5-43c4-cfdb-3b2d6f89b899"
      },
      "execution_count": null,
      "outputs": [
        {
          "output_type": "stream",
          "name": "stdout",
          "text": [
            "enter your subjects: 4\n",
            "please tell your mark: 67\n",
            "please tell your mark: 56\n",
            "please tell your mark: 70\n",
            "please tell your mark: 59\n",
            "your total is 252\n",
            "average of your total is 63.0\n"
          ]
        }
      ]
    },
    {
      "cell_type": "code",
      "source": [
        "count = 1\n",
        "while count<=5:\n",
        "  print(count,count,count,count,count)\n",
        "  count+=1"
      ],
      "metadata": {
        "id": "7iWcjdLB30Eo",
        "colab": {
          "base_uri": "https://localhost:8080/"
        },
        "outputId": "0afbfb8c-7c61-4015-9c86-edbbfd35e49c"
      },
      "execution_count": null,
      "outputs": [
        {
          "output_type": "stream",
          "name": "stdout",
          "text": [
            "1 1 1 1 1\n",
            "2 2 2 2 2\n",
            "3 3 3 3 3\n",
            "4 4 4 4 4\n",
            "5 5 5 5 5\n"
          ]
        }
      ]
    },
    {
      "cell_type": "code",
      "source": [
        "count = 0\n",
        "while count<5:\n",
        "  count+=1\n",
        "  print(count,end='')"
      ],
      "metadata": {
        "colab": {
          "base_uri": "https://localhost:8080/"
        },
        "id": "nZgyq0fQPvdn",
        "outputId": "b0f5524f-8502-4b3a-d1d9-1e05d7b9b5fe"
      },
      "execution_count": null,
      "outputs": [
        {
          "output_type": "stream",
          "name": "stdout",
          "text": [
            "12345"
          ]
        }
      ]
    },
    {
      "cell_type": "code",
      "source": [
        "count = 1\n",
        "while count<=5:\n",
        "  print(1, end='')\n",
        "  count+=1"
      ],
      "metadata": {
        "colab": {
          "base_uri": "https://localhost:8080/"
        },
        "id": "r2CqDwQT5T8o",
        "outputId": "bd66c8ea-f287-4a1e-c4a5-f73408011b84"
      },
      "execution_count": null,
      "outputs": [
        {
          "output_type": "stream",
          "name": "stdout",
          "text": [
            "11111"
          ]
        }
      ]
    },
    {
      "cell_type": "code",
      "source": [
        "terms = 1\n",
        "while terms<=5:\n",
        "  count = 1\n",
        "  while count<=5:\n",
        "    print(1, end='')\n",
        "    count+=1\n",
        "  print()  \n",
        "  terms+=1 "
      ],
      "metadata": {
        "colab": {
          "base_uri": "https://localhost:8080/"
        },
        "id": "KJOtcEgzPYRk",
        "outputId": "b88fc6d1-4c89-411e-dc6a-5f4eed0ba608"
      },
      "execution_count": null,
      "outputs": [
        {
          "output_type": "stream",
          "name": "stdout",
          "text": [
            "11111\n",
            "11111\n",
            "11111\n",
            "11111\n",
            "11111\n"
          ]
        }
      ]
    },
    {
      "cell_type": "code",
      "source": [
        "terms = 1\n",
        "while terms<=5:\n",
        "  count = 1\n",
        "  while count<=5:\n",
        "    print(count, end='')\n",
        "    count+=1\n",
        "  print()  \n",
        "  terms+=1 "
      ],
      "metadata": {
        "colab": {
          "base_uri": "https://localhost:8080/"
        },
        "id": "y7teH0EC9N7D",
        "outputId": "6ec908bd-8e24-49cf-e1a4-fde59b119c6a"
      },
      "execution_count": null,
      "outputs": [
        {
          "output_type": "stream",
          "name": "stdout",
          "text": [
            "12345\n",
            "12345\n",
            "12345\n",
            "12345\n",
            "12345\n"
          ]
        }
      ]
    },
    {
      "cell_type": "code",
      "source": [
        "row = 1\n",
        "while row<=5:\n",
        "  column = 1\n",
        "  while column<=5:\n",
        "    print(row, end='')\n",
        "    column+=1\n",
        "  print()  \n",
        "  row+=1 "
      ],
      "metadata": {
        "colab": {
          "base_uri": "https://localhost:8080/"
        },
        "id": "nwKl3bZPAOBG",
        "outputId": "7e86132d-1f64-4df2-f2a2-6b03b29707a7"
      },
      "execution_count": null,
      "outputs": [
        {
          "output_type": "stream",
          "name": "stdout",
          "text": [
            "11111\n",
            "22222\n",
            "33333\n",
            "44444\n",
            "55555\n"
          ]
        }
      ]
    },
    {
      "cell_type": "markdown",
      "source": [
        "1. inner loop deciding the columns\n",
        "2.outer loop deciding the rows"
      ],
      "metadata": {
        "id": "6IOfOI62CbPn"
      }
    },
    {
      "cell_type": "code",
      "source": [
        "row = 1\n",
        "while row<=5:\n",
        "  column = 1\n",
        "  while column<=row:\n",
        "    print(row, end='')\n",
        "    column+=1\n",
        "  print()  \n",
        "  row+=1 "
      ],
      "metadata": {
        "colab": {
          "base_uri": "https://localhost:8080/"
        },
        "id": "cZk7_ClrAUN-",
        "outputId": "709b462f-2e10-4d5a-c934-2f0f2062bb9c"
      },
      "execution_count": null,
      "outputs": [
        {
          "output_type": "stream",
          "name": "stdout",
          "text": [
            "1\n",
            "22\n",
            "333\n",
            "4444\n",
            "55555\n"
          ]
        }
      ]
    },
    {
      "cell_type": "code",
      "source": [
        "row = 1\n",
        "while row<=5:\n",
        "  column = 1\n",
        "  while column<=row:\n",
        "    print(column, end='')\n",
        "    column+=1\n",
        "  print()  \n",
        "  row+=1"
      ],
      "metadata": {
        "colab": {
          "base_uri": "https://localhost:8080/"
        },
        "id": "wnWr0tPyGu-G",
        "outputId": "a9c07970-cfd0-4f8d-87a1-05eaeaae64af"
      },
      "execution_count": null,
      "outputs": [
        {
          "output_type": "stream",
          "name": "stdout",
          "text": [
            "1\n",
            "12\n",
            "123\n",
            "1234\n",
            "12345\n"
          ]
        }
      ]
    },
    {
      "cell_type": "code",
      "source": [
        "row = 1\n",
        "value = 65\n",
        "while row<=5:\n",
        "  column = 1\n",
        "  while column<=row:\n",
        "    print(chr(value), end='')\n",
        "    value+=1\n",
        "    column+=1\n",
        "  print()  \n",
        "  row+=1"
      ],
      "metadata": {
        "colab": {
          "base_uri": "https://localhost:8080/"
        },
        "id": "iFVov4CmHhbw",
        "outputId": "962f6be1-83c1-4317-84a3-061c12f49827"
      },
      "execution_count": null,
      "outputs": [
        {
          "output_type": "stream",
          "name": "stdout",
          "text": [
            "A\n",
            "BC\n",
            "DEF\n",
            "GHIJ\n",
            "KLMNO\n"
          ]
        }
      ]
    },
    {
      "cell_type": "code",
      "source": [
        "row = 1\n",
        "while row<=5:\n",
        "  column = 1\n",
        "  value = 65\n",
        "  while column<=row:\n",
        "    print(chr(value), end='')\n",
        "    column+=1\n",
        "    value+=1\n",
        "  print()\n",
        "  row+=1  "
      ],
      "metadata": {
        "colab": {
          "base_uri": "https://localhost:8080/"
        },
        "id": "46QsTRH5KEkD",
        "outputId": "3dc5d575-a2c2-4ed2-b416-2adb8a330d6a"
      },
      "execution_count": null,
      "outputs": [
        {
          "output_type": "stream",
          "name": "stdout",
          "text": [
            "A\n",
            "AB\n",
            "ABC\n",
            "ABCD\n",
            "ABCDE\n"
          ]
        }
      ]
    },
    {
      "cell_type": "code",
      "source": [
        "row = 1\n",
        "value = 1\n",
        "while row<=5:\n",
        "  column = 1\n",
        "  while column<=row:\n",
        "    print(value, end='')\n",
        "    value+=1\n",
        "    column+=1\n",
        "  print()  \n",
        "  row+=1"
      ],
      "metadata": {
        "colab": {
          "base_uri": "https://localhost:8080/"
        },
        "id": "36-rL_n1HmwN",
        "outputId": "b3fd16e3-0044-49bf-8eca-584e52ece7c6"
      },
      "execution_count": null,
      "outputs": [
        {
          "output_type": "stream",
          "name": "stdout",
          "text": [
            "1\n",
            "23\n",
            "456\n",
            "78910\n",
            "1112131415\n"
          ]
        }
      ]
    },
    {
      "cell_type": "code",
      "source": [
        "row = 1\n",
        "value = 65\n",
        "while row<=5:\n",
        "  column = 1\n",
        "  while column<=row:\n",
        "    print(chr(value), end='')\n",
        "    column+=1\n",
        "  print()\n",
        "  value+=1  \n",
        "  row+=1"
      ],
      "metadata": {
        "colab": {
          "base_uri": "https://localhost:8080/"
        },
        "id": "4JqXXPq8Jcl0",
        "outputId": "f0857bdb-2958-499b-c0ac-d8bae9781a22"
      },
      "execution_count": null,
      "outputs": [
        {
          "output_type": "stream",
          "name": "stdout",
          "text": [
            "A\n",
            "BB\n",
            "CCC\n",
            "DDDD\n",
            "EEEEE\n"
          ]
        }
      ]
    },
    {
      "cell_type": "code",
      "execution_count": null,
      "metadata": {
        "colab": {
          "base_uri": "https://localhost:8080/"
        },
        "outputId": "678c2841-078a-45ee-b066-e31c124ce1b4",
        "id": "QSaQUBBnsX-3"
      },
      "outputs": [
        {
          "output_type": "stream",
          "name": "stdout",
          "text": [
            "0\n",
            "1\n",
            "2\n",
            "3\n",
            "4\n",
            "5\n"
          ]
        }
      ],
      "source": [
        "for i in range(6):\n",
        "  print(i)"
      ]
    },
    {
      "cell_type": "code",
      "source": [
        "total = 0\n",
        "for i in range(101):\n",
        "  total = total+i\n",
        "\n",
        "print(total)"
      ],
      "metadata": {
        "colab": {
          "base_uri": "https://localhost:8080/"
        },
        "outputId": "433dff41-9a33-4a50-aca5-c6e7a4a0d770",
        "id": "oGI98eqQsX-4"
      },
      "execution_count": null,
      "outputs": [
        {
          "output_type": "stream",
          "name": "stdout",
          "text": [
            "5050\n"
          ]
        }
      ]
    },
    {
      "cell_type": "code",
      "source": [
        "total = 0\n",
        "num = int(input('any nymber: '))\n",
        "for i in range(num+1):\n",
        "  total = total+i\n",
        "\n",
        "print(total)"
      ],
      "metadata": {
        "colab": {
          "base_uri": "https://localhost:8080/"
        },
        "outputId": "95799af7-d002-495a-9aa6-9f29557ee6d6",
        "id": "V8Yox1zKsX-4"
      },
      "execution_count": null,
      "outputs": [
        {
          "output_type": "stream",
          "name": "stdout",
          "text": [
            "any nymber: 5\n",
            "15\n"
          ]
        }
      ]
    },
    {
      "cell_type": "code",
      "source": [
        "total = 0\n",
        "for i in range(5,10+1):\n",
        "  total = total+i\n",
        "\n",
        "print(total)  "
      ],
      "metadata": {
        "colab": {
          "base_uri": "https://localhost:8080/"
        },
        "outputId": "1b6f8988-ca1c-4b53-f40b-59d9e7114d03",
        "id": "ECqRkpAKsX-4"
      },
      "execution_count": null,
      "outputs": [
        {
          "output_type": "stream",
          "name": "stdout",
          "text": [
            "45\n"
          ]
        }
      ]
    },
    {
      "cell_type": "code",
      "source": [
        "for i in range(0,31,5):\n",
        "  print(i)"
      ],
      "metadata": {
        "colab": {
          "base_uri": "https://localhost:8080/"
        },
        "outputId": "a682f21b-acfe-49aa-c090-a4cabf04a049",
        "id": "MeHHEocNsX-5"
      },
      "execution_count": null,
      "outputs": [
        {
          "output_type": "stream",
          "name": "stdout",
          "text": [
            "0\n",
            "5\n",
            "10\n",
            "15\n",
            "20\n",
            "25\n",
            "30\n"
          ]
        }
      ]
    },
    {
      "cell_type": "code",
      "source": [
        "for i in range(0,30,-5):\n",
        "  print(i)"
      ],
      "metadata": {
        "id": "v5RTt-UJsX-5"
      },
      "execution_count": null,
      "outputs": []
    },
    {
      "cell_type": "code",
      "source": [
        "for i in range(10,1):\n",
        "  print(i)"
      ],
      "metadata": {
        "id": "iNNUBPKmsX-5"
      },
      "execution_count": null,
      "outputs": []
    },
    {
      "cell_type": "code",
      "source": [
        "for i in range(6,0,-1):\n",
        "  print(i)"
      ],
      "metadata": {
        "colab": {
          "base_uri": "https://localhost:8080/"
        },
        "outputId": "c1da3a71-a468-4a29-db98-17d948c42038",
        "id": "xM7tdaUBsX-6"
      },
      "execution_count": null,
      "outputs": [
        {
          "output_type": "stream",
          "name": "stdout",
          "text": [
            "6\n",
            "5\n",
            "4\n",
            "3\n",
            "2\n",
            "1\n"
          ]
        }
      ]
    },
    {
      "cell_type": "code",
      "source": [
        "for i in range(10):\n",
        "  print(3*(i))"
      ],
      "metadata": {
        "id": "ryKlsmVjsX-6",
        "colab": {
          "base_uri": "https://localhost:8080/"
        },
        "outputId": "25ef30c2-b8e4-4684-adca-4cdeeef7c9d2"
      },
      "execution_count": null,
      "outputs": [
        {
          "output_type": "stream",
          "name": "stdout",
          "text": [
            "0\n",
            "3\n",
            "6\n",
            "9\n",
            "12\n",
            "15\n",
            "18\n",
            "21\n",
            "24\n",
            "27\n"
          ]
        }
      ]
    },
    {
      "cell_type": "code",
      "source": [
        "for i in range(10):\n",
        "  print(2*(i))"
      ],
      "metadata": {
        "id": "V46AIgcksX-6",
        "colab": {
          "base_uri": "https://localhost:8080/"
        },
        "outputId": "bc45b0eb-4dd4-4d6a-985c-76e794b522d6"
      },
      "execution_count": null,
      "outputs": [
        {
          "output_type": "stream",
          "name": "stdout",
          "text": [
            "0\n",
            "2\n",
            "4\n",
            "6\n",
            "8\n",
            "10\n",
            "12\n",
            "14\n",
            "16\n",
            "18\n"
          ]
        }
      ]
    },
    {
      "cell_type": "code",
      "source": [
        "for i in range(0,21,2):\n",
        "  print(i)"
      ],
      "metadata": {
        "id": "qtZhrjppsX-6",
        "colab": {
          "base_uri": "https://localhost:8080/"
        },
        "outputId": "a14108a2-ff89-4abf-c7fd-37541faf07ae"
      },
      "execution_count": null,
      "outputs": [
        {
          "output_type": "stream",
          "name": "stdout",
          "text": [
            "0\n",
            "2\n",
            "4\n",
            "6\n",
            "8\n",
            "10\n",
            "12\n",
            "14\n",
            "16\n",
            "18\n",
            "20\n"
          ]
        }
      ]
    },
    {
      "cell_type": "code",
      "source": [
        "start = int(input('start: '))\n",
        "end = int(input('end: ' ))\n",
        "for i in range(start,end+1):\n",
        "  print(i)"
      ],
      "metadata": {
        "colab": {
          "base_uri": "https://localhost:8080/"
        },
        "outputId": "e18fd95e-9984-4e9a-dfda-ab56cd9f11c5",
        "id": "IrupAyx6sX-6"
      },
      "execution_count": null,
      "outputs": [
        {
          "output_type": "stream",
          "name": "stdout",
          "text": [
            "start: 2\n",
            "end: 8\n",
            "2\n",
            "3\n",
            "4\n",
            "5\n",
            "6\n",
            "7\n",
            "8\n"
          ]
        }
      ]
    },
    {
      "cell_type": "code",
      "source": [
        "word = 'malayalam'\n",
        "word[::-1]"
      ],
      "metadata": {
        "colab": {
          "base_uri": "https://localhost:8080/",
          "height": 36
        },
        "id": "T5CoQWwbOyZd",
        "outputId": "befa66bd-8f82-48e3-f32b-3fc77dd0ad69"
      },
      "execution_count": null,
      "outputs": [
        {
          "output_type": "execute_result",
          "data": {
            "text/plain": [
              "'malayalam'"
            ],
            "application/vnd.google.colaboratory.intrinsic+json": {
              "type": "string"
            }
          },
          "metadata": {},
          "execution_count": 144
        }
      ]
    },
    {
      "cell_type": "code",
      "source": [
        "word = 'malayalam'\n",
        "word2 = word[::-1]\n",
        "if word==word2:\n",
        "  print('its a palindrome')\n",
        "else:\n",
        "  print('word is not a palindrome')  "
      ],
      "metadata": {
        "colab": {
          "base_uri": "https://localhost:8080/"
        },
        "id": "t4oOaffvuYC-",
        "outputId": "dfb0835f-a41c-43ef-dc77-2849f3353cc6"
      },
      "execution_count": null,
      "outputs": [
        {
          "output_type": "stream",
          "name": "stdout",
          "text": [
            "its a palindrome\n"
          ]
        }
      ]
    },
    {
      "cell_type": "code",
      "source": [
        "word = input('enter the word: ')\n",
        "word2 = word[::-1]\n",
        "if word==word2:\n",
        "  print('its a palindrome')\n",
        "else:\n",
        "  print('word is not a palindrome')  "
      ],
      "metadata": {
        "colab": {
          "base_uri": "https://localhost:8080/"
        },
        "id": "ILLU4Jxrtjub",
        "outputId": "faf3805e-62bf-4fab-db22-43800b4c2de3"
      },
      "execution_count": null,
      "outputs": [
        {
          "output_type": "stream",
          "name": "stdout",
          "text": [
            "enter the word: liril\n",
            "its a palindrome\n"
          ]
        }
      ]
    },
    {
      "cell_type": "code",
      "source": [
        "sent = 'god is great'\n",
        "for words in sent:\n",
        "  print(words)"
      ],
      "metadata": {
        "colab": {
          "base_uri": "https://localhost:8080/"
        },
        "id": "NstWuimmuAbT",
        "outputId": "e7a99a4c-33b8-46d2-9565-74329ae5375c"
      },
      "execution_count": null,
      "outputs": [
        {
          "output_type": "stream",
          "name": "stdout",
          "text": [
            "g\n",
            "o\n",
            "d\n",
            " \n",
            "i\n",
            "s\n",
            " \n",
            "g\n",
            "r\n",
            "e\n",
            "a\n",
            "t\n"
          ]
        }
      ]
    },
    {
      "cell_type": "code",
      "source": [
        "sent = 'god is great'\n",
        "for words in sent:\n",
        "  print(words, end='')"
      ],
      "metadata": {
        "colab": {
          "base_uri": "https://localhost:8080/"
        },
        "id": "6FfQDM2BvTbw",
        "outputId": "948b4bfd-673e-4bed-e4bb-32645d50fe30"
      },
      "execution_count": null,
      "outputs": [
        {
          "output_type": "stream",
          "name": "stdout",
          "text": [
            "god is great"
          ]
        }
      ]
    },
    {
      "cell_type": "code",
      "source": [
        "sent = 'god is great'\n",
        "for words in sent:\n",
        "  if words in ['a','e','i','o','u']:\n",
        "    print(words, end='')"
      ],
      "metadata": {
        "colab": {
          "base_uri": "https://localhost:8080/"
        },
        "id": "Sn6WbEkzwKIx",
        "outputId": "c838ce67-2907-472e-b4a6-0398a3a66922"
      },
      "execution_count": null,
      "outputs": [
        {
          "output_type": "stream",
          "name": "stdout",
          "text": [
            "oiea"
          ]
        }
      ]
    },
    {
      "cell_type": "code",
      "source": [
        "sent = input('enter the word: ')\n",
        "no_of_words = 1\n",
        "for words in sent:\n",
        "  if words == ' ':\n",
        "    no_of_words+=1\n",
        "print('num of words:',no_of_words)    "
      ],
      "metadata": {
        "colab": {
          "base_uri": "https://localhost:8080/"
        },
        "id": "_4smVDmFwbmg",
        "outputId": "85ca3300-dc12-4745-8db1-03ccfcafcaee"
      },
      "execution_count": null,
      "outputs": [
        {
          "output_type": "stream",
          "name": "stdout",
          "text": [
            "enter the word: lets go for shopping\n",
            "num of words: 4\n"
          ]
        }
      ]
    },
    {
      "cell_type": "code",
      "source": [
        "sent = 'today\"s date is 13,day is sunday'\n",
        "no_of_words = 1\n",
        "for words in sent:\n",
        "  if words in [',','.']:\n",
        "    no_of_words+=1\n",
        "print('num of sentence:',no_of_words)    "
      ],
      "metadata": {
        "colab": {
          "base_uri": "https://localhost:8080/"
        },
        "id": "OutFJaPZx59d",
        "outputId": "91191489-05d4-43a7-98a8-057add877692"
      },
      "execution_count": null,
      "outputs": [
        {
          "output_type": "stream",
          "name": "stdout",
          "text": [
            "num of sentence: 2\n"
          ]
        }
      ]
    },
    {
      "cell_type": "code",
      "source": [
        "for i in range(ord('A'),ord('Z')+1):\n",
        "  print(chr(i), end=' ')"
      ],
      "metadata": {
        "colab": {
          "base_uri": "https://localhost:8080/"
        },
        "id": "bGxbECfz1aeR",
        "outputId": "3218b728-2956-4857-d6aa-8354f894fd41"
      },
      "execution_count": null,
      "outputs": [
        {
          "output_type": "stream",
          "name": "stdout",
          "text": [
            "A B C D E F G H I J K L M N O P Q R S T U V W X Y Z "
          ]
        }
      ]
    },
    {
      "cell_type": "code",
      "source": [
        "for i in [1,2,3]:\n",
        "  pass\n",
        "  print('vanakkam',i)"
      ],
      "metadata": {
        "colab": {
          "base_uri": "https://localhost:8080/"
        },
        "id": "wCVL-gR23htQ",
        "outputId": "588fc04d-1fbe-40c1-b6be-be678a807a29"
      },
      "execution_count": null,
      "outputs": [
        {
          "output_type": "stream",
          "name": "stdout",
          "text": [
            "vanakkam 1\n",
            "vanakkam 2\n",
            "vanakkam 3\n"
          ]
        }
      ]
    },
    {
      "cell_type": "code",
      "source": [
        "for i in [1,2,3]:\n",
        "  pass\n",
        "print('vanakkam',i)"
      ],
      "metadata": {
        "colab": {
          "base_uri": "https://localhost:8080/"
        },
        "id": "UzN0lK2m4giD",
        "outputId": "2f1cebfd-5e30-47d1-98dd-7e8bc3e86097"
      },
      "execution_count": null,
      "outputs": [
        {
          "output_type": "stream",
          "name": "stdout",
          "text": [
            "vanakkam 3\n"
          ]
        }
      ]
    },
    {
      "cell_type": "code",
      "source": [
        "word = input('enter the word: ')\n",
        "length = len(word)\n",
        "count_of_alpha = 0\n",
        "count_of_num = 0\n",
        "count_of_sc = 0\n",
        "\n",
        "if length<8:\n",
        "  print('password shouldbe atleat 8 characters')\n",
        "else:\n",
        "  for letter in range(length):\n",
        "    if(word[letter]>='A' and word[letter]<='z'):\n",
        "      count_of_alpha+=1\n",
        "    elif(word[letter]>='0' and word[letter]<='9'):\n",
        "      count_of_num+=1\n",
        "    else:\n",
        "      count_of_sc+=1    \n",
        "\n",
        "  print('count of alphabets',count_of_alpha)    \n",
        "  print('count of numbers',count_of_num)\n",
        "  print('count of special charac',count_of_sc)"
      ],
      "metadata": {
        "id": "HFHgr3--4tcP",
        "colab": {
          "base_uri": "https://localhost:8080/"
        },
        "outputId": "b3ffa788-9c4d-4f7f-dc83-4f95eb292508"
      },
      "execution_count": null,
      "outputs": [
        {
          "output_type": "stream",
          "name": "stdout",
          "text": [
            "enter the word: sedhusmartz@gmail.com\n",
            "count of alphabets 19\n",
            "count of numbers 0\n",
            "count of special charac 2\n"
          ]
        }
      ]
    },
    {
      "cell_type": "code",
      "source": [
        "word = input('enter the word: ')\n",
        "length = len(word)\n",
        "count_of_alpha = 0\n",
        "count_of_num = 0\n",
        "count_of_sc = 0\n",
        "\n",
        "if length<=7:\n",
        "  print('password shouldbe atleat 8 characters')\n",
        "else:\n",
        "  for letter in range(length):\n",
        "    if(word[letter].isalpha()):\n",
        "      count_of_alpha+=1\n",
        "    elif(word[letter].isdigit()):\n",
        "      count_of_num+=1\n",
        "    else:\n",
        "      count_of_sc+=1    \n",
        "\n",
        "  print('count of alphabets',count_of_alpha)    \n",
        "  print('count of numbers',count_of_num)\n",
        "  print('count of special charac',count_of_sc)"
      ],
      "metadata": {
        "colab": {
          "base_uri": "https://localhost:8080/"
        },
        "id": "N0KKxoqTRUaC",
        "outputId": "e048073e-8107-43a9-9ecc-ac7f0c07a5f8"
      },
      "execution_count": null,
      "outputs": [
        {
          "output_type": "stream",
          "name": "stdout",
          "text": [
            "enter the word: sedhusmartz@gmail.com\n",
            "count of alphabets 19\n",
            "count of numbers 0\n",
            "count of special charac 2\n"
          ]
        }
      ]
    },
    {
      "cell_type": "code",
      "source": [
        "word = input('enter any word: ')\n",
        "\n",
        "for i in range(len(word)):\n",
        "  print(word[i], end='')\n",
        "print()  \n",
        "for i in range(len(word)-1):\n",
        "  print(word[i], end='')\n",
        "print()    \n",
        "for i in range(len(word)-2):\n",
        "  print(word[i], end='')\n",
        "print()    "
      ],
      "metadata": {
        "colab": {
          "base_uri": "https://localhost:8080/"
        },
        "id": "DQ27rNqhZe7W",
        "outputId": "fd091957-5234-4bc6-8c75-596ce58a4dda"
      },
      "execution_count": null,
      "outputs": [
        {
          "output_type": "stream",
          "name": "stdout",
          "text": [
            "enter any word: bingo\n",
            "bingo\n",
            "bing\n",
            "bin\n"
          ]
        }
      ]
    },
    {
      "cell_type": "code",
      "source": [
        "word = input('enter any word: ')\n",
        "count = len(word)\n",
        "for terms in range(count):\n",
        "  for i in range(count):\n",
        "    print(word[i], end='')\n",
        "  print()\n",
        "  count-=1  "
      ],
      "metadata": {
        "colab": {
          "base_uri": "https://localhost:8080/"
        },
        "id": "SjHwnvD1b2oo",
        "outputId": "8dac0eef-24f6-4de9-8bb5-6dbe643de114"
      },
      "execution_count": null,
      "outputs": [
        {
          "output_type": "stream",
          "name": "stdout",
          "text": [
            "enter any word: bingo\n",
            "bingo\n",
            "bing\n",
            "bin\n",
            "bi\n",
            "b\n"
          ]
        }
      ]
    },
    {
      "cell_type": "code",
      "source": [
        "word = input('enter any word: ')\n",
        "count = len(word)\n",
        "for terms in range(count):\n",
        "  for i in range(count):\n",
        "    print(chr(i+65), end='')\n",
        "  print()\n",
        "  count-=1  "
      ],
      "metadata": {
        "colab": {
          "base_uri": "https://localhost:8080/"
        },
        "id": "ZeexQkahd0jW",
        "outputId": "1597e982-e0a5-4198-97e4-f63c21716a80"
      },
      "execution_count": null,
      "outputs": [
        {
          "output_type": "stream",
          "name": "stdout",
          "text": [
            "enter any word: bingo\n",
            "ABCDE\n",
            "ABCD\n",
            "ABC\n",
            "AB\n",
            "A\n"
          ]
        }
      ]
    },
    {
      "cell_type": "code",
      "source": [
        "word = 'beckham'\n",
        "count = len(word)\n",
        "for terms in range(count):\n",
        "  for i in range(count):\n",
        "    print('#', end='')\n",
        "  for star in range(terms+1):\n",
        "    print('*',end='')\n",
        "  print()\n",
        "  count-=1  "
      ],
      "metadata": {
        "colab": {
          "base_uri": "https://localhost:8080/"
        },
        "id": "UgYJaTMdjCaB",
        "outputId": "703941ac-ea7d-47b7-beeb-4818d01971d4"
      },
      "execution_count": null,
      "outputs": [
        {
          "output_type": "stream",
          "name": "stdout",
          "text": [
            "#######*\n",
            "######**\n",
            "#####***\n",
            "####****\n",
            "###*****\n",
            "##******\n",
            "#*******\n"
          ]
        }
      ]
    },
    {
      "cell_type": "code",
      "source": [
        "word = 'beckham'\n",
        "count = len(word)\n",
        "for terms in range(count):\n",
        "  for i in range(count):\n",
        "    print(' ', end='')\n",
        "  for hashh in range(terms+1):\n",
        "    print('* ',end='')\n",
        "  print()\n",
        "  count-=1  "
      ],
      "metadata": {
        "colab": {
          "base_uri": "https://localhost:8080/"
        },
        "id": "WaA-GdcrjgP1",
        "outputId": "98b37db9-b9fa-4bd5-d87b-3b6e5a29b76b"
      },
      "execution_count": null,
      "outputs": [
        {
          "output_type": "stream",
          "name": "stdout",
          "text": [
            "       * \n",
            "      * * \n",
            "     * * * \n",
            "    * * * * \n",
            "   * * * * * \n",
            "  * * * * * * \n",
            " * * * * * * * \n"
          ]
        }
      ]
    },
    {
      "cell_type": "code",
      "source": [
        "word = 'beckham'\n",
        "count = len(word)\n",
        "for terms in range(count):\n",
        "  for i in range(count):\n",
        "    print(' ', end=' ')\n",
        "  for hashh in range(terms+1):\n",
        "    print(chr(hashh+65),end=' ')\n",
        "  print()\n",
        "  count-=1  "
      ],
      "metadata": {
        "colab": {
          "base_uri": "https://localhost:8080/"
        },
        "id": "EGsCpqh_mLyt",
        "outputId": "be285dec-f5a5-44ed-b6bb-2d8650fad40c"
      },
      "execution_count": null,
      "outputs": [
        {
          "output_type": "stream",
          "name": "stdout",
          "text": [
            "              A \n",
            "            A B \n",
            "          A B C \n",
            "        A B C D \n",
            "      A B C D E \n",
            "    A B C D E F \n",
            "  A B C D E F G \n"
          ]
        }
      ]
    },
    {
      "cell_type": "code",
      "source": [
        "word = 'beckham'\n",
        "count = len(word)\n",
        "for terms in range(count):\n",
        "  for i in range(count):\n",
        "    print(' ', end=' ')\n",
        "  for hashh in range(terms+1):\n",
        "    print(i,end=' ')\n",
        "  print()\n",
        "  count-=1  "
      ],
      "metadata": {
        "colab": {
          "base_uri": "https://localhost:8080/"
        },
        "id": "DEdyLAFPmWZM",
        "outputId": "774f1f0d-532c-4f60-ede3-bafc36ce6483"
      },
      "execution_count": null,
      "outputs": [
        {
          "output_type": "stream",
          "name": "stdout",
          "text": [
            "              6 \n",
            "            5 5 \n",
            "          4 4 4 \n",
            "        3 3 3 3 \n",
            "      2 2 2 2 2 \n",
            "    1 1 1 1 1 1 \n",
            "  0 0 0 0 0 0 0 \n"
          ]
        }
      ]
    },
    {
      "cell_type": "code",
      "source": [
        "#immutable\n",
        "#whenever we change any new value for a variable, the existing value present in a particular memory address will not get changed. instead ,it will create new memory address,\n",
        "#so the memory address of the specific value remains the same for many variables also\n",
        "house_no = 10\n",
        "print(id(house_no))\n",
        "house_no = 12\n",
        "print(id(house_no))"
      ],
      "metadata": {
        "colab": {
          "base_uri": "https://localhost:8080/"
        },
        "id": "-b0N7WgAqAgY",
        "outputId": "2c7f0f9a-ba17-4ec1-85e0-d2bbc6f0b7e4"
      },
      "execution_count": null,
      "outputs": [
        {
          "output_type": "stream",
          "name": "stdout",
          "text": [
            "11531200\n",
            "11531264\n"
          ]
        }
      ]
    },
    {
      "cell_type": "code",
      "source": [
        "house_no = 10\n",
        "print(id(house_no))\n",
        "house_no1 = 10\n",
        "print(id(house_no))"
      ],
      "metadata": {
        "colab": {
          "base_uri": "https://localhost:8080/"
        },
        "id": "uccP07hKX-je",
        "outputId": "a2439705-5fd7-408a-9338-67ed83cb1f6d"
      },
      "execution_count": null,
      "outputs": [
        {
          "output_type": "stream",
          "name": "stdout",
          "text": [
            "11531200\n",
            "11531200\n"
          ]
        }
      ]
    },
    {
      "cell_type": "code",
      "source": [
        "#there is no change in old memory address, but will create new memory address and disable the old memory address\n",
        "mark = 0\n",
        "print(id(mark))\n",
        "mark =1\n",
        "print(id(mark))"
      ],
      "metadata": {
        "colab": {
          "base_uri": "https://localhost:8080/"
        },
        "id": "Z8UB1Sw1qRWW",
        "outputId": "b903b08c-a5b7-4f5d-8c15-a3a533cf217d"
      },
      "execution_count": null,
      "outputs": [
        {
          "output_type": "stream",
          "name": "stdout",
          "text": [
            "11530880\n",
            "11530912\n"
          ]
        }
      ]
    },
    {
      "cell_type": "code",
      "source": [
        "captain = 'msdhoni'\n",
        "print(id(captain))\n",
        "captain = 'virat'\n",
        "print(id(captain))"
      ],
      "metadata": {
        "colab": {
          "base_uri": "https://localhost:8080/"
        },
        "id": "VSDfrtnfrpDQ",
        "outputId": "ae79b5c1-510f-4d65-ca49-a53f65cfe52b"
      },
      "execution_count": null,
      "outputs": [
        {
          "output_type": "stream",
          "name": "stdout",
          "text": [
            "139981634216880\n",
            "139981634127280\n"
          ]
        }
      ]
    },
    {
      "cell_type": "code",
      "source": [
        "#immutability = efficient memory management,performance of the program is increased\n",
        "captain = 'msdhoni'\n",
        "print(id(captain))\n",
        "captain1 = 'msdhoni'\n",
        "print(id(captain))"
      ],
      "metadata": {
        "colab": {
          "base_uri": "https://localhost:8080/"
        },
        "id": "w88dIy32uji8",
        "outputId": "223f95ca-3ce7-488b-a59a-d8c707ccba41"
      },
      "execution_count": null,
      "outputs": [
        {
          "output_type": "stream",
          "name": "stdout",
          "text": [
            "139981634219504\n",
            "139981634219504\n"
          ]
        }
      ]
    },
    {
      "cell_type": "code",
      "source": [
        "# 'is' compare the memory address, '=' compare the value of the given identifier\n",
        "# str,int,float,bool,complex,byte is immutable\n",
        "#memory address will not change if the values are same and viriables are differnet\n",
        "house_no1 = 10\n",
        "house_no2 = 10\n",
        "print(house_no1 is house_no2)\n",
        "print(house_no1 == house_no2)"
      ],
      "metadata": {
        "colab": {
          "base_uri": "https://localhost:8080/"
        },
        "id": "zVuWB_j4vXGh",
        "outputId": "47896031-d837-45a5-db57-68c81bb82914"
      },
      "execution_count": null,
      "outputs": [
        {
          "output_type": "stream",
          "name": "stdout",
          "text": [
            "True\n",
            "True\n"
          ]
        }
      ]
    },
    {
      "cell_type": "code",
      "source": [
        "#list\n",
        "name = 'python'\n",
        "'j'+name[1:]"
      ],
      "metadata": {
        "colab": {
          "base_uri": "https://localhost:8080/",
          "height": 36
        },
        "id": "-Q8cY6jAyLGK",
        "outputId": "3fb9875f-6162-4c8f-83e5-befba037bd97"
      },
      "execution_count": null,
      "outputs": [
        {
          "output_type": "execute_result",
          "data": {
            "text/plain": [
              "'jython'"
            ],
            "application/vnd.google.colaboratory.intrinsic+json": {
              "type": "string"
            }
          },
          "metadata": {},
          "execution_count": 63
        }
      ]
    },
    {
      "cell_type": "code",
      "source": [
        "#compound datatypes is mutable datatype, mutable means no change in memory address\n",
        "house_no = [10,11]\n",
        "print(id(house_no))\n",
        "house_no[0] = 12\n",
        "print(id(house_no))"
      ],
      "metadata": {
        "colab": {
          "base_uri": "https://localhost:8080/"
        },
        "id": "1VLVggueYp9n",
        "outputId": "053676dc-3205-42dc-9acb-b7dcc846c5b9"
      },
      "execution_count": null,
      "outputs": [
        {
          "output_type": "stream",
          "name": "stdout",
          "text": [
            "140027495210240\n",
            "140027495210240\n"
          ]
        }
      ]
    },
    {
      "cell_type": "code",
      "source": [
        "#list - [],separated by comma,accepts homo and hetro,list can contain n number of elements, list maintain insertion order,[] used it list\n",
        "name = ['raja','vimal','vijay',123,5.6,True]\n",
        "print(id(name))\n",
        "name[0] = 'kamal'\n",
        "print(id(name))\n",
        "print(name)"
      ],
      "metadata": {
        "colab": {
          "base_uri": "https://localhost:8080/"
        },
        "id": "scgVRqUVw9lC",
        "outputId": "b5317872-8cd8-44bb-f546-afe104a7337e"
      },
      "execution_count": null,
      "outputs": [
        {
          "output_type": "stream",
          "name": "stdout",
          "text": [
            "140027495519680\n",
            "140027495519680\n",
            "['kamal', 'vimal', 'vijay', 123, 5.6, True]\n"
          ]
        }
      ]
    },
    {
      "cell_type": "code",
      "source": [
        "lst = [23,36,64,25,88]\n",
        "lst[-1]"
      ],
      "metadata": {
        "id": "dokIRNaN1pkx",
        "colab": {
          "base_uri": "https://localhost:8080/"
        },
        "outputId": "9baa98f1-aa50-4951-8727-8c7748fb50ff"
      },
      "execution_count": null,
      "outputs": [
        {
          "output_type": "execute_result",
          "data": {
            "text/plain": [
              "88"
            ]
          },
          "metadata": {},
          "execution_count": 195
        }
      ]
    },
    {
      "cell_type": "code",
      "source": [
        "lst[0]"
      ],
      "metadata": {
        "colab": {
          "base_uri": "https://localhost:8080/"
        },
        "id": "g-neFzWkeaMu",
        "outputId": "2f7109d0-4b11-40e8-e0b7-a7012fc3e8dc"
      },
      "execution_count": null,
      "outputs": [
        {
          "output_type": "execute_result",
          "data": {
            "text/plain": [
              "23"
            ]
          },
          "metadata": {},
          "execution_count": 196
        }
      ]
    },
    {
      "cell_type": "code",
      "source": [
        "lst[2]"
      ],
      "metadata": {
        "colab": {
          "base_uri": "https://localhost:8080/"
        },
        "id": "PFxJQ8_PedS8",
        "outputId": "ca8fcc8f-33e2-4e10-ab8b-61937800d283"
      },
      "execution_count": null,
      "outputs": [
        {
          "output_type": "execute_result",
          "data": {
            "text/plain": [
              "64"
            ]
          },
          "metadata": {},
          "execution_count": 197
        }
      ]
    },
    {
      "cell_type": "code",
      "source": [
        "lst[:]"
      ],
      "metadata": {
        "colab": {
          "base_uri": "https://localhost:8080/"
        },
        "id": "8KtMxR8gee1t",
        "outputId": "0b7017ab-e337-4ee7-c5ca-2e2a7e390b19"
      },
      "execution_count": null,
      "outputs": [
        {
          "output_type": "execute_result",
          "data": {
            "text/plain": [
              "[23, 36, 64, 25, 88]"
            ]
          },
          "metadata": {},
          "execution_count": 198
        }
      ]
    },
    {
      "cell_type": "code",
      "source": [
        "lst[0:3]"
      ],
      "metadata": {
        "colab": {
          "base_uri": "https://localhost:8080/"
        },
        "id": "1GYsjvBrejdZ",
        "outputId": "b2564e79-9ed8-461c-db9d-e3495544774f"
      },
      "execution_count": null,
      "outputs": [
        {
          "output_type": "execute_result",
          "data": {
            "text/plain": [
              "[23, 36, 64]"
            ]
          },
          "metadata": {},
          "execution_count": 199
        }
      ]
    },
    {
      "cell_type": "code",
      "source": [
        "lst[-5:]"
      ],
      "metadata": {
        "colab": {
          "base_uri": "https://localhost:8080/"
        },
        "id": "hMF1vqCTenot",
        "outputId": "91716b7a-d06a-49a8-9495-5ad387515add"
      },
      "execution_count": null,
      "outputs": [
        {
          "output_type": "execute_result",
          "data": {
            "text/plain": [
              "[23, 36, 64, 25, 88]"
            ]
          },
          "metadata": {},
          "execution_count": 200
        }
      ]
    },
    {
      "cell_type": "code",
      "source": [
        "lst + [1,2,3,4,5]"
      ],
      "metadata": {
        "colab": {
          "base_uri": "https://localhost:8080/"
        },
        "id": "Pp7ibyb1evOz",
        "outputId": "d25aa3fe-17be-4892-995f-0618c6835bbd"
      },
      "execution_count": null,
      "outputs": [
        {
          "output_type": "execute_result",
          "data": {
            "text/plain": [
              "[23, 36, 64, 25, 88, 1, 2, 3, 4, 5]"
            ]
          },
          "metadata": {},
          "execution_count": 201
        }
      ]
    },
    {
      "cell_type": "code",
      "source": [
        "[23,36,64,25,88] + [23,36,64,25,88]"
      ],
      "metadata": {
        "colab": {
          "base_uri": "https://localhost:8080/"
        },
        "id": "wf93CfdKfVOe",
        "outputId": "0320df74-5274-4242-9d10-c8de77a697da"
      },
      "execution_count": null,
      "outputs": [
        {
          "output_type": "execute_result",
          "data": {
            "text/plain": [
              "[23, 36, 64, 25, 88, 23, 36, 64, 25, 88]"
            ]
          },
          "metadata": {},
          "execution_count": 202
        }
      ]
    },
    {
      "cell_type": "code",
      "source": [
        "lst.append(99)\n",
        "lst"
      ],
      "metadata": {
        "colab": {
          "base_uri": "https://localhost:8080/"
        },
        "id": "bjYqP3ZXfZks",
        "outputId": "a248fc3f-7999-49f3-8f9b-a3e7be51c7bd"
      },
      "execution_count": null,
      "outputs": [
        {
          "output_type": "execute_result",
          "data": {
            "text/plain": [
              "[23, 36, 64, 25, 88, 99]"
            ]
          },
          "metadata": {},
          "execution_count": 203
        }
      ]
    },
    {
      "cell_type": "code",
      "source": [
        "lst[1:3] = [11,22]\n",
        "lst"
      ],
      "metadata": {
        "colab": {
          "base_uri": "https://localhost:8080/"
        },
        "id": "qXrWbT2Fgf2O",
        "outputId": "32c58044-99f6-4a05-8921-3c771f702188"
      },
      "execution_count": null,
      "outputs": [
        {
          "output_type": "execute_result",
          "data": {
            "text/plain": [
              "[23, 11, 22, 25, 88, 99]"
            ]
          },
          "metadata": {},
          "execution_count": 204
        }
      ]
    },
    {
      "cell_type": "code",
      "source": [
        "lst.append([9])"
      ],
      "metadata": {
        "id": "LKdPqi6mg8uw"
      },
      "execution_count": null,
      "outputs": []
    },
    {
      "cell_type": "code",
      "source": [
        "lst"
      ],
      "metadata": {
        "colab": {
          "base_uri": "https://localhost:8080/"
        },
        "id": "PkMSd3jKiF-g",
        "outputId": "25c8c38c-e300-4a9e-8d4e-4dc7d360bad8"
      },
      "execution_count": null,
      "outputs": [
        {
          "output_type": "execute_result",
          "data": {
            "text/plain": [
              "[23, 11, 22, 25, 88, 99, [9]]"
            ]
          },
          "metadata": {},
          "execution_count": 206
        }
      ]
    },
    {
      "cell_type": "code",
      "source": [
        "lst[0]"
      ],
      "metadata": {
        "colab": {
          "base_uri": "https://localhost:8080/"
        },
        "id": "8S7WOASukgtT",
        "outputId": "f0904f79-e0f9-489f-ffd2-e2d4d119ed2f"
      },
      "execution_count": null,
      "outputs": [
        {
          "output_type": "execute_result",
          "data": {
            "text/plain": [
              "23"
            ]
          },
          "metadata": {},
          "execution_count": 207
        }
      ]
    },
    {
      "cell_type": "code",
      "source": [
        "letters = ['a','b','c','d']"
      ],
      "metadata": {
        "id": "ZqyQt7IOiZNp"
      },
      "execution_count": null,
      "outputs": []
    },
    {
      "cell_type": "code",
      "source": [
        "letters[1] = 'B'\n",
        "letters"
      ],
      "metadata": {
        "colab": {
          "base_uri": "https://localhost:8080/"
        },
        "id": "_BYQ6kFiipPt",
        "outputId": "1f8ecf03-5654-4cc1-b138-4ea3711ff6ef"
      },
      "execution_count": null,
      "outputs": [
        {
          "output_type": "execute_result",
          "data": {
            "text/plain": [
              "['a', 'B', 'c', 'd']"
            ]
          },
          "metadata": {},
          "execution_count": 209
        }
      ]
    },
    {
      "cell_type": "code",
      "source": [
        "letters[2:4] = ['C','D']\n",
        "letters"
      ],
      "metadata": {
        "colab": {
          "base_uri": "https://localhost:8080/"
        },
        "id": "U0BoPyPQiv1w",
        "outputId": "9fc81670-8bdc-4306-9587-2ef5f08d5e73"
      },
      "execution_count": null,
      "outputs": [
        {
          "output_type": "execute_result",
          "data": {
            "text/plain": [
              "['a', 'B', 'C', 'D']"
            ]
          },
          "metadata": {},
          "execution_count": 210
        }
      ]
    },
    {
      "cell_type": "code",
      "source": [
        "len(letters)"
      ],
      "metadata": {
        "colab": {
          "base_uri": "https://localhost:8080/"
        },
        "id": "1kXfYs71jrX4",
        "outputId": "46fd6c2b-a277-4881-ea45-b60cca042547"
      },
      "execution_count": null,
      "outputs": [
        {
          "output_type": "execute_result",
          "data": {
            "text/plain": [
              "4"
            ]
          },
          "metadata": {},
          "execution_count": 211
        }
      ]
    },
    {
      "cell_type": "code",
      "source": [
        "letters[:] = []\n",
        "letters"
      ],
      "metadata": {
        "colab": {
          "base_uri": "https://localhost:8080/"
        },
        "id": "DUQDvqIWi-0c",
        "outputId": "54ae1d72-a78d-4f9b-812d-0924a7e966e6"
      },
      "execution_count": null,
      "outputs": [
        {
          "output_type": "execute_result",
          "data": {
            "text/plain": [
              "[]"
            ]
          },
          "metadata": {},
          "execution_count": 212
        }
      ]
    },
    {
      "cell_type": "code",
      "source": [
        "alpha = ['a','b','c']\n",
        "num = [1,2,3]\n",
        "both = [alpha,num]#comma will giv two seperate list inside a single list ,+ will add two list into one"
      ],
      "metadata": {
        "id": "casgJt9Wjk4P"
      },
      "execution_count": null,
      "outputs": []
    },
    {
      "cell_type": "code",
      "source": [
        "len(alpha)"
      ],
      "metadata": {
        "colab": {
          "base_uri": "https://localhost:8080/"
        },
        "id": "yHoylvVA4s6a",
        "outputId": "c1780c3c-7204-40cd-dd05-31cc1aefb538"
      },
      "execution_count": null,
      "outputs": [
        {
          "output_type": "execute_result",
          "data": {
            "text/plain": [
              "3"
            ]
          },
          "metadata": {},
          "execution_count": 227
        }
      ]
    },
    {
      "cell_type": "code",
      "source": [
        "type(alpha)"
      ],
      "metadata": {
        "colab": {
          "base_uri": "https://localhost:8080/"
        },
        "id": "KgWxMq6MUBW-",
        "outputId": "5b44ceaa-6dbd-474b-bfe2-174cd8d40600"
      },
      "execution_count": null,
      "outputs": [
        {
          "output_type": "execute_result",
          "data": {
            "text/plain": [
              "list"
            ]
          },
          "metadata": {},
          "execution_count": 228
        }
      ]
    },
    {
      "cell_type": "code",
      "source": [
        "type(alpha[0])"
      ],
      "metadata": {
        "colab": {
          "base_uri": "https://localhost:8080/"
        },
        "id": "m3qF39bBlmJe",
        "outputId": "877ee5be-ad6e-4576-a341-81b79778a4cb"
      },
      "execution_count": null,
      "outputs": [
        {
          "output_type": "execute_result",
          "data": {
            "text/plain": [
              "str"
            ]
          },
          "metadata": {},
          "execution_count": 229
        }
      ]
    },
    {
      "cell_type": "code",
      "source": [
        "alpha[0]"
      ],
      "metadata": {
        "colab": {
          "base_uri": "https://localhost:8080/",
          "height": 36
        },
        "id": "7eYVKWTgmLfn",
        "outputId": "30b595ea-7725-433d-f45f-72b821c63592"
      },
      "execution_count": null,
      "outputs": [
        {
          "output_type": "execute_result",
          "data": {
            "text/plain": [
              "'a'"
            ],
            "application/vnd.google.colaboratory.intrinsic+json": {
              "type": "string"
            }
          },
          "metadata": {},
          "execution_count": 232
        }
      ]
    },
    {
      "cell_type": "code",
      "source": [
        "both"
      ],
      "metadata": {
        "colab": {
          "base_uri": "https://localhost:8080/"
        },
        "id": "WdQrvcaklB2B",
        "outputId": "a8569c62-a6ce-4d02-8508-68d34368abfb"
      },
      "execution_count": null,
      "outputs": [
        {
          "output_type": "execute_result",
          "data": {
            "text/plain": [
              "[['a', 'b', 'c'], [1, 2, 3]]"
            ]
          },
          "metadata": {},
          "execution_count": 233
        }
      ]
    },
    {
      "cell_type": "code",
      "source": [
        "both[0]"
      ],
      "metadata": {
        "colab": {
          "base_uri": "https://localhost:8080/"
        },
        "id": "cvD-PGrIlYOK",
        "outputId": "01d7beea-53d5-4a22-f2e6-91c0addc2413"
      },
      "execution_count": null,
      "outputs": [
        {
          "output_type": "execute_result",
          "data": {
            "text/plain": [
              "['a', 'b', 'c']"
            ]
          },
          "metadata": {},
          "execution_count": 234
        }
      ]
    },
    {
      "cell_type": "code",
      "source": [
        "both[0][0]"
      ],
      "metadata": {
        "colab": {
          "base_uri": "https://localhost:8080/",
          "height": 36
        },
        "id": "VrdXDSmOlRuT",
        "outputId": "309dc33e-bdaa-4a73-90ca-c8962163e98b"
      },
      "execution_count": null,
      "outputs": [
        {
          "output_type": "execute_result",
          "data": {
            "text/plain": [
              "'a'"
            ],
            "application/vnd.google.colaboratory.intrinsic+json": {
              "type": "string"
            }
          },
          "metadata": {},
          "execution_count": 235
        }
      ]
    },
    {
      "cell_type": "code",
      "source": [
        "type(alpha)"
      ],
      "metadata": {
        "colab": {
          "base_uri": "https://localhost:8080/"
        },
        "id": "_u7khvHMlM6p",
        "outputId": "d1e0e8d9-b490-487a-cd3a-e3d08c329dac"
      },
      "execution_count": null,
      "outputs": [
        {
          "output_type": "execute_result",
          "data": {
            "text/plain": [
              "list"
            ]
          },
          "metadata": {},
          "execution_count": 236
        }
      ]
    },
    {
      "cell_type": "code",
      "source": [
        "type(num[0])"
      ],
      "metadata": {
        "colab": {
          "base_uri": "https://localhost:8080/"
        },
        "id": "0ERUmRbHlsT0",
        "outputId": "af03c2d7-b607-449f-c178-021f26e7f2ce"
      },
      "execution_count": null,
      "outputs": [
        {
          "output_type": "execute_result",
          "data": {
            "text/plain": [
              "int"
            ]
          },
          "metadata": {},
          "execution_count": 237
        }
      ]
    },
    {
      "cell_type": "code",
      "source": [
        "type(both)"
      ],
      "metadata": {
        "colab": {
          "base_uri": "https://localhost:8080/"
        },
        "id": "VhlrH6dGlF-R",
        "outputId": "cc115ad9-8230-4d78-a179-907012b8d172"
      },
      "execution_count": null,
      "outputs": [
        {
          "output_type": "execute_result",
          "data": {
            "text/plain": [
              "list"
            ]
          },
          "metadata": {},
          "execution_count": 238
        }
      ]
    },
    {
      "cell_type": "code",
      "source": [
        "len(both)"
      ],
      "metadata": {
        "colab": {
          "base_uri": "https://localhost:8080/"
        },
        "id": "Wa3Y8KVWlJJN",
        "outputId": "ae0d98b1-e49b-48cb-9009-10f4c7bb29e8"
      },
      "execution_count": null,
      "outputs": [
        {
          "output_type": "execute_result",
          "data": {
            "text/plain": [
              "2"
            ]
          },
          "metadata": {},
          "execution_count": 239
        }
      ]
    },
    {
      "cell_type": "code",
      "source": [
        "alpha = ['a','b','c']\n",
        "for item in alpha:\n",
        "  print(item, end=' ')"
      ],
      "metadata": {
        "colab": {
          "base_uri": "https://localhost:8080/"
        },
        "id": "Czc_N8ZwlyXB",
        "outputId": "c74c9bd0-bd13-4cb6-d079-d25e14f8a8b6"
      },
      "execution_count": null,
      "outputs": [
        {
          "output_type": "stream",
          "name": "stdout",
          "text": [
            "a b c "
          ]
        }
      ]
    },
    {
      "cell_type": "code",
      "source": [
        "alpha = ['a','b','c']\n",
        "for item in alpha:\n",
        "  if item in ['a','e','i','o','u']:\n",
        "    print(item, end=' ')"
      ],
      "metadata": {
        "colab": {
          "base_uri": "https://localhost:8080/"
        },
        "id": "_NtS0Q1xm6rY",
        "outputId": "c0bd2c38-18c8-4644-81b5-2c50979a405b"
      },
      "execution_count": null,
      "outputs": [
        {
          "output_type": "stream",
          "name": "stdout",
          "text": [
            "a "
          ]
        }
      ]
    },
    {
      "cell_type": "code",
      "source": [
        "both"
      ],
      "metadata": {
        "colab": {
          "base_uri": "https://localhost:8080/"
        },
        "id": "kolDC_HpoV0-",
        "outputId": "17cabc2b-ef29-4ca9-e513-a9559dba3f9d"
      },
      "execution_count": null,
      "outputs": [
        {
          "output_type": "execute_result",
          "data": {
            "text/plain": [
              "[['a', 'b', 'c'], [1, 2, 3]]"
            ]
          },
          "metadata": {},
          "execution_count": 242
        }
      ]
    },
    {
      "cell_type": "code",
      "source": [
        "for item in both:\n",
        "  print(item, end=' ')"
      ],
      "metadata": {
        "colab": {
          "base_uri": "https://localhost:8080/"
        },
        "id": "e-KXUGMSUt5l",
        "outputId": "887e0536-1897-462a-d596-ad7ff30d06db"
      },
      "execution_count": null,
      "outputs": [
        {
          "output_type": "stream",
          "name": "stdout",
          "text": [
            "['a', 'b', 'c'] [1, 2, 3] "
          ]
        }
      ]
    },
    {
      "cell_type": "code",
      "source": [
        "for item in both:\n",
        "  for all in item:\n",
        "    print(all, end=' ')"
      ],
      "metadata": {
        "colab": {
          "base_uri": "https://localhost:8080/"
        },
        "id": "40ndEE0WnMvt",
        "outputId": "88076f82-f677-40c0-ce1d-9d79fc6c48a9"
      },
      "execution_count": null,
      "outputs": [
        {
          "output_type": "stream",
          "name": "stdout",
          "text": [
            "a b c 1 2 3 "
          ]
        }
      ]
    },
    {
      "cell_type": "code",
      "source": [
        "both = [[1,2,3],[4,5,6],[7,8,9]]\n",
        "for item in both:\n",
        "  for all in item:\n",
        "    print(all, end=' ')"
      ],
      "metadata": {
        "colab": {
          "base_uri": "https://localhost:8080/"
        },
        "id": "_f6ivGFDoTYm",
        "outputId": "c739c7bc-5cf1-4ff1-b80d-6dd0eda851fc"
      },
      "execution_count": null,
      "outputs": [
        {
          "output_type": "stream",
          "name": "stdout",
          "text": [
            "1 2 3 4 5 6 7 8 9 "
          ]
        }
      ]
    },
    {
      "cell_type": "code",
      "source": [
        "both = [[1,2,3],[4,5,6],[7,8,9]]\n",
        "for all in both:\n",
        "  print(all, end=' ')"
      ],
      "metadata": {
        "colab": {
          "base_uri": "https://localhost:8080/"
        },
        "id": "eFUAhlB8orlY",
        "outputId": "8674e596-da68-4c14-f742-8888e3e34fc5"
      },
      "execution_count": null,
      "outputs": [
        {
          "output_type": "stream",
          "name": "stdout",
          "text": [
            "[1, 2, 3] [4, 5, 6] [7, 8, 9] "
          ]
        }
      ]
    },
    {
      "cell_type": "code",
      "source": [
        "both = [[1,2,3],[4,5,6],['a','b',5]]\n",
        "for item in both:\n",
        "  for all in str(item):\n",
        "    if all.isalpha():\n",
        "      print(all, end=' ')"
      ],
      "metadata": {
        "colab": {
          "base_uri": "https://localhost:8080/"
        },
        "id": "o6fTfqyco8rZ",
        "outputId": "65cf5c30-09e9-4c58-b6b8-4135684db012"
      },
      "execution_count": null,
      "outputs": [
        {
          "output_type": "stream",
          "name": "stdout",
          "text": [
            "a b "
          ]
        }
      ]
    },
    {
      "cell_type": "code",
      "source": [
        "alpha = ['c','a','b','c']\n",
        "num = [2,3,4,1]\n",
        "both = [alpha,num]\n",
        "lst = 0\n",
        "while lst <len(both):\n",
        "  item = 0\n",
        "  while item<len(both[lst]):\n",
        "    print(both[lst][item], end=' ')\n",
        "    item+=1\n",
        "  lst+=1  "
      ],
      "metadata": {
        "colab": {
          "base_uri": "https://localhost:8080/"
        },
        "id": "XhBdznE456de",
        "outputId": "5664a7d6-6d1b-4408-fd21-978f85c92952"
      },
      "execution_count": null,
      "outputs": [
        {
          "output_type": "stream",
          "name": "stdout",
          "text": [
            "c a b c 2 3 4 1 "
          ]
        }
      ]
    },
    {
      "cell_type": "code",
      "source": [
        "alpha = ['c','a','b','c']\n",
        "num = [2,3,4,1]\n",
        "both = [alpha,num]\n",
        "print(both)\n",
        "lst = 0\n",
        "while lst <len(both):\n",
        "  item = 0\n",
        "  while item<len(both[lst]):\n",
        "    print(both[lst][item], end='')\n",
        "    item+=1\n",
        "  print()\n",
        "  lst+=1  "
      ],
      "metadata": {
        "colab": {
          "base_uri": "https://localhost:8080/"
        },
        "id": "JL7oZ2UNpkzi",
        "outputId": "19563a7c-ec14-48ab-80f5-c06121b8ed73"
      },
      "execution_count": null,
      "outputs": [
        {
          "output_type": "stream",
          "name": "stdout",
          "text": [
            "[['c', 'a', 'b', 'c'], [2, 3, 4, 1]]\n",
            "cabc\n",
            "2341\n"
          ]
        }
      ]
    },
    {
      "cell_type": "code",
      "source": [
        "alpha = ['c','a','b','c']\n",
        "num = [2,3,'c',1]\n",
        "both = [alpha,num]\n",
        "li = 0\n",
        "while li <len(both):\n",
        "  item = 0\n",
        "  while item<len(both[li]):\n",
        "    if(type(both[li][item])==str):\n",
        "      print(both[li][item], end='')\n",
        "    item+=1\n",
        "  print()\n",
        "  li+=1 "
      ],
      "metadata": {
        "colab": {
          "base_uri": "https://localhost:8080/"
        },
        "id": "JXBjsB-u0BjP",
        "outputId": "10579fd7-12ab-46fd-f485-ba2d925c5fab"
      },
      "execution_count": null,
      "outputs": [
        {
          "output_type": "stream",
          "name": "stdout",
          "text": [
            "cabc\n",
            "c\n"
          ]
        }
      ]
    },
    {
      "cell_type": "code",
      "source": [
        "alpha = ['c','prabhua','bpd','c']\n",
        "num = [2,3,'praveen',1]\n",
        "all = ['prashanth','v',2]\n",
        "both = [alpha,num,all]\n",
        "li = 0\n",
        "while li <len(both):\n",
        "  item = 0\n",
        "  while item<len(both[li]):\n",
        "    if(type(both[li][item])==str):\n",
        "      if(both[li][item])[0]=='p':  \n",
        "        print(both[li][item], end='')\n",
        "    item+=1\n",
        "  print()\n",
        "  li+=1 "
      ],
      "metadata": {
        "colab": {
          "base_uri": "https://localhost:8080/"
        },
        "id": "Q9kQxiDG7YNw",
        "outputId": "a5a8ec52-440f-4482-ad09-c2029a8cf12c"
      },
      "execution_count": null,
      "outputs": [
        {
          "output_type": "stream",
          "name": "stdout",
          "text": [
            "prabhua\n",
            "praveen\n",
            "prashanth\n"
          ]
        }
      ]
    },
    {
      "cell_type": "code",
      "source": [
        "alpha = ['a','b','c','c']\n",
        "num = [1,2,3,4]\n",
        "both = [alpha,num]\n",
        "li=0\n",
        "while li<len(both):\n",
        "  item = 0\n",
        "  while item < len(both[li]):\n",
        "    if li == 1 and item == 1:\n",
        "      both[li][item] ='check'\n",
        "    item+=1\n",
        "  print()   \n",
        "  li+=1\n",
        "print(both)"
      ],
      "metadata": {
        "colab": {
          "base_uri": "https://localhost:8080/"
        },
        "id": "Ed6ss5TU8dIO",
        "outputId": "fbd3de69-12f0-45e0-eeef-3e33c22737a1"
      },
      "execution_count": null,
      "outputs": [
        {
          "output_type": "stream",
          "name": "stdout",
          "text": [
            "\n",
            "\n",
            "[['a', 'b', 'c', 'c'], [1, 'check', 3, 4]]\n"
          ]
        }
      ]
    },
    {
      "cell_type": "code",
      "source": [
        "alpha = ['c','a','b','c']\n",
        "num = [2,'v','c',1]\n",
        "both = [alpha,num]\n",
        "lst = 0\n",
        "for i in range(len(both)):\n",
        "  for j in range(len(both[lst])):\n",
        "    if i == 1 and j == 1:\n",
        "      both[i][j]='check'\n",
        "print(both)      "
      ],
      "metadata": {
        "colab": {
          "base_uri": "https://localhost:8080/"
        },
        "id": "PTpUR_iQ__Cp",
        "outputId": "fb6dc1e5-1531-47d9-f2d2-8cae1d6cb18e"
      },
      "execution_count": null,
      "outputs": [
        {
          "output_type": "stream",
          "name": "stdout",
          "text": [
            "[['c', 'a', 'b', 'c'], [2, 'check', 'c', 1]]\n"
          ]
        }
      ]
    },
    {
      "cell_type": "code",
      "source": [
        "alpha = ['c','a','b','c']\n",
        "alpha.remove('c')\n",
        "alpha"
      ],
      "metadata": {
        "colab": {
          "base_uri": "https://localhost:8080/"
        },
        "id": "qgMLoLxlDJVx",
        "outputId": "12611907-adec-4904-f277-a68d7ca88698"
      },
      "execution_count": null,
      "outputs": [
        {
          "output_type": "execute_result",
          "data": {
            "text/plain": [
              "['a', 'b', 'c']"
            ]
          },
          "metadata": {},
          "execution_count": 7
        }
      ]
    },
    {
      "cell_type": "code",
      "source": [
        "number = int(input(\"Tell us the number \"))\n",
        "squares=[] \n",
        "for i in range(1, number+1):\n",
        "  squares.append(i**2) #squares.append(i**2)\n",
        "squares"
      ],
      "metadata": {
        "id": "SeilryhgER63",
        "colab": {
          "base_uri": "https://localhost:8080/"
        },
        "outputId": "fa18eb5f-c517-4b75-aa6c-2d3eea3a7196"
      },
      "execution_count": null,
      "outputs": [
        {
          "name": "stdout",
          "output_type": "stream",
          "text": [
            "Tell us the number 4\n"
          ]
        },
        {
          "output_type": "execute_result",
          "data": {
            "text/plain": [
              "[1, 4, 9, 16]"
            ]
          },
          "metadata": {},
          "execution_count": 5
        }
      ]
    },
    {
      "cell_type": "code",
      "source": [
        "studentdetails = []\n",
        "studentcount = int(input('good morning sir,''please tell your class student strength: '))\n",
        "\n",
        "for student in range(studentcount):\n",
        "  name, age, percentage = input('enter students name,age,percentage seperated by space: ').split()\n",
        "  studentdetails.append(name)\n",
        "  studentdetails.append(age)\n",
        "  studentdetails.append(percentage)\n",
        "\n",
        "count = 1\n",
        "print()\n",
        "print('studentname',' studentage', end = ' ')\n",
        "print()\n",
        "print('--------------------------')\n",
        "for i in studentdetails:\n",
        "  if count%3 == 0:\n",
        "    if int(i)>=75:\n",
        "      print(studentdetails[count-3], ',        ',\n",
        "      studentdetails[count-2])\n",
        "  count+=1"
      ],
      "metadata": {
        "colab": {
          "base_uri": "https://localhost:8080/"
        },
        "id": "P0ISmdEToYgi",
        "outputId": "ec2a8ffd-983e-4a62-cd9f-3c15c24eaba3"
      },
      "execution_count": null,
      "outputs": [
        {
          "output_type": "stream",
          "name": "stdout",
          "text": [
            "good morning sir,please tell your class student strength: 3\n",
            "enter students name,age,percentage seperated by space: vimal 21 70\n",
            "enter students name,age,percentage seperated by space: vijay 21 75\n",
            "enter students name,age,percentage seperated by space: vinai 21 80\n",
            "\n",
            "studentname  studentage \n",
            "--------------------------\n",
            "vijay ,         21\n",
            "vinai ,         21\n"
          ]
        }
      ]
    },
    {
      "cell_type": "code",
      "source": [
        "square = [i**2 for i in range(1,6)]\n",
        "square"
      ],
      "metadata": {
        "colab": {
          "base_uri": "https://localhost:8080/"
        },
        "id": "LTfiIxCUyYce",
        "outputId": "f946126f-c216-4ce0-c7fd-838c309d6302"
      },
      "execution_count": null,
      "outputs": [
        {
          "output_type": "execute_result",
          "data": {
            "text/plain": [
              "[1, 4, 9, 16, 25]"
            ]
          },
          "metadata": {},
          "execution_count": 25
        }
      ]
    },
    {
      "cell_type": "code",
      "source": [
        "fruits = ['apple','orange','banana','apple','kiwi']\n",
        "fruits.count('apple')\n",
        "if fruits.count('apple')>1:\n",
        "  fruits.remove('apple')\n",
        "fruits  "
      ],
      "metadata": {
        "colab": {
          "base_uri": "https://localhost:8080/"
        },
        "id": "wT93Ro2l5BHD",
        "outputId": "daa94b8f-e988-4e54-a358-537d12ff932f"
      },
      "execution_count": null,
      "outputs": [
        {
          "output_type": "execute_result",
          "data": {
            "text/plain": [
              "['orange', 'banana', 'apple', 'kiwi']"
            ]
          },
          "metadata": {},
          "execution_count": 28
        }
      ]
    },
    {
      "cell_type": "code",
      "source": [
        "fruits = ['apple','orange','banana','apple','kiwi']\n",
        "fruits.count('apple')\n",
        "fruits.reverse()\n",
        "if fruits.count('apple')>1:\n",
        "  fruits.remove('apple')\n",
        "fruits.reverse() \n",
        "fruits"
      ],
      "metadata": {
        "colab": {
          "base_uri": "https://localhost:8080/"
        },
        "id": "P8g5SZDT6bnB",
        "outputId": "fed4a7b1-ed60-4177-98d2-24784bee585e"
      },
      "execution_count": null,
      "outputs": [
        {
          "output_type": "execute_result",
          "data": {
            "text/plain": [
              "['apple', 'orange', 'banana', 'kiwi']"
            ]
          },
          "metadata": {},
          "execution_count": 31
        }
      ]
    },
    {
      "cell_type": "code",
      "source": [
        "fruits.insert(2, 'papaya')\n",
        "fruits"
      ],
      "metadata": {
        "colab": {
          "base_uri": "https://localhost:8080/"
        },
        "id": "351PsNDK_LA_",
        "outputId": "e01fa597-9831-455e-d489-b05bbae58815"
      },
      "execution_count": null,
      "outputs": [
        {
          "output_type": "execute_result",
          "data": {
            "text/plain": [
              "['apple', 'orange', 'papaya', 'banana', 'kiwi']"
            ]
          },
          "metadata": {},
          "execution_count": 32
        }
      ]
    },
    {
      "cell_type": "code",
      "source": [
        "i = fruits.index('apple')\n",
        "i"
      ],
      "metadata": {
        "colab": {
          "base_uri": "https://localhost:8080/"
        },
        "id": "Ha1axseg_g6E",
        "outputId": "f9ed35a0-9947-40e0-8f46-29819a1d39d6"
      },
      "execution_count": null,
      "outputs": [
        {
          "output_type": "execute_result",
          "data": {
            "text/plain": [
              "0"
            ]
          },
          "metadata": {},
          "execution_count": 33
        }
      ]
    },
    {
      "cell_type": "code",
      "source": [
        "fruits = ['apple','orange','banana','apple','kiwi','apple']\n",
        "i = fruits.index('apple',3)\n",
        "i"
      ],
      "metadata": {
        "colab": {
          "base_uri": "https://localhost:8080/"
        },
        "id": "zM7C1jga_3Rd",
        "outputId": "fb47f304-e142-4227-dbe1-75a0770299bf"
      },
      "execution_count": null,
      "outputs": [
        {
          "output_type": "execute_result",
          "data": {
            "text/plain": [
              "3"
            ]
          },
          "metadata": {},
          "execution_count": 39
        }
      ]
    },
    {
      "cell_type": "code",
      "source": [
        "#list and tuple are somehow similar\n",
        "#list is mutable,tuple is immutable\n",
        "#tuple doesnt have append,remove functions\n",
        "#tuple is more efficient/effective than list\n",
        "#() used for tuple"
      ],
      "metadata": {
        "id": "mBJApOfmAOHq"
      },
      "execution_count": null,
      "outputs": []
    },
    {
      "cell_type": "code",
      "source": [
        "t = ()\n",
        "print(type(t))"
      ],
      "metadata": {
        "colab": {
          "base_uri": "https://localhost:8080/"
        },
        "id": "Z6vlp9e0BuNh",
        "outputId": "7dd0fca9-41b0-4e14-ac3e-d09e01ec3093"
      },
      "execution_count": null,
      "outputs": [
        {
          "output_type": "stream",
          "name": "stdout",
          "text": [
            "<class 'tuple'>\n"
          ]
        }
      ]
    },
    {
      "cell_type": "code",
      "source": [
        "t = (5)\n",
        "print(type(t))"
      ],
      "metadata": {
        "colab": {
          "base_uri": "https://localhost:8080/"
        },
        "id": "ngh-aaBqCLyx",
        "outputId": "5c9314e9-c915-4532-be8f-e39dcc1fd935"
      },
      "execution_count": null,
      "outputs": [
        {
          "output_type": "stream",
          "name": "stdout",
          "text": [
            "<class 'int'>\n"
          ]
        }
      ]
    },
    {
      "cell_type": "code",
      "source": [
        "t = (5,)\n",
        "print(type(t))"
      ],
      "metadata": {
        "colab": {
          "base_uri": "https://localhost:8080/"
        },
        "id": "_68XULJ8CPzf",
        "outputId": "02bc1ff8-8a2a-43e1-edb7-6108f36438c5"
      },
      "execution_count": null,
      "outputs": [
        {
          "output_type": "stream",
          "name": "stdout",
          "text": [
            "<class 'tuple'>\n"
          ]
        }
      ]
    },
    {
      "cell_type": "code",
      "source": [
        "t = 5,\n",
        "print(type(t))"
      ],
      "metadata": {
        "colab": {
          "base_uri": "https://localhost:8080/"
        },
        "id": "uqqTgdk7CeXe",
        "outputId": "d1656959-a840-4355-a110-9018525bfba7"
      },
      "execution_count": null,
      "outputs": [
        {
          "output_type": "stream",
          "name": "stdout",
          "text": [
            "<class 'tuple'>\n"
          ]
        }
      ]
    },
    {
      "cell_type": "code",
      "source": [
        "alpha = ('a','b','c')\n",
        "item = 0\n",
        "while item < len(alpha):\n",
        "  print(alpha[item], end=' ')\n",
        "  item+=1"
      ],
      "metadata": {
        "colab": {
          "base_uri": "https://localhost:8080/"
        },
        "id": "SBKt1aM2Ckfb",
        "outputId": "7db9bdd3-910a-4f20-84c7-0d3af8066026"
      },
      "execution_count": null,
      "outputs": [
        {
          "output_type": "stream",
          "name": "stdout",
          "text": [
            "a b c "
          ]
        }
      ]
    },
    {
      "cell_type": "code",
      "source": [
        "for x in alpha:\n",
        "   print(x, end= ' ')"
      ],
      "metadata": {
        "colab": {
          "base_uri": "https://localhost:8080/"
        },
        "id": "_QwB4sedDNZ1",
        "outputId": "617e7297-4599-4ead-9493-e04254e55ed6"
      },
      "execution_count": null,
      "outputs": [
        {
          "output_type": "stream",
          "name": "stdout",
          "text": [
            "a b c "
          ]
        }
      ]
    },
    {
      "cell_type": "code",
      "source": [
        "tuple1 = ('a','b','c')\n",
        "tuple2 = (1,2,3)\n",
        "tuples = tuple1,tuple2\n",
        "tuples"
      ],
      "metadata": {
        "colab": {
          "base_uri": "https://localhost:8080/"
        },
        "id": "dI2x2KyHDeq1",
        "outputId": "e0fe001f-7fd9-4a57-a893-5c9af6a61e3b"
      },
      "execution_count": null,
      "outputs": [
        {
          "output_type": "execute_result",
          "data": {
            "text/plain": [
              "(('a', 'b', 'c'), (1, 2, 3))"
            ]
          },
          "metadata": {},
          "execution_count": 55
        }
      ]
    },
    {
      "cell_type": "code",
      "source": [
        "tuple1 = ('a','b','c')\n",
        "tuple2 = (1,2,3)\n",
        "tuples = tuple1+tuple2\n",
        "tuples"
      ],
      "metadata": {
        "colab": {
          "base_uri": "https://localhost:8080/"
        },
        "id": "IuBU1gByEe15",
        "outputId": "35b861c8-8b8b-4aac-d971-a9fe5962f17f"
      },
      "execution_count": null,
      "outputs": [
        {
          "output_type": "execute_result",
          "data": {
            "text/plain": [
              "('a', 'b', 'c', 1, 2, 3)"
            ]
          },
          "metadata": {},
          "execution_count": 53
        }
      ]
    },
    {
      "cell_type": "code",
      "source": [
        "#tuple packing\n",
        "t = 10,20,30\n",
        "t"
      ],
      "metadata": {
        "colab": {
          "base_uri": "https://localhost:8080/"
        },
        "id": "7rDdUQLXEw16",
        "outputId": "607407f1-bf2d-4c60-b989-fec949bf491d"
      },
      "execution_count": null,
      "outputs": [
        {
          "output_type": "execute_result",
          "data": {
            "text/plain": [
              "(10, 20, 30)"
            ]
          },
          "metadata": {},
          "execution_count": 56
        }
      ]
    },
    {
      "cell_type": "code",
      "source": [
        "#sequence unpacking\n",
        "no1,no2,no3 = t\n",
        "no1"
      ],
      "metadata": {
        "colab": {
          "base_uri": "https://localhost:8080/"
        },
        "id": "AFMmzMjoFxP4",
        "outputId": "32a4414c-adeb-4dec-d328-9eea11a43408"
      },
      "execution_count": null,
      "outputs": [
        {
          "output_type": "execute_result",
          "data": {
            "text/plain": [
              "10"
            ]
          },
          "metadata": {},
          "execution_count": 57
        }
      ]
    },
    {
      "cell_type": "code",
      "source": [
        "#list,tuple,range are sequence datatypes (same order)"
      ],
      "metadata": {
        "id": "jW8q44F_F19K"
      },
      "execution_count": null,
      "outputs": []
    },
    {
      "cell_type": "code",
      "source": [
        "#set\n",
        "#no duplicates allowded in set\n",
        "#no indexing in possible in set,no sequence\n",
        "#no slicing coz no indexing\n",
        "#set is also homo,hetro\n",
        "#mutable\n",
        "#{} used for set"
      ],
      "metadata": {
        "id": "gg7l3wLAG2fp"
      },
      "execution_count": null,
      "outputs": []
    },
    {
      "cell_type": "code",
      "source": [
        "values = {'arul', 'mukil', 123, True}\n",
        "print(values)\n",
        "type(values)"
      ],
      "metadata": {
        "colab": {
          "base_uri": "https://localhost:8080/"
        },
        "id": "B2RkQjsuHkab",
        "outputId": "f24b5160-16a2-4dd3-ded9-b0fd1ba7f5d2"
      },
      "execution_count": null,
      "outputs": [
        {
          "output_type": "stream",
          "name": "stdout",
          "text": [
            "{'mukil', 'arul', 123, True}\n"
          ]
        },
        {
          "output_type": "execute_result",
          "data": {
            "text/plain": [
              "set"
            ]
          },
          "metadata": {},
          "execution_count": 4
        }
      ]
    },
    {
      "cell_type": "code",
      "source": [
        "values = {'arul', 'mukil', 123, True,'arul'}\n",
        "print(values)"
      ],
      "metadata": {
        "colab": {
          "base_uri": "https://localhost:8080/"
        },
        "id": "8s3ETcM-HtVI",
        "outputId": "cacdab7b-32fe-4f81-f942-9af2a3597974"
      },
      "execution_count": null,
      "outputs": [
        {
          "output_type": "stream",
          "name": "stdout",
          "text": [
            "{'mukil', 'arul', 123, True}\n"
          ]
        }
      ]
    },
    {
      "cell_type": "code",
      "source": [
        "#append() func only used in list, add() func can use all datatypes, insert() will add in specific index\n",
        "values.add(50)\n",
        "values"
      ],
      "metadata": {
        "colab": {
          "base_uri": "https://localhost:8080/"
        },
        "id": "v2CUEMtxIAet",
        "outputId": "a118d75f-22cd-47c7-b3f8-08daae3eacd7"
      },
      "execution_count": null,
      "outputs": [
        {
          "output_type": "execute_result",
          "data": {
            "text/plain": [
              "{123, 50, True, 'arul', 'mukil'}"
            ]
          },
          "metadata": {},
          "execution_count": 111
        }
      ]
    },
    {
      "cell_type": "code",
      "source": [
        "values.remove(True)\n",
        "values"
      ],
      "metadata": {
        "colab": {
          "base_uri": "https://localhost:8080/"
        },
        "id": "PTUANuvXIbZs",
        "outputId": "de4146e2-686b-417c-fa3b-3ab2b22211b8"
      },
      "execution_count": null,
      "outputs": [
        {
          "output_type": "execute_result",
          "data": {
            "text/plain": [
              "{123, 50, 'arul', 'mukil'}"
            ]
          },
          "metadata": {},
          "execution_count": 112
        }
      ]
    },
    {
      "cell_type": "code",
      "source": [
        "values.pop()"
      ],
      "metadata": {
        "colab": {
          "base_uri": "https://localhost:8080/",
          "height": 36
        },
        "id": "Z_hphZVlIhdY",
        "outputId": "05f263a3-7ff1-4319-b036-ef224050dcbf"
      },
      "execution_count": null,
      "outputs": [
        {
          "output_type": "execute_result",
          "data": {
            "text/plain": [
              "'mukil'"
            ],
            "application/vnd.google.colaboratory.intrinsic+json": {
              "type": "string"
            }
          },
          "metadata": {},
          "execution_count": 113
        }
      ]
    },
    {
      "cell_type": "code",
      "source": [
        "values"
      ],
      "metadata": {
        "colab": {
          "base_uri": "https://localhost:8080/"
        },
        "id": "FYo9MojwJX5b",
        "outputId": "823ee0a5-f9bb-4392-f116-eb5c67fcfb54"
      },
      "execution_count": null,
      "outputs": [
        {
          "output_type": "execute_result",
          "data": {
            "text/plain": [
              "{123, 50, 'arul'}"
            ]
          },
          "metadata": {},
          "execution_count": 114
        }
      ]
    },
    {
      "cell_type": "code",
      "source": [
        "for i in values:\n",
        "  print(i)"
      ],
      "metadata": {
        "colab": {
          "base_uri": "https://localhost:8080/"
        },
        "id": "814EKI47J6r_",
        "outputId": "3f2f893d-9084-4fae-bd59-fc42cb0b25a9"
      },
      "execution_count": null,
      "outputs": [
        {
          "output_type": "stream",
          "name": "stdout",
          "text": [
            "50\n",
            "arul\n",
            "123\n"
          ]
        }
      ]
    },
    {
      "cell_type": "code",
      "source": [
        "#when there in no values in set ,it will take it as dict\n",
        "values={} \n",
        "print(type(values))"
      ],
      "metadata": {
        "colab": {
          "base_uri": "https://localhost:8080/"
        },
        "id": "uFNPk3qkK6Pd",
        "outputId": "069b0ba2-a351-4994-cdc5-3ff11a00fa3b"
      },
      "execution_count": null,
      "outputs": [
        {
          "output_type": "stream",
          "name": "stdout",
          "text": [
            "<class 'dict'>\n"
          ]
        }
      ]
    },
    {
      "cell_type": "code",
      "source": [
        "values = set()\n",
        "print(type(values))"
      ],
      "metadata": {
        "colab": {
          "base_uri": "https://localhost:8080/"
        },
        "id": "f5YVvw0gLFUZ",
        "outputId": "803754de-72b1-487f-fdfa-3050f75f1c6f"
      },
      "execution_count": null,
      "outputs": [
        {
          "output_type": "stream",
          "name": "stdout",
          "text": [
            "<class 'set'>\n"
          ]
        }
      ]
    },
    {
      "cell_type": "code",
      "source": [
        "name1 = {'muthu','kumar','rama'}\n",
        "name2 = {'rama','siva','arul'}\n",
        "\n",
        "print(name1 - name2)"
      ],
      "metadata": {
        "id": "52fVToQHLcNN",
        "colab": {
          "base_uri": "https://localhost:8080/"
        },
        "outputId": "e4a4403f-a75f-4ab0-f4d7-9090f09173e4"
      },
      "execution_count": null,
      "outputs": [
        {
          "output_type": "stream",
          "name": "stdout",
          "text": [
            "{'muthu', 'kumar'}\n"
          ]
        }
      ]
    },
    {
      "cell_type": "code",
      "source": [
        "print(name2 - name1)"
      ],
      "metadata": {
        "colab": {
          "base_uri": "https://localhost:8080/"
        },
        "id": "Et8IYKpAroDr",
        "outputId": "5b92c23a-f9fa-4790-b63a-30634d59380f"
      },
      "execution_count": null,
      "outputs": [
        {
          "output_type": "stream",
          "name": "stdout",
          "text": [
            "{'siva', 'arul'}\n"
          ]
        }
      ]
    },
    {
      "cell_type": "code",
      "source": [
        "print(name1 | name2) #union"
      ],
      "metadata": {
        "colab": {
          "base_uri": "https://localhost:8080/"
        },
        "id": "QZQt4UsGq8bg",
        "outputId": "d8235cd8-6f59-4ee0-81f6-5d141778e4e3"
      },
      "execution_count": null,
      "outputs": [
        {
          "output_type": "stream",
          "name": "stdout",
          "text": [
            "{'muthu', 'siva', 'kumar', 'rama', 'arul'}\n"
          ]
        }
      ]
    },
    {
      "cell_type": "code",
      "source": [
        "print(name1 & name2) #intersection"
      ],
      "metadata": {
        "colab": {
          "base_uri": "https://localhost:8080/"
        },
        "id": "h2O3nQJUrFLH",
        "outputId": "bbef56b5-1a3d-4bcd-926f-f0531128735f"
      },
      "execution_count": null,
      "outputs": [
        {
          "output_type": "stream",
          "name": "stdout",
          "text": [
            "{'rama'}\n"
          ]
        }
      ]
    },
    {
      "cell_type": "code",
      "source": [
        "print(name1 ^ name2)"
      ],
      "metadata": {
        "colab": {
          "base_uri": "https://localhost:8080/"
        },
        "id": "bKe4hVJorSBX",
        "outputId": "8988609f-6c40-4b9c-b38a-c124ed6d5cac"
      },
      "execution_count": null,
      "outputs": [
        {
          "output_type": "stream",
          "name": "stdout",
          "text": [
            "{'siva', 'muthu', 'kumar', 'arul'}\n"
          ]
        }
      ]
    },
    {
      "cell_type": "code",
      "source": [
        "values = {'nirai','mathi','arul','amuthan',6,4.5,True}\n",
        "for i in values:\n",
        "  #if isinstance(i, int):\n",
        "  if type(i) is int:\n",
        "    print(i)"
      ],
      "metadata": {
        "id": "tqwo_RNfrbk7",
        "colab": {
          "base_uri": "https://localhost:8080/"
        },
        "outputId": "f0d14438-f306-4d21-cee7-9d6c44f29f46"
      },
      "execution_count": null,
      "outputs": [
        {
          "output_type": "stream",
          "name": "stdout",
          "text": [
            "6\n"
          ]
        }
      ]
    },
    {
      "cell_type": "code",
      "source": [
        "#frozenset is immutable\n",
        "values = {'nirai','mathi','arul','amuthan',6,4.5,True}\n",
        "f = frozenset(values)\n",
        "type(f)"
      ],
      "metadata": {
        "colab": {
          "base_uri": "https://localhost:8080/"
        },
        "id": "cDaV5c7LNFOH",
        "outputId": "e0579a51-3392-43b7-8080-bf61c79465c5"
      },
      "execution_count": null,
      "outputs": [
        {
          "output_type": "execute_result",
          "data": {
            "text/plain": [
              "frozenset"
            ]
          },
          "metadata": {},
          "execution_count": 9
        }
      ]
    },
    {
      "cell_type": "code",
      "source": [
        "#dict\n",
        "#dict has key and value(key value pair)\n",
        "#key must be in immutable datatypes(str,num,tuple),value may have mutable and immutable\n",
        "#indexing by key,coz no duplicate\n",
        "results = {'muthu': 80, 'kathir': 85}\n",
        "results"
      ],
      "metadata": {
        "colab": {
          "base_uri": "https://localhost:8080/"
        },
        "id": "repniLt0NFHu",
        "outputId": "a9bd039a-3fc8-417d-e915-4307f5557aab"
      },
      "execution_count": null,
      "outputs": [
        {
          "output_type": "execute_result",
          "data": {
            "text/plain": [
              "{'muthu': 80, 'kathir': 85}"
            ]
          },
          "metadata": {},
          "execution_count": 22
        }
      ]
    },
    {
      "cell_type": "code",
      "source": [
        "results['muthu'] = 90\n",
        "results"
      ],
      "metadata": {
        "colab": {
          "base_uri": "https://localhost:8080/"
        },
        "id": "533ZdERoSSe2",
        "outputId": "6b401fe3-2bc3-4a11-d7dc-d66531876ebd"
      },
      "execution_count": null,
      "outputs": [
        {
          "output_type": "execute_result",
          "data": {
            "text/plain": [
              "{'muthu': 90, 'kathir': 85}"
            ]
          },
          "metadata": {},
          "execution_count": 23
        }
      ]
    },
    {
      "cell_type": "code",
      "source": [
        "results['kavin'] = 93\n",
        "results"
      ],
      "metadata": {
        "colab": {
          "base_uri": "https://localhost:8080/"
        },
        "id": "ogzPRRJGTDgf",
        "outputId": "b58489fe-9985-4286-ea76-7a9b5cf18746"
      },
      "execution_count": null,
      "outputs": [
        {
          "output_type": "execute_result",
          "data": {
            "text/plain": [
              "{'muthu': 90, 'kathir': 85, 'kavin': 93}"
            ]
          },
          "metadata": {},
          "execution_count": 25
        }
      ]
    },
    {
      "cell_type": "code",
      "source": [
        "del results['kavin']\n",
        "results"
      ],
      "metadata": {
        "colab": {
          "base_uri": "https://localhost:8080/"
        },
        "id": "n-LlUmfGTlIN",
        "outputId": "94606d3e-cb35-48a9-a0f7-fa6c03a25927"
      },
      "execution_count": null,
      "outputs": [
        {
          "output_type": "execute_result",
          "data": {
            "text/plain": [
              "{'muthu': 90, 'kathir': 85}"
            ]
          },
          "metadata": {},
          "execution_count": 26
        }
      ]
    },
    {
      "cell_type": "code",
      "source": [
        "list(results) #type casting of compound datatypes"
      ],
      "metadata": {
        "colab": {
          "base_uri": "https://localhost:8080/"
        },
        "id": "XpjtBsehUUeT",
        "outputId": "10764424-3ec2-4488-8413-17d7d2c472a5"
      },
      "execution_count": null,
      "outputs": [
        {
          "output_type": "execute_result",
          "data": {
            "text/plain": [
              "['muthu', 'kathir']"
            ]
          },
          "metadata": {},
          "execution_count": 27
        }
      ]
    },
    {
      "cell_type": "code",
      "source": [
        "set(results)"
      ],
      "metadata": {
        "colab": {
          "base_uri": "https://localhost:8080/"
        },
        "id": "2oxL7RdtUU4t",
        "outputId": "e534c093-4c51-48ea-e871-1462c839cdbf"
      },
      "execution_count": null,
      "outputs": [
        {
          "output_type": "execute_result",
          "data": {
            "text/plain": [
              "{'kathir', 'muthu'}"
            ]
          },
          "metadata": {},
          "execution_count": 28
        }
      ]
    },
    {
      "cell_type": "code",
      "source": [
        "tuple(results)"
      ],
      "metadata": {
        "colab": {
          "base_uri": "https://localhost:8080/"
        },
        "id": "E4nmHBINUY5W",
        "outputId": "9e39cf80-037b-4672-8b75-861e18d358c4"
      },
      "execution_count": null,
      "outputs": [
        {
          "output_type": "execute_result",
          "data": {
            "text/plain": [
              "('muthu', 'kathir')"
            ]
          },
          "metadata": {},
          "execution_count": 29
        }
      ]
    },
    {
      "cell_type": "code",
      "source": [
        "results.keys()"
      ],
      "metadata": {
        "colab": {
          "base_uri": "https://localhost:8080/"
        },
        "id": "NQEEqKGGUavm",
        "outputId": "bade0621-f9c7-4f84-d4a9-85bb2a1b7df4"
      },
      "execution_count": null,
      "outputs": [
        {
          "output_type": "execute_result",
          "data": {
            "text/plain": [
              "dict_keys(['muthu', 'kathir'])"
            ]
          },
          "metadata": {},
          "execution_count": 32
        }
      ]
    },
    {
      "cell_type": "code",
      "source": [
        "results.values()"
      ],
      "metadata": {
        "colab": {
          "base_uri": "https://localhost:8080/"
        },
        "id": "IvibzteGUjbx",
        "outputId": "fb61d515-6105-40f4-dc0a-2e6b921ee79b"
      },
      "execution_count": null,
      "outputs": [
        {
          "output_type": "execute_result",
          "data": {
            "text/plain": [
              "dict_values([90, 85])"
            ]
          },
          "metadata": {},
          "execution_count": 33
        }
      ]
    },
    {
      "cell_type": "code",
      "source": [
        "[*results.values()]"
      ],
      "metadata": {
        "colab": {
          "base_uri": "https://localhost:8080/"
        },
        "id": "nBUeBNhWUl9X",
        "outputId": "c6403e1c-3230-4d41-8ad0-3cf3009ee4a2"
      },
      "execution_count": null,
      "outputs": [
        {
          "output_type": "execute_result",
          "data": {
            "text/plain": [
              "[90, 85]"
            ]
          },
          "metadata": {},
          "execution_count": 34
        }
      ]
    },
    {
      "cell_type": "code",
      "source": [
        "[*results.keys()]"
      ],
      "metadata": {
        "colab": {
          "base_uri": "https://localhost:8080/"
        },
        "id": "ErqfHYdkVLoD",
        "outputId": "73afe8d0-2736-40ee-e289-06869a360165"
      },
      "execution_count": null,
      "outputs": [
        {
          "output_type": "execute_result",
          "data": {
            "text/plain": [
              "['muthu', 'kathir']"
            ]
          },
          "metadata": {},
          "execution_count": 35
        }
      ]
    },
    {
      "cell_type": "code",
      "source": [
        "details = {'name': 'Mukil', 'age': 22}"
      ],
      "metadata": {
        "id": "6inEJoOZVP3L"
      },
      "execution_count": null,
      "outputs": []
    },
    {
      "cell_type": "code",
      "source": [
        "details.get('age') #get func pass only one key"
      ],
      "metadata": {
        "colab": {
          "base_uri": "https://localhost:8080/"
        },
        "id": "v-vnUJ-aV7iY",
        "outputId": "a05cfd68-d30b-48fa-a0b3-a90fd98deb04"
      },
      "execution_count": null,
      "outputs": [
        {
          "output_type": "execute_result",
          "data": {
            "text/plain": [
              "22"
            ]
          },
          "metadata": {},
          "execution_count": 44
        }
      ]
    },
    {
      "cell_type": "code",
      "source": [
        "details.popitem() #remove last pair"
      ],
      "metadata": {
        "colab": {
          "base_uri": "https://localhost:8080/"
        },
        "id": "eyTgAmhzV-uE",
        "outputId": "4270fda2-f3bf-450c-cafd-81e17353d0a3"
      },
      "execution_count": null,
      "outputs": [
        {
          "output_type": "execute_result",
          "data": {
            "text/plain": [
              "('age', 22)"
            ]
          },
          "metadata": {},
          "execution_count": 45
        }
      ]
    },
    {
      "cell_type": "code",
      "source": [
        "details = {'name': 'Mukil', 'age': 22, 'city':'tirunelveli','state':'tamil nadu'}"
      ],
      "metadata": {
        "id": "E_31hmQEWWmt"
      },
      "execution_count": null,
      "outputs": []
    },
    {
      "cell_type": "code",
      "source": [
        "print(details.pop('city')) #remove any key and values"
      ],
      "metadata": {
        "colab": {
          "base_uri": "https://localhost:8080/"
        },
        "id": "IYW-Eei_XeMn",
        "outputId": "dcb81206-1a36-49b9-9423-dfa4bdc07258"
      },
      "execution_count": null,
      "outputs": [
        {
          "output_type": "stream",
          "name": "stdout",
          "text": [
            "tirunelveli\n"
          ]
        }
      ]
    },
    {
      "cell_type": "code",
      "source": [
        "details"
      ],
      "metadata": {
        "colab": {
          "base_uri": "https://localhost:8080/"
        },
        "id": "gkWJgOySXnH8",
        "outputId": "f898589d-3242-4c6d-a7a0-f74f98954d39"
      },
      "execution_count": null,
      "outputs": [
        {
          "output_type": "execute_result",
          "data": {
            "text/plain": [
              "{'name': 'Mukil', 'age': 22, 'state': 'tamil nadu'}"
            ]
          },
          "metadata": {},
          "execution_count": 49
        }
      ]
    },
    {
      "cell_type": "code",
      "source": [
        "details = {'name': 'Mukil', 'age': 22, 'city':'tirunelveli','state':'tamil nadu'} \n",
        "for key in details:\n",
        "   print(key)\n",
        "type(key)  "
      ],
      "metadata": {
        "colab": {
          "base_uri": "https://localhost:8080/"
        },
        "id": "E7CFQ90kZWb2",
        "outputId": "4ee3984c-60b1-43fb-81f4-b5a5b26faf0a"
      },
      "execution_count": null,
      "outputs": [
        {
          "output_type": "stream",
          "name": "stdout",
          "text": [
            "name\n",
            "age\n",
            "city\n",
            "state\n"
          ]
        },
        {
          "output_type": "execute_result",
          "data": {
            "text/plain": [
              "str"
            ]
          },
          "metadata": {},
          "execution_count": 56
        }
      ]
    },
    {
      "cell_type": "code",
      "source": [
        "details = {'name': 'Mukil', 'age': 22, 'city':'tirunelveli','state':'tamil nadu'} \n",
        "for values in details.values():\n",
        "   print(values)\n",
        "type(values)  "
      ],
      "metadata": {
        "colab": {
          "base_uri": "https://localhost:8080/"
        },
        "id": "2gv0uGZTpYfC",
        "outputId": "d3475eea-f257-4adc-de3e-e3c98d444d4b"
      },
      "execution_count": null,
      "outputs": [
        {
          "output_type": "stream",
          "name": "stdout",
          "text": [
            "Mukil\n",
            "22\n",
            "tirunelveli\n",
            "tamil nadu\n"
          ]
        },
        {
          "output_type": "execute_result",
          "data": {
            "text/plain": [
              "str"
            ]
          },
          "metadata": {},
          "execution_count": 12
        }
      ]
    },
    {
      "cell_type": "code",
      "source": [
        "details = {'name': 'Mukil', 'age': 22, 'city':'tirunelveli','state':'tamil nadu'} \n",
        "for key in details:\n",
        "   #print(key)\n",
        "   print(key,'-->',details[key])\n",
        "type(key)   "
      ],
      "metadata": {
        "colab": {
          "base_uri": "https://localhost:8080/"
        },
        "id": "mtJi0DaCXpQb",
        "outputId": "9aca8c49-af42-43ae-cfc4-8000b9995b36"
      },
      "execution_count": null,
      "outputs": [
        {
          "output_type": "stream",
          "name": "stdout",
          "text": [
            "name --> Mukil\n",
            "age --> 22\n",
            "city --> tirunelveli\n",
            "state --> tamil nadu\n"
          ]
        },
        {
          "output_type": "execute_result",
          "data": {
            "text/plain": [
              "str"
            ]
          },
          "metadata": {},
          "execution_count": 53
        }
      ]
    },
    {
      "cell_type": "code",
      "source": [
        "details = {'name': 'Mukil', 'age': 22, 'city':'tirunelveli','state':'tamil nadu'} \n",
        "for item in details.items(): #items func in dict\n",
        "   print(item)\n",
        "type(item)"
      ],
      "metadata": {
        "colab": {
          "base_uri": "https://localhost:8080/"
        },
        "id": "tzcoejqHYDGj",
        "outputId": "1a3a3221-affe-4444-e75a-4e88f56d1703"
      },
      "execution_count": null,
      "outputs": [
        {
          "output_type": "stream",
          "name": "stdout",
          "text": [
            "('name', 'Mukil')\n",
            "('age', 22)\n",
            "('city', 'tirunelveli')\n",
            "('state', 'tamil nadu')\n"
          ]
        },
        {
          "output_type": "execute_result",
          "data": {
            "text/plain": [
              "tuple"
            ]
          },
          "metadata": {},
          "execution_count": 63
        }
      ]
    },
    {
      "cell_type": "code",
      "source": [
        "details={'name': 'Mukil', 'age': 22, 'city':'tirunelveli','state':'tamil nadu'} \n",
        "for key,value in details.items():\n",
        "   print(key,':', type(key))\n",
        "   print(value,':', type(value))"
      ],
      "metadata": {
        "colab": {
          "base_uri": "https://localhost:8080/"
        },
        "id": "N7bDjrxBZBRc",
        "outputId": "588da49c-ab19-458d-8ec2-57ecf71ab8fb"
      },
      "execution_count": null,
      "outputs": [
        {
          "output_type": "stream",
          "name": "stdout",
          "text": [
            "name : <class 'str'>\n",
            "Mukil : <class 'str'>\n",
            "age : <class 'str'>\n",
            "22 : <class 'int'>\n",
            "city : <class 'str'>\n",
            "tirunelveli : <class 'str'>\n",
            "state : <class 'str'>\n",
            "tamil nadu : <class 'str'>\n"
          ]
        }
      ]
    },
    {
      "cell_type": "code",
      "source": [
        "details = {'name': 'Mukil', 'age': 22, 'city':'tirunelveli','state':'tamil nadu'} \n",
        "print('age' in details.keys())"
      ],
      "metadata": {
        "colab": {
          "base_uri": "https://localhost:8080/"
        },
        "id": "217hEFk_hECk",
        "outputId": "a039660e-1eb5-460b-b76b-ee5d2dc17425"
      },
      "execution_count": null,
      "outputs": [
        {
          "output_type": "stream",
          "name": "stdout",
          "text": [
            "True\n"
          ]
        }
      ]
    },
    {
      "cell_type": "code",
      "source": [
        "details = {'name': 'Mukil', 'age': 22, 'city':'tirunelveli','state':'tamil nadu'} \n",
        "print(22 in details.values())"
      ],
      "metadata": {
        "colab": {
          "base_uri": "https://localhost:8080/"
        },
        "id": "0_WAfNcXh4sG",
        "outputId": "0c4a44b7-0876-48fe-9224-69fb90ed2cac"
      },
      "execution_count": null,
      "outputs": [
        {
          "output_type": "stream",
          "name": "stdout",
          "text": [
            "True\n"
          ]
        }
      ]
    },
    {
      "cell_type": "code",
      "source": [
        "fruits_dict = {'apple': 100, 'banana': 40,'orange': 60, 'papaya': 30} \n",
        "for nameKey, priceValue in fruits_dict.items():\n",
        "   fruits_dict[nameKey] = round(priceValue * 1.1, 2)\n",
        "print(fruits_dict)"
      ],
      "metadata": {
        "colab": {
          "base_uri": "https://localhost:8080/"
        },
        "id": "g4zOijshiFqY",
        "outputId": "a2fb71a0-0a29-43c7-f04b-a54f236c1483"
      },
      "execution_count": null,
      "outputs": [
        {
          "output_type": "stream",
          "name": "stdout",
          "text": [
            "{'apple': 110.0, 'banana': 44.0, 'orange': 66.0, 'papaya': 33.0}\n"
          ]
        }
      ]
    },
    {
      "cell_type": "code",
      "source": [
        "fruits = list(fruits_dict.keys()) \n",
        "for name in fruits:\n",
        "   print(name)"
      ],
      "metadata": {
        "colab": {
          "base_uri": "https://localhost:8080/"
        },
        "id": "lcXS2E_DmS31",
        "outputId": "c0b13047-ee98-4c1d-9540-64c22015859c"
      },
      "execution_count": null,
      "outputs": [
        {
          "output_type": "stream",
          "name": "stdout",
          "text": [
            "apple\n",
            "banana\n",
            "orange\n",
            "papaya\n"
          ]
        }
      ]
    },
    {
      "cell_type": "code",
      "source": [
        "for key in list(fruits_dict.keys()):\n",
        "  if key=='apple':\n",
        "    del fruits_dict[key]\n",
        "print(fruits_dict)    "
      ],
      "metadata": {
        "colab": {
          "base_uri": "https://localhost:8080/"
        },
        "id": "hjnDba7-nADt",
        "outputId": "f054cf58-6abd-4f32-d8c8-222ac8783ef4"
      },
      "execution_count": null,
      "outputs": [
        {
          "output_type": "stream",
          "name": "stdout",
          "text": [
            "{'banana': 44.0, 'orange': 66.0, 'papaya': 33.0}\n"
          ]
        }
      ]
    },
    {
      "cell_type": "code",
      "source": [
        "employees = {'kathir':101, 'kavin':105, 'arul':103, 'viyan': 104,'kathir':201 } \n",
        "new_employees={} #empty dictionary \n",
        "for key, value in employees.items():\n",
        "   new_employees[value] = key\n",
        "print(new_employees)   "
      ],
      "metadata": {
        "colab": {
          "base_uri": "https://localhost:8080/"
        },
        "id": "ZtEycbjEn8Xg",
        "outputId": "5a29dd49-4a59-4580-db13-034c09e95563"
      },
      "execution_count": null,
      "outputs": [
        {
          "output_type": "stream",
          "name": "stdout",
          "text": [
            "{201: 'kathir', 105: 'kavin', 103: 'arul', 104: 'viyan'}\n"
          ]
        }
      ]
    },
    {
      "cell_type": "code",
      "source": [
        "employees = {'kavin':2000, 'arul':3000, 'viyin': 1700,'kathir':2010 } \n",
        "new_employees={} #new dictionary \n",
        "for key, value in employees.items():\n",
        "   if value >= 1800:\n",
        "      new_employees[key] = value\n",
        "new_employees"
      ],
      "metadata": {
        "colab": {
          "base_uri": "https://localhost:8080/"
        },
        "id": "gE3Oq2Ldonhz",
        "outputId": "ad6ce05b-1806-448d-bf7d-de49d86f2861"
      },
      "execution_count": null,
      "outputs": [
        {
          "output_type": "execute_result",
          "data": {
            "text/plain": [
              "{'kavin': 2000, 'arul': 3000, 'kathir': 2010}"
            ]
          },
          "metadata": {},
          "execution_count": 88
        }
      ]
    },
    {
      "cell_type": "code",
      "source": [
        "employees = {'kathir':1000, 'mathi':2000, 'arul':3000, 'viyan': 1800,'kathir':2010 } \n",
        "for key in sorted(employees):\n",
        "   print(key, ':', employees[key])"
      ],
      "metadata": {
        "colab": {
          "base_uri": "https://localhost:8080/"
        },
        "id": "H4ReYTdfqnZV",
        "outputId": "1bb3135e-50fd-4052-b3cf-a11b2793460e"
      },
      "execution_count": null,
      "outputs": [
        {
          "output_type": "stream",
          "name": "stdout",
          "text": [
            "arul : 3000\n",
            "kathir : 2010\n",
            "mathi : 2000\n",
            "viyan : 1800\n"
          ]
        }
      ]
    },
    {
      "cell_type": "code",
      "source": [
        "employees = {'kathir':1000, 'mathi':2000, 'arul':3000, 'viyan': 1800,'kathir':2010 }\n",
        "for value in sorted(employees.values()):\n",
        " print(value)"
      ],
      "metadata": {
        "colab": {
          "base_uri": "https://localhost:8080/"
        },
        "id": "NG-uxruCsIvM",
        "outputId": "b4cfa73f-89fb-4978-8117-214898c89ad5"
      },
      "execution_count": null,
      "outputs": [
        {
          "output_type": "stream",
          "name": "stdout",
          "text": [
            "1800\n",
            "2000\n",
            "2010\n",
            "3000\n"
          ]
        }
      ]
    },
    {
      "cell_type": "code",
      "source": [
        "employees = {'kathir':1000, 'mathi':2000, 'arul':3000, 'viyan': 1800,'kathir':2010}\n",
        "total_income = 0 \n",
        "for key in sorted(employees):\n",
        "   print(key, ':', employees[key])\n",
        "   total_income += employees[key]\n",
        "print(total_income)   "
      ],
      "metadata": {
        "colab": {
          "base_uri": "https://localhost:8080/"
        },
        "id": "Nzr_lyQWwrc1",
        "outputId": "643f5826-aa43-4d76-cf22-0736e7e4613c"
      },
      "execution_count": null,
      "outputs": [
        {
          "output_type": "stream",
          "name": "stdout",
          "text": [
            "arul : 3000\n",
            "kathir : 2010\n",
            "mathi : 2000\n",
            "viyan : 1800\n",
            "8810\n"
          ]
        }
      ]
    },
    {
      "cell_type": "code",
      "source": [
        "r= range(10) \n",
        "print(type(r)) \n",
        "for i in r:\n",
        "   print(i)"
      ],
      "metadata": {
        "id": "faV0Ik4itRGr",
        "colab": {
          "base_uri": "https://localhost:8080/"
        },
        "outputId": "6d1b0f2e-6ca6-4939-f668-3388baa1c8b4"
      },
      "execution_count": null,
      "outputs": [
        {
          "output_type": "stream",
          "name": "stdout",
          "text": [
            "<class 'range'>\n",
            "0\n",
            "1\n",
            "2\n",
            "3\n",
            "4\n",
            "5\n",
            "6\n",
            "7\n",
            "8\n",
            "9\n"
          ]
        }
      ]
    },
    {
      "cell_type": "code",
      "source": [
        "r = range(5,20) \n",
        "for i in r:\n",
        "   print(i, end=' ')"
      ],
      "metadata": {
        "colab": {
          "base_uri": "https://localhost:8080/"
        },
        "id": "1tdkaimqvfd1",
        "outputId": "48d11c3f-762c-4587-d89d-9ccceee41383"
      },
      "execution_count": null,
      "outputs": [
        {
          "output_type": "stream",
          "name": "stdout",
          "text": [
            "5 6 7 8 9 10 11 12 13 14 15 16 17 18 19 "
          ]
        }
      ]
    },
    {
      "cell_type": "code",
      "source": [
        "r = range(20,5,-2) \n",
        "for i in r:\n",
        "   print(i, end=' ')"
      ],
      "metadata": {
        "colab": {
          "base_uri": "https://localhost:8080/"
        },
        "id": "sLBE7Yl5v1rU",
        "outputId": "d2eea225-5701-42e2-f45e-f652cc14418c"
      },
      "execution_count": null,
      "outputs": [
        {
          "output_type": "stream",
          "name": "stdout",
          "text": [
            "20 18 16 14 12 10 8 6 "
          ]
        }
      ]
    },
    {
      "cell_type": "code",
      "source": [
        "r = range(5,20,2)  \n",
        "print(r[0]) \n",
        "print(r[2:5]) \n",
        "print(r[-1])"
      ],
      "metadata": {
        "colab": {
          "base_uri": "https://localhost:8080/"
        },
        "id": "dmb_jrJ8wdxH",
        "outputId": "fab77444-be0e-47de-ae4c-3a3229908fc3"
      },
      "execution_count": null,
      "outputs": [
        {
          "output_type": "stream",
          "name": "stdout",
          "text": [
            "5\n",
            "range(9, 15, 2)\n",
            "19\n"
          ]
        }
      ]
    },
    {
      "cell_type": "code",
      "source": [
        "#bytes(binary digits)\n",
        "#0 to 255\n",
        "#indexing\n",
        "#slicing\n",
        "#immutable"
      ],
      "metadata": {
        "id": "hmiFTeazwv0k"
      },
      "execution_count": null,
      "outputs": []
    },
    {
      "cell_type": "code",
      "source": [
        "values = [10,20,30,40]\n",
        "b = bytes(values) \n",
        "print(type(b)) \n",
        "for i in b:\n",
        "   print(i, end=' ')"
      ],
      "metadata": {
        "colab": {
          "base_uri": "https://localhost:8080/"
        },
        "id": "IgTu4SLdw_f6",
        "outputId": "7ca63919-b04d-4d0d-d54d-0fd5bca809d0"
      },
      "execution_count": null,
      "outputs": [
        {
          "output_type": "stream",
          "name": "stdout",
          "text": [
            "<class 'bytes'>\n",
            "10 20 30 40 "
          ]
        }
      ]
    },
    {
      "cell_type": "code",
      "source": [
        "#mutable byte is known as bytearray\n",
        "ba = bytearray(values) \n",
        "print(ba[0]) \n",
        "ba[0] = 56\n",
        "print(ba[0]) "
      ],
      "metadata": {
        "colab": {
          "base_uri": "https://localhost:8080/"
        },
        "id": "m6XWUnDcxAV9",
        "outputId": "e0f2e49f-baf8-4a31-febd-b1300d6cf0e8"
      },
      "execution_count": null,
      "outputs": [
        {
          "output_type": "stream",
          "name": "stdout",
          "text": [
            "10\n",
            "56\n"
          ]
        }
      ]
    },
    {
      "cell_type": "code",
      "source": [
        "name = 'sedhu'\n",
        "name.capitalize()"
      ],
      "metadata": {
        "colab": {
          "base_uri": "https://localhost:8080/",
          "height": 36
        },
        "id": "TXoGgyA0OsvH",
        "outputId": "4ca40750-1fb4-4e1f-94c5-21f38e22607a"
      },
      "execution_count": null,
      "outputs": [
        {
          "output_type": "execute_result",
          "data": {
            "text/plain": [
              "'Sedhu'"
            ],
            "application/vnd.google.colaboratory.intrinsic+json": {
              "type": "string"
            }
          },
          "metadata": {},
          "execution_count": 21
        }
      ]
    },
    {
      "cell_type": "code",
      "source": [
        "name = 'sedHu'\n",
        "name.casefold() #lower()"
      ],
      "metadata": {
        "colab": {
          "base_uri": "https://localhost:8080/",
          "height": 36
        },
        "id": "dbG2DEJYO3Cc",
        "outputId": "458eac12-ba94-4e87-be1a-8f4ed01f6c73"
      },
      "execution_count": null,
      "outputs": [
        {
          "output_type": "execute_result",
          "data": {
            "text/plain": [
              "'sedhu'"
            ],
            "application/vnd.google.colaboratory.intrinsic+json": {
              "type": "string"
            }
          },
          "metadata": {},
          "execution_count": 23
        }
      ]
    },
    {
      "cell_type": "code",
      "source": [
        "name = 'sedhu'\n",
        "name.center(13, '*')"
      ],
      "metadata": {
        "colab": {
          "base_uri": "https://localhost:8080/",
          "height": 36
        },
        "id": "i9hbpnFBO2_c",
        "outputId": "fd4ed286-0e8e-4814-95b2-33b1ca635729"
      },
      "execution_count": null,
      "outputs": [
        {
          "output_type": "execute_result",
          "data": {
            "text/plain": [
              "'****sedhu****'"
            ],
            "application/vnd.google.colaboratory.intrinsic+json": {
              "type": "string"
            }
          },
          "metadata": {},
          "execution_count": 28
        }
      ]
    },
    {
      "cell_type": "code",
      "source": [
        "sentence = 'learning python is funny. is it correct?'\n",
        "word = 'is'\n",
        "sentence.count(word)"
      ],
      "metadata": {
        "colab": {
          "base_uri": "https://localhost:8080/"
        },
        "id": "CxKWQSGjO28S",
        "outputId": "31ced1de-f5cf-4e2c-e6cd-a3cd44a0c985"
      },
      "execution_count": null,
      "outputs": [
        {
          "output_type": "execute_result",
          "data": {
            "text/plain": [
              "2"
            ]
          },
          "metadata": {},
          "execution_count": 30
        }
      ]
    },
    {
      "cell_type": "code",
      "source": [
        "sentence = 'learning python is funny. is it correct?'\n",
        "sentence.endswith('?')"
      ],
      "metadata": {
        "colab": {
          "base_uri": "https://localhost:8080/"
        },
        "id": "Pi6Z5vNCO24M",
        "outputId": "2a90abde-bc3a-4bbd-816c-c959ba5108c1"
      },
      "execution_count": null,
      "outputs": [
        {
          "output_type": "execute_result",
          "data": {
            "text/plain": [
              "True"
            ]
          },
          "metadata": {},
          "execution_count": 32
        }
      ]
    },
    {
      "cell_type": "code",
      "source": [
        "sentence = 'learning python is funny. is it correct?'\n",
        "sentence.expandtabs(3)"
      ],
      "metadata": {
        "colab": {
          "base_uri": "https://localhost:8080/",
          "height": 36
        },
        "id": "Izh4Klz0QFvF",
        "outputId": "93ef42f3-0214-4206-b803-fc02ff8d9f19"
      },
      "execution_count": null,
      "outputs": [
        {
          "output_type": "execute_result",
          "data": {
            "text/plain": [
              "'learning python is funny. is it correct?'"
            ],
            "application/vnd.google.colaboratory.intrinsic+json": {
              "type": "string"
            }
          },
          "metadata": {},
          "execution_count": 36
        }
      ]
    },
    {
      "cell_type": "code",
      "source": [
        "#python doesnt have constants"
      ],
      "metadata": {
        "id": "damB74RYyH9a"
      },
      "execution_count": null,
      "outputs": []
    },
    {
      "cell_type": "code",
      "source": [
        "repeat = 'yes'\n",
        "print('basic calculator')\n",
        "\n",
        "while repeat == 'yes':\n",
        "  num1 = float(input('Enter the first num: '))\n",
        "  operator = input('''enter your choice\n",
        "                    + --> addition,\n",
        "                    - --> subtraction,\n",
        "                    * --> multiplication,\n",
        "                    / --> division,\n",
        "                    // --> floor division,\n",
        "                    % --> modules,\n",
        "                    ** --> power operator ''')\n",
        "  num2 = float(input('enter the second num: '))\n",
        "  if operator == '+':\n",
        "    answer = num1 + num2\n",
        "    print(num1,'+',num2,'=',answer)\n",
        "  elif operator == '-':\n",
        "    answer = num1 - num2\n",
        "    print(num1,'-',num2,'=',answer)\n",
        "  elif operator == '*':\n",
        "    answer = num1 * num2\n",
        "    print(num1,'*',num2,'=',answer)\n",
        "  elif operator == '/':\n",
        "    answer = num1 / num2\n",
        "    print(num1,'/',num2,'=',answer)\n",
        "  elif operator == '//':\n",
        "    answer = num1 // num2\n",
        "    print(num1,'//',num2,'=',answer)\n",
        "  elif operator == '%':\n",
        "    answer = num1 % num2\n",
        "    print(num1,'%',num2,'=',answer)\n",
        "  elif operator == '**':\n",
        "    answer = num1 ** num2\n",
        "    print(num1,'**',num2,'=',answer)\n",
        "  else:\n",
        "    print('invalid,please enter valid operator')\n",
        "  y_or_n = input('enter \"yes\" for another calculation: ').lower()\n",
        "  repeat = y_or_n\n",
        "\n",
        "  if repeat != 'yes':\n",
        "    print('thank you')          \n"
      ],
      "metadata": {
        "colab": {
          "base_uri": "https://localhost:8080/"
        },
        "id": "i9JuJ8X82DYV",
        "outputId": "85d5e927-1d4a-4e49-bff0-2ca10ad15957"
      },
      "execution_count": null,
      "outputs": [
        {
          "output_type": "stream",
          "name": "stdout",
          "text": [
            "basic calculator\n",
            "Enter the first num: 2\n",
            "enter your choice\n",
            "                    + --> addition,\n",
            "                    - --> subtraction,\n",
            "                    * --> multiplication,\n",
            "                    / --> division,\n",
            "                    // --> floor division,\n",
            "                    % --> modules,\n",
            "                    ** --> power operator +\n",
            "enter the second num: 2\n",
            "2.0 + 2.0 = 4.0\n",
            "enter \"yes\" for another calculation: yes\n",
            "Enter the first num: 2\n",
            "enter your choice\n",
            "                    + --> addition,\n",
            "                    - --> subtraction,\n",
            "                    * --> multiplication,\n",
            "                    / --> division,\n",
            "                    // --> floor division,\n",
            "                    % --> modules,\n",
            "                    ** --> power operator *\n",
            "enter the second num: 2\n",
            "2.0 * 2.0 = 4.0\n",
            "enter \"yes\" for another calculation: no\n",
            "thank you\n"
          ]
        }
      ]
    },
    {
      "cell_type": "code",
      "source": [
        "#random dice roller\n",
        "from random import randint\n",
        "min = 1\n",
        "max = 6\n",
        "\n",
        "again = True\n",
        "while again==True:\n",
        "  print(\"Dice value now: \", randint(min, max)) \n",
        "  another_roll = input(\"Press 'yes' if you want to roll the dice again: \").lower()\n",
        "  if another_roll.lower() == 'yes':\n",
        "     again = True \n",
        "  else:\n",
        "     again = False"
      ],
      "metadata": {
        "colab": {
          "base_uri": "https://localhost:8080/"
        },
        "id": "sNZlpFKP7EOh",
        "outputId": "69527cb4-8fc5-49e6-948f-5257ec7a557b"
      },
      "execution_count": null,
      "outputs": [
        {
          "name": "stdout",
          "output_type": "stream",
          "text": [
            "Dice value now:  3\n",
            "Press 'yes' if you want to roll the dice again yes\n",
            "Dice value now:  3\n",
            "Press 'yes' if you want to roll the dice again yes\n",
            "Dice value now:  5\n",
            "Press 'yes' if you want to roll the dice again no\n"
          ]
        }
      ]
    },
    {
      "cell_type": "code",
      "source": [
        "items = [15, 8, 1, 10, 13] #list \n",
        "print(\"list of items: \", items) \n",
        "searchingNo = int(input(\"enter item to search:\")) #15\n",
        "i = flag = 0\n",
        "while i < len(items):\n",
        "  if items[i]==searchingNo:\n",
        "    flag = 1\n",
        "    break\n",
        "  i+=1\n",
        "if flag == 1:\n",
        "  print('item found at position: ',i + 1)\n",
        "else:\n",
        "  print('item not found')      "
      ],
      "metadata": {
        "colab": {
          "base_uri": "https://localhost:8080/"
        },
        "id": "9DAvY9KG_2sz",
        "outputId": "fd046bd4-d344-40e4-9bfe-b91c2232eb15"
      },
      "execution_count": null,
      "outputs": [
        {
          "output_type": "stream",
          "name": "stdout",
          "text": [
            "list of items:  [15, 8, 1, 10, 13]\n",
            "enter item to search:1\n",
            "item found at position:  3\n"
          ]
        }
      ]
    },
    {
      "cell_type": "code",
      "source": [
        "from random import randint\n",
        "choices = ['saa','boo','three']\n",
        "computer = choices[randint(0,2)]\n",
        "player = 'yes'\n",
        "while player == 'yes':\n",
        "  player = input(\"saa,boo,three?\")\n",
        "  if player == computer:\n",
        "    print('tie!')\n",
        "  elif player == 'saa':\n",
        "    if computer == 'boo':\n",
        "      print('you lose!', computer,'won',player)\n",
        "    else:\n",
        "      print('you win!',player,'won',computer)\n",
        "  elif player == 'boo':\n",
        "    if computer =='three':\n",
        "      print('you lose!',computer,'won',player)\n",
        "    else:\n",
        "      print('great! you win',player,'won',computer)\n",
        "  elif player =='three':\n",
        "    if computer == 'saa':\n",
        "      print('you lose...',computer,'won',player)\n",
        "    else:\n",
        "      print('you win!',player,'won',computer)\n",
        "  else:\n",
        "    print('please check your spelling!')  \n",
        "  looping = input('print yes to play again: ').lower()\n",
        "  player = looping\n",
        "  computer = choices[randint(0,2)]          \n"
      ],
      "metadata": {
        "colab": {
          "base_uri": "https://localhost:8080/"
        },
        "id": "4T4iGbZRBqTd",
        "outputId": "436c4b52-6c98-4093-accf-b98c81334714"
      },
      "execution_count": 6,
      "outputs": [
        {
          "name": "stdout",
          "output_type": "stream",
          "text": [
            "saa,boo,three?saa\n",
            "tie!\n",
            "print yes to play again: yes\n",
            "saa,boo,three?three\n",
            "you lose... saa won three\n",
            "print yes to play again: yes\n",
            "saa,boo,three?three\n",
            "you win! three won boo\n",
            "print yes to play again: no\n"
          ]
        }
      ]
    },
    {
      "cell_type": "code",
      "source": [
        "#student mark report\n",
        "#how many student\n",
        "studentcount = int(input('enter the number of student: '))\n",
        "report = {}\n",
        "subjects = ('tamil','englsh','maths','science','social')\n",
        "for student in range(studentcount):\n",
        "  name = input('enter the name of the student %d: ' %(student + 1))\n",
        "  marks = []\n",
        "  for subject in subjects:\n",
        "    marks.append(int(input('enter marks of %s: ' %subject)))\n",
        "  report[name] = marks\n",
        "print('------------------------')  \n",
        "for name, marks in report.items():  \n",
        "  total = sum(marks)\n",
        "  print(\"%s 's total marks %d\" % (name,total))\n",
        "  if total < 120:\n",
        "    print('%s failed :(' % name)\n",
        "  else:\n",
        "    print('%s passed :)' % name)    "
      ],
      "metadata": {
        "colab": {
          "base_uri": "https://localhost:8080/"
        },
        "id": "nnm6AhEDH00L",
        "outputId": "dd2f12b9-dd68-4d65-b700-b1f860b6a317"
      },
      "execution_count": null,
      "outputs": [
        {
          "output_type": "stream",
          "name": "stdout",
          "text": [
            "enter the number of student: 2\n",
            "enter the name of the student 1: sedhu\n",
            "enter marks of tamil: 55\n",
            "enter marks of englsh: 66\n",
            "enter marks of maths: 77\n",
            "enter marks of science: 88\n",
            "enter marks of social: 99\n",
            "enter the name of the student 2: vicky\n",
            "enter marks of tamil: 66\n",
            "enter marks of englsh: 77\n",
            "enter marks of maths: 88\n",
            "enter marks of science: 99\n",
            "enter marks of social: 100\n",
            "sedhu 's total marks 385\n",
            "sedhu passed :)\n",
            "vicky 's total marks 430\n",
            "vicky passed :)\n"
          ]
        }
      ]
    },
    {
      "cell_type": "code",
      "source": [
        "#binary search\n",
        "arr = [1,10,20,30,40,50]\n",
        "x = 12\n",
        "start = 0\n",
        "end = len(arr)-1        \n",
        "while end >= start:     \n",
        "  mid = start + (end - start)//2  \n",
        "  if arr[mid] == x:               \n",
        "    result = mid\n",
        "    break\n",
        "  elif arr[mid] > x:              \n",
        "    end = mid-1\n",
        "  else:                           \n",
        "    start = mid+1  \n",
        "else:\n",
        "  result = -1\n",
        "\n",
        "if result != -1:\n",
        "  print('element is presnt at index',result)\n",
        "else:\n",
        "  print('element is not present in array')    "
      ],
      "metadata": {
        "colab": {
          "base_uri": "https://localhost:8080/"
        },
        "id": "SwJme3bbLUXD",
        "outputId": "171cb4ec-7d32-4a81-eeb8-1d2ba87d3a25"
      },
      "execution_count": null,
      "outputs": [
        {
          "output_type": "stream",
          "name": "stdout",
          "text": [
            "element is not present in array\n"
          ]
        }
      ]
    },
    {
      "cell_type": "code",
      "source": [
        "#hangman game\n",
        "name = input('enter your name: ')\n",
        "print('hi',name,',welcome')\n",
        "word = 'python'\n",
        "guesses = ''\n",
        "attemps = 10\n",
        "while attemps>0:\n",
        "  lose = 0\n",
        "  for letter in word:\n",
        "    if letter in guesses:\n",
        "      print(letter, end=' ')\n",
        "    else:\n",
        "      print('_',end=' ')\n",
        "      lose+=1\n",
        "\n",
        "  if lose == 0:\n",
        "    print('\\nvictory!')\n",
        "    break\n",
        "  print()\n",
        "  guess = input('guess any word!')\n",
        "  guesses += guess\n",
        "\n",
        "  if guess not in word:\n",
        "    attemps -=1\n",
        "    print('wrong, ')\n",
        "    print('you have ',attemps,' more chance')\n",
        "    if attemps == 0:\n",
        "      print('just miss')        "
      ],
      "metadata": {
        "colab": {
          "base_uri": "https://localhost:8080/"
        },
        "id": "daFLvRBERQqD",
        "outputId": "6daa8c84-4517-4d15-e1d3-51c0ecaef064"
      },
      "execution_count": null,
      "outputs": [
        {
          "output_type": "stream",
          "name": "stdout",
          "text": [
            "enter your name: sedhu\n",
            "hi sedhu ,welcome\n",
            "_ _ _ _ _ _ \n",
            "guess any word!q\n",
            "wrong, \n",
            "you have  9  more chance\n",
            "_ _ _ _ _ _ \n",
            "guess any word!p\n",
            "p _ _ _ _ _ \n",
            "guess any word!y\n",
            "p y _ _ _ _ \n",
            "guess any word!t\n",
            "p y t _ _ _ \n",
            "guess any word!h\n",
            "p y t h _ _ \n",
            "guess any word!o\n",
            "p y t h o _ \n",
            "guess any word!n\n",
            "p y t h o n \n",
            "victory!\n"
          ]
        }
      ]
    },
    {
      "cell_type": "code",
      "source": [
        "#bubble sort\n",
        "arr = [2,18,16,11,7,4,6] \n",
        "n = len(arr)-1 #6 \n",
        "\n",
        "for j in range(n):\n",
        "  print(\"Before for loop \", arr) \n",
        "  for i in range(n):\n",
        "    print('inside for loop',arr)\n",
        "    if arr[i]>arr[i+1]:\n",
        "      arr[i],arr[i+1] = arr[i+1],arr[i]\n",
        "  print('after for loop',arr)\n",
        "  n-=1\n",
        "print(arr)  \n",
        "#insertion sort,selection sort"
      ],
      "metadata": {
        "id": "i5WPXaBDL7Hn",
        "colab": {
          "base_uri": "https://localhost:8080/"
        },
        "outputId": "4ce0353d-b4ed-497d-da2b-fc88f1801283"
      },
      "execution_count": null,
      "outputs": [
        {
          "output_type": "stream",
          "name": "stdout",
          "text": [
            "Before for loop  [2, 18, 16, 11, 7, 4, 6]\n",
            "inside for loop [2, 18, 16, 11, 7, 4, 6]\n",
            "inside for loop [2, 18, 16, 11, 7, 4, 6]\n",
            "inside for loop [2, 16, 18, 11, 7, 4, 6]\n",
            "inside for loop [2, 16, 11, 18, 7, 4, 6]\n",
            "inside for loop [2, 16, 11, 7, 18, 4, 6]\n",
            "inside for loop [2, 16, 11, 7, 4, 18, 6]\n",
            "after for loop [2, 16, 11, 7, 4, 6, 18]\n",
            "Before for loop  [2, 16, 11, 7, 4, 6, 18]\n",
            "inside for loop [2, 16, 11, 7, 4, 6, 18]\n",
            "inside for loop [2, 16, 11, 7, 4, 6, 18]\n",
            "inside for loop [2, 11, 16, 7, 4, 6, 18]\n",
            "inside for loop [2, 11, 7, 16, 4, 6, 18]\n",
            "inside for loop [2, 11, 7, 4, 16, 6, 18]\n",
            "after for loop [2, 11, 7, 4, 6, 16, 18]\n",
            "Before for loop  [2, 11, 7, 4, 6, 16, 18]\n",
            "inside for loop [2, 11, 7, 4, 6, 16, 18]\n",
            "inside for loop [2, 11, 7, 4, 6, 16, 18]\n",
            "inside for loop [2, 7, 11, 4, 6, 16, 18]\n",
            "inside for loop [2, 7, 4, 11, 6, 16, 18]\n",
            "after for loop [2, 7, 4, 6, 11, 16, 18]\n",
            "Before for loop  [2, 7, 4, 6, 11, 16, 18]\n",
            "inside for loop [2, 7, 4, 6, 11, 16, 18]\n",
            "inside for loop [2, 7, 4, 6, 11, 16, 18]\n",
            "inside for loop [2, 4, 7, 6, 11, 16, 18]\n",
            "after for loop [2, 4, 6, 7, 11, 16, 18]\n",
            "Before for loop  [2, 4, 6, 7, 11, 16, 18]\n",
            "inside for loop [2, 4, 6, 7, 11, 16, 18]\n",
            "inside for loop [2, 4, 6, 7, 11, 16, 18]\n",
            "after for loop [2, 4, 6, 7, 11, 16, 18]\n",
            "Before for loop  [2, 4, 6, 7, 11, 16, 18]\n",
            "inside for loop [2, 4, 6, 7, 11, 16, 18]\n",
            "after for loop [2, 4, 6, 7, 11, 16, 18]\n",
            "[2, 4, 6, 7, 11, 16, 18]\n"
          ]
        }
      ]
    },
    {
      "cell_type": "code",
      "source": [
        "def sum(num1, num2):\n",
        "  return num1 + num2\n",
        "results = sum(5,10)\n",
        "print(results)  "
      ],
      "metadata": {
        "colab": {
          "base_uri": "https://localhost:8080/"
        },
        "id": "94qJuyZKK80Z",
        "outputId": "e0f4fa8b-7713-4387-97ba-add44055f258"
      },
      "execution_count": null,
      "outputs": [
        {
          "output_type": "stream",
          "name": "stdout",
          "text": [
            "15\n"
          ]
        }
      ]
    },
    {
      "cell_type": "code",
      "source": [
        "def palindrome(word):\n",
        "   return word == word[::-1] \n",
        "word = input(\"enter any word: \")\n",
        "if palindrome(word):\n",
        "  print('its a palindrome')\n",
        "else:\n",
        "  print('not a palindrome')  "
      ],
      "metadata": {
        "colab": {
          "base_uri": "https://localhost:8080/"
        },
        "id": "zOrBfkErpl2I",
        "outputId": "955498e3-a9bc-4663-8daa-25e3409c038f"
      },
      "execution_count": null,
      "outputs": [
        {
          "output_type": "stream",
          "name": "stdout",
          "text": [
            "enter any word: madam\n",
            "palindrome\n"
          ]
        }
      ]
    },
    {
      "cell_type": "code",
      "source": [
        "def change(amt):\n",
        "  amt = 2000\n",
        "  print('change needed for',amt)\n",
        "amt = 10000\n",
        "print('to be spend',amt)\n",
        "change(amt)\n",
        "print('after getteing change',amt)  "
      ],
      "metadata": {
        "colab": {
          "base_uri": "https://localhost:8080/"
        },
        "id": "Mn8FHRKRKRjV",
        "outputId": "06cfb3fb-6498-4b65-ca49-17504419c272"
      },
      "execution_count": null,
      "outputs": [
        {
          "output_type": "stream",
          "name": "stdout",
          "text": [
            "to be spend 10000\n",
            "change needed for 2000\n",
            "after getteing change 10000\n"
          ]
        }
      ]
    },
    {
      "cell_type": "code",
      "source": [
        "price = 10 \n",
        "def calculate():\n",
        "   global price \n",
        "   price = price+2 \n",
        "print(price) \n",
        "calculate() \n",
        "print(price)"
      ],
      "metadata": {
        "colab": {
          "base_uri": "https://localhost:8080/"
        },
        "id": "y_P3atKbve3Y",
        "outputId": "360b9a64-cf9a-4b27-dbad-34dd70b0bb03"
      },
      "execution_count": null,
      "outputs": [
        {
          "output_type": "stream",
          "name": "stdout",
          "text": [
            "10\n",
            "12\n"
          ]
        }
      ]
    },
    {
      "cell_type": "code",
      "source": [
        "x = 8 \n",
        "def loc():\n",
        "   x = 7\n",
        "   print(\"local x value \", x) \n",
        "   \n",
        "loc() \n",
        "print(\"global x value \",x )"
      ],
      "metadata": {
        "colab": {
          "base_uri": "https://localhost:8080/"
        },
        "id": "K56AEUhGvezv",
        "outputId": "1ee9aa62-5a7b-4c00-f3ca-843edbf1e8c0"
      },
      "execution_count": null,
      "outputs": [
        {
          "output_type": "stream",
          "name": "stdout",
          "text": [
            "local x value  7\n",
            "global x value  8\n"
          ]
        }
      ]
    },
    {
      "cell_type": "code",
      "source": [
        "#default argument\n",
        "def find_discount(mrp,perc=10):\n",
        "  discount = mrp * (perc/100) \n",
        "  arp = mrp - discount \n",
        "  print(arp) \n",
        "find_discount(100) \n",
        "find_discount(100,25) "
      ],
      "metadata": {
        "colab": {
          "base_uri": "https://localhost:8080/"
        },
        "id": "L8__fbRe2nwK",
        "outputId": "b491310f-5680-4ae8-b6c1-ca33e38c21ac"
      },
      "execution_count": null,
      "outputs": [
        {
          "output_type": "stream",
          "name": "stdout",
          "text": [
            "90.0\n",
            "75.0\n"
          ]
        }
      ]
    },
    {
      "cell_type": "code",
      "source": [
        "def tellMeyourname(*names):\n",
        "   for name in names:\n",
        "      print(name) \n",
        "tellMeyourname('muthu','kumar','kathir','tamil')"
      ],
      "metadata": {
        "colab": {
          "base_uri": "https://localhost:8080/"
        },
        "id": "WEm4Y30k8kur",
        "outputId": "ddfc6b80-a650-4fd4-87f9-63ce594e5591"
      },
      "execution_count": null,
      "outputs": [
        {
          "output_type": "stream",
          "name": "stdout",
          "text": [
            "muthu\n",
            "kumar\n",
            "kathir\n",
            "tamil\n"
          ]
        }
      ]
    },
    {
      "cell_type": "code",
      "source": [
        "#variable argument\n",
        "def mrp(*amount):\n",
        "  for price in amount:\n",
        "    print(price)\n",
        "mrp(100,90) \n",
        "mrp(100,90,5)    "
      ],
      "metadata": {
        "colab": {
          "base_uri": "https://localhost:8080/"
        },
        "id": "-wVRlsjh_XhD",
        "outputId": "3efb4cec-5f37-43b9-e9cd-d5bffa5999f7"
      },
      "execution_count": null,
      "outputs": [
        {
          "output_type": "stream",
          "name": "stdout",
          "text": [
            "100\n",
            "90\n",
            "100\n",
            "90\n",
            "5\n"
          ]
        }
      ]
    },
    {
      "cell_type": "code",
      "source": [
        "def mrp(sellingprice,buyingprice,**tax):\n",
        "  print(sellingprice)\n",
        "  print(buyingprice)\n",
        "  for key, value in tax.items():\n",
        "    print(key, type(key))\n",
        "    print(value, type(value))\n",
        "mrp(100,90,sgst=5,cgst=5)    "
      ],
      "metadata": {
        "colab": {
          "base_uri": "https://localhost:8080/"
        },
        "id": "54Am6pFXI4YS",
        "outputId": "e75476b5-80bf-4bcb-c62c-1faf8afc4cd9"
      },
      "execution_count": null,
      "outputs": [
        {
          "output_type": "stream",
          "name": "stdout",
          "text": [
            "100\n",
            "90\n",
            "sgst <class 'str'>\n",
            "5 <class 'int'>\n",
            "cgst <class 'str'>\n",
            "5 <class 'int'>\n"
          ]
        }
      ]
    },
    {
      "cell_type": "code",
      "source": [
        "#composition in function\n",
        "def tellMeNumber():\n",
        "   return 5 \n",
        "print(tellMeNumber())"
      ],
      "metadata": {
        "colab": {
          "base_uri": "https://localhost:8080/"
        },
        "id": "dwtJGLC7Cx36",
        "outputId": "409c0f08-bcee-464d-d0df-838dc2d1a471"
      },
      "execution_count": null,
      "outputs": [
        {
          "output_type": "stream",
          "name": "stdout",
          "text": [
            "5\n"
          ]
        }
      ]
    },
    {
      "cell_type": "code",
      "source": [
        "def tellMeNumber(n):\n",
        "   return n \n",
        "print(tellMeNumber(50))"
      ],
      "metadata": {
        "colab": {
          "base_uri": "https://localhost:8080/"
        },
        "id": "iDdI1EaZCzzm",
        "outputId": "0c5ec6c7-18c2-4b30-da32-fcc588534673"
      },
      "execution_count": null,
      "outputs": [
        {
          "output_type": "execute_result",
          "data": {
            "text/plain": [
              "50"
            ]
          },
          "metadata": {},
          "execution_count": 16
        }
      ]
    },
    {
      "cell_type": "code",
      "source": [
        "import math\n",
        "no1 = 34.6 \n",
        "no2 = -34.6 \n",
        "no3 = 34.5 \n",
        "no4 = 34.2 \n",
        "print(math.floor(no1)) \n",
        "print(math.floor(no2)) \n",
        "print(math.floor(no3)) \n",
        "print(math.floor(no4))"
      ],
      "metadata": {
        "colab": {
          "base_uri": "https://localhost:8080/"
        },
        "id": "f34JyHlTI11L",
        "outputId": "52237e99-c3b5-4c69-b82b-d437d6488206"
      },
      "execution_count": null,
      "outputs": [
        {
          "output_type": "stream",
          "name": "stdout",
          "text": [
            "34\n",
            "-35\n",
            "34\n",
            "34\n"
          ]
        }
      ]
    },
    {
      "cell_type": "code",
      "source": [
        "import math \n",
        "no1 = 34.6 \n",
        "no2 = -34.6 \n",
        "no3 = 34.5 \n",
        "no4 = 34.2 \n",
        "print(math.ceil(no1)) \n",
        "print(math.ceil(no2)) \n",
        "print(math.ceil(no3)) \n",
        "print(math.ceil(no4))"
      ],
      "metadata": {
        "colab": {
          "base_uri": "https://localhost:8080/"
        },
        "id": "HAWyPXajG0r4",
        "outputId": "e7854bd1-2fc1-447d-dd71-d7e814af2b69"
      },
      "execution_count": null,
      "outputs": [
        {
          "output_type": "stream",
          "name": "stdout",
          "text": [
            "35\n",
            "-34\n",
            "35\n",
            "35\n"
          ]
        }
      ]
    },
    {
      "cell_type": "code",
      "source": [
        "import math \n",
        "no1 = 30 \n",
        "#no2 = -34.6 \n",
        "no3 = 25 \n",
        "no4 = 65 \n",
        "print(math.sqrt(no1)) \n",
        "#print(math.sqrt(no2)) \n",
        "print(math.sqrt(no3)) \n",
        "print(math.sqrt(no4))"
      ],
      "metadata": {
        "colab": {
          "base_uri": "https://localhost:8080/"
        },
        "id": "3QC4Ze_fHT2T",
        "outputId": "67d14d85-ae20-4a6b-f34b-964192634af2"
      },
      "execution_count": null,
      "outputs": [
        {
          "output_type": "stream",
          "name": "stdout",
          "text": [
            "5.477225575051661\n",
            "5.0\n",
            "8.06225774829855\n"
          ]
        }
      ]
    },
    {
      "cell_type": "code",
      "source": [
        "#func - set of instuction with name    ,calling name,using return\n",
        "#loop - set of few instuction without name  ,using break\n",
        "#recursive function - calling a fuction from itself\n",
        "def fact(n):                   \n",
        "  if n ==0:\n",
        "    return 1 \n",
        "  else:\n",
        "    return n * fact(n-1)      \n",
        "\n",
        "print(fact(0))\n",
        "print(fact(5))"
      ],
      "metadata": {
        "id": "RrLDaUAqH331",
        "colab": {
          "base_uri": "https://localhost:8080/"
        },
        "outputId": "63f9c60d-ac4f-4580-fd93-0bd76c42b45b"
      },
      "execution_count": null,
      "outputs": [
        {
          "output_type": "stream",
          "name": "stdout",
          "text": [
            "1\n",
            "120\n"
          ]
        }
      ]
    },
    {
      "cell_type": "code",
      "source": [
        "#file handing in python\n",
        "#text file = .txt, .doc, .pdf\n",
        "#binary files = images, videos, audios"
      ],
      "metadata": {
        "id": "qKyaO0OQFtJ8"
      },
      "execution_count": null,
      "outputs": []
    },
    {
      "cell_type": "code",
      "source": [
        "#format - file = open(filename, mode)\n",
        "#file.close()\n",
        "#textfile mode = r,w,a,r+,w+,a+,x\n",
        "#binaryfile mode = rb,wb,ab,r+b,w+b,a+b,xb\n",
        "#r = readmode, read operation, file pointer will be present at the beging of the file.file is not present--> file not found error, default mode\n",
        "#w = writemode, write opeartion, existing content of the file will be overridden.file is not present-->this will create a new file\n",
        "#a = append, opens an existing file, it wont override existing content, file is not present-->this will create a new file\n",
        "#r+ = read and write data into the file. existing content will not get deleted.\n",
        "#w+ = to the write and read from the file.it will ovwrride existing content\n",
        "#a+ = to append and read from the file.\n",
        "#x = exclusive operation-->if file is alrdy present ,it will through fileExistsError "
      ],
      "metadata": {
        "id": "_lCSmtZqFtG2"
      },
      "execution_count": null,
      "outputs": []
    },
    {
      "cell_type": "code",
      "source": [
        "file = open(r'/content/credentials.txt','w')\n",
        "print('file Name is ',file.name)\n",
        "print('file mode is ',file.mode)\n",
        "print('file property ',file.readable())\n",
        "print('file property ',file.writable())\n",
        "print('file is closed or not ',file.closed)\n",
        "file.close()\n",
        "print('file is closed or not ',file.closed)"
      ],
      "metadata": {
        "colab": {
          "base_uri": "https://localhost:8080/"
        },
        "id": "E-vCNJ0MFtDu",
        "outputId": "6f6a0344-a51b-4477-d5a8-63a656721cb5"
      },
      "execution_count": null,
      "outputs": [
        {
          "output_type": "stream",
          "name": "stdout",
          "text": [
            "file Name is  /content/credentials.txt\n",
            "file mode is  w\n",
            "file property  False\n",
            "file property  True\n",
            "file is closed or not  False\n",
            "file is closed or not  True\n"
          ]
        }
      ]
    },
    {
      "cell_type": "code",
      "source": [
        "file = open(r'/content/credentials.txt','w')\n",
        "file.write('sedhu\\n')\n",
        "file.write('is a\\n')\n",
        "file.write('nice guy\\n')\n",
        "file.close()"
      ],
      "metadata": {
        "id": "4DpN8Yg9M4hF"
      },
      "execution_count": null,
      "outputs": []
    },
    {
      "cell_type": "code",
      "source": [
        "file = open(r'/content/credentials.txt','a')\n",
        "file.write('vicky\\n')\n",
        "file.write('is a\\n')\n",
        "file.write('nice guy\\n')\n",
        "list = ['vikram\\n','vinai\\n','vijay\\n']\n",
        "file.writelines(list)\n",
        "file.close()"
      ],
      "metadata": {
        "id": "WjElc0_CQORI"
      },
      "execution_count": null,
      "outputs": []
    },
    {
      "cell_type": "code",
      "source": [
        "file = open(r'/content/credentials.txt','r')\n",
        "output = file.read()\n",
        "print(output)\n",
        "file.close()"
      ],
      "metadata": {
        "colab": {
          "base_uri": "https://localhost:8080/"
        },
        "id": "iKP1AiwRThDQ",
        "outputId": "c0116c1f-3783-46c6-c070-27841ced94b9"
      },
      "execution_count": null,
      "outputs": [
        {
          "output_type": "stream",
          "name": "stdout",
          "text": [
            "sedhu\n",
            "is a\n",
            "nice guyvicky\n",
            "is a\n",
            "nice guy\n",
            "vicky\n",
            "is a\n",
            "nice guy\n",
            "vikram\n",
            "vinai\n",
            "vijay\n",
            "\n"
          ]
        }
      ]
    },
    {
      "cell_type": "code",
      "source": [
        "file = open(r'/content/credentials.txt','r')\n",
        "output = file.read(5)\n",
        "print(output)\n",
        "file.close()"
      ],
      "metadata": {
        "colab": {
          "base_uri": "https://localhost:8080/"
        },
        "id": "EnwTvu80TrDK",
        "outputId": "6a58231f-ab9c-4701-b52e-2b79882ae8fa"
      },
      "execution_count": null,
      "outputs": [
        {
          "output_type": "stream",
          "name": "stdout",
          "text": [
            "sedhu\n"
          ]
        }
      ]
    },
    {
      "cell_type": "code",
      "source": [
        "file = open(r'/content/credentials.txt','r')\n",
        "output = file.readline()\n",
        "print(output)\n",
        "file.close()"
      ],
      "metadata": {
        "colab": {
          "base_uri": "https://localhost:8080/"
        },
        "id": "eosftlmcT2_M",
        "outputId": "f5b7eb8c-1643-45a2-bb60-201d1cd0f48d"
      },
      "execution_count": null,
      "outputs": [
        {
          "output_type": "stream",
          "name": "stdout",
          "text": [
            "sedhu\n",
            "\n"
          ]
        }
      ]
    },
    {
      "cell_type": "code",
      "source": [
        "file = open(r'/content/credentials.txt','r')\n",
        "output = file.readlines()\n",
        "print(type(output))\n",
        "print(output)\n",
        "words = str(output)\n",
        "print(type(words))\n",
        "file.close()"
      ],
      "metadata": {
        "colab": {
          "base_uri": "https://localhost:8080/"
        },
        "id": "T5Xkx_U9T8Wa",
        "outputId": "183a6a42-3b25-48ef-e443-e4aca0d5e1e3"
      },
      "execution_count": null,
      "outputs": [
        {
          "output_type": "stream",
          "name": "stdout",
          "text": [
            "<class 'list'>\n",
            "['sedhu\\n', 'is a\\n', 'nice guyvicky\\n', 'is a\\n', 'nice guy\\n', 'vicky\\n', 'is a\\n', 'nice guy\\n', 'vikram\\n', 'vinai\\n', 'vijay\\n']\n",
            "<class 'str'>\n"
          ]
        }
      ]
    },
    {
      "cell_type": "code",
      "source": [
        "file = open(r'/content/credentials.txt','r')\n",
        "words = file.readlines()\n",
        "info = ' '.join(words)\n",
        "print(info)\n",
        "file.close()"
      ],
      "metadata": {
        "colab": {
          "base_uri": "https://localhost:8080/"
        },
        "id": "3Ik6GcCbT_n4",
        "outputId": "2c61fce3-ffda-4194-ae89-957ecf4a3048"
      },
      "execution_count": null,
      "outputs": [
        {
          "output_type": "stream",
          "name": "stdout",
          "text": [
            "sedhu\n",
            " is a\n",
            " nice guyvicky\n",
            " is a\n",
            " nice guy\n",
            " vicky\n",
            " is a\n",
            " nice guy\n",
            " vikram\n",
            " vinai\n",
            " vijay\n",
            "\n"
          ]
        }
      ]
    },
    {
      "cell_type": "code",
      "source": [
        "#tell() func to check the curser position\n",
        "#seek() func \n",
        "with open(r'/content/credentials.txt','r')as file:\n",
        "  words = file.readlines()\n",
        "  info = ' '.join(words)\n",
        "  print(info)\n",
        "  file.close()"
      ],
      "metadata": {
        "colab": {
          "base_uri": "https://localhost:8080/"
        },
        "id": "OSyhbxomYjKm",
        "outputId": "85bb78dd-e0e7-4938-e67a-cc38d4be0101"
      },
      "execution_count": null,
      "outputs": [
        {
          "output_type": "stream",
          "name": "stdout",
          "text": [
            "sedhu\n",
            " is a\n",
            " nice guyvicky\n",
            " is a\n",
            " nice guy\n",
            " vicky\n",
            " is a\n",
            " nice guy\n",
            " vikram\n",
            " vinai\n",
            " vijay\n",
            "\n"
          ]
        }
      ]
    },
    {
      "cell_type": "code",
      "source": [
        "import os\n",
        "filename = input('enter the filename')\n",
        "if os.path.isfile(filename):\n",
        "  print('yes, present')\n",
        "  print()\n",
        "  f = open(filename, 'r')\n",
        "  output = f.read()\n",
        "  print(output)\n",
        "  f.close()\n",
        "else:\n",
        "  print('no, not present')  "
      ],
      "metadata": {
        "colab": {
          "base_uri": "https://localhost:8080/"
        },
        "id": "leiKyG3PYjBN",
        "outputId": "77b35c21-eba1-426f-d121-eae17f91b279"
      },
      "execution_count": null,
      "outputs": [
        {
          "output_type": "stream",
          "name": "stdout",
          "text": [
            "enter the filename/content/credentials.txt\n",
            "yes, present\n",
            "sedhu\n",
            "is a\n",
            "nice guyvicky\n",
            "is a\n",
            "nice guy\n",
            "vicky\n",
            "is a\n",
            "nice guy\n",
            "vikram\n",
            "vinai\n",
            "vijay\n",
            "\n"
          ]
        }
      ]
    },
    {
      "cell_type": "code",
      "source": [
        "file1 = open(r'/content/credentials.jpeg','rb')\n",
        "file2 = open(r'/content/credentials.jpeg','wb')\n",
        "data = file1.read()\n",
        "file2.write(data)\n",
        "file1.close()\n",
        "file2.close()"
      ],
      "metadata": {
        "id": "1uL1zRpKdtYR"
      },
      "execution_count": null,
      "outputs": []
    },
    {
      "cell_type": "code",
      "source": [
        "import csv\n",
        "with open('students.csv','w') as f:\n",
        "  w = csv.writer(f)\n",
        "  w.writerow(['name','no','percentage','address'])\n",
        "  while True:\n",
        "    name = input('enter name ')\n",
        "    no = int(input('enter no '))\n",
        "    percentage = int(input('enter percentage '))\n",
        "    address = input('enter address ')\n",
        "    w.writerow([name,no,percentage,address])\n",
        "    option = input('continue? YES | NO ')\n",
        "    if option.lower() == 'no':\n",
        "      break"
      ],
      "metadata": {
        "colab": {
          "base_uri": "https://localhost:8080/"
        },
        "id": "vxDyEDOjJ30c",
        "outputId": "a710bf13-34ae-4b52-a114-b1816e2e790b"
      },
      "execution_count": null,
      "outputs": [
        {
          "name": "stdout",
          "output_type": "stream",
          "text": [
            "enter name sedhu\n",
            "enter no 7\n",
            "enter percentage 90\n",
            "enter address spkovil\n",
            "continue? YES | NO yes\n",
            "enter name vicky\n",
            "enter no 8\n",
            "enter percentage 72\n",
            "enter address mmnagar\n",
            "continue? YES | NO yes\n",
            "enter name sarath\n",
            "enter no 9\n",
            "enter percentage 88\n",
            "enter address spkovil\n",
            "continue? YES | NO no\n"
          ]
        }
      ]
    },
    {
      "cell_type": "code",
      "source": [
        "import csv\n",
        "f = open('students.csv','r')\n",
        "w = csv.writer(f)\n",
        "r = csv.reader(f)\n",
        "print(r)\n",
        "data = list(r)\n",
        "#print(data)\n",
        "for row in data:\n",
        "  print(row)"
      ],
      "metadata": {
        "colab": {
          "base_uri": "https://localhost:8080/"
        },
        "id": "qD4tJf5XLnbB",
        "outputId": "fbcd9495-48f0-4e79-d4ca-f987db575e7b"
      },
      "execution_count": null,
      "outputs": [
        {
          "output_type": "stream",
          "name": "stdout",
          "text": [
            "<_csv.reader object at 0x7fb037240d60>\n",
            "['name', 'no', 'percentage', 'address']\n",
            "['sedhu', '7', '90', 'spkovil']\n",
            "['vicky', '8', '72', 'mmnagar']\n",
            "['sarath', '9', '88', 'spkovil']\n"
          ]
        }
      ]
    },
    {
      "cell_type": "code",
      "source": [
        "#object - real time entitiy, state(sturcture) and behaviour(usage)"
      ],
      "metadata": {
        "id": "eB0KO7mFpNbf"
      },
      "execution_count": null,
      "outputs": []
    },
    {
      "cell_type": "code",
      "source": [
        "#class is a template or blueprint where we are keeping all the function and data members inside"
      ],
      "metadata": {
        "id": "qSy2mxSgEMdc"
      },
      "execution_count": null,
      "outputs": []
    },
    {
      "cell_type": "code",
      "source": [
        "try:\n",
        "  print(10/0)\n",
        "except ZeroDivisionError as msg:\n",
        "  print(type(msg))"
      ],
      "metadata": {
        "colab": {
          "base_uri": "https://localhost:8080/"
        },
        "id": "kO4rvtNMHD70",
        "outputId": "6dffe4be-3d8d-47a8-c97e-88b200762623"
      },
      "execution_count": null,
      "outputs": [
        {
          "output_type": "stream",
          "name": "stdout",
          "text": [
            "<class 'ZeroDivisionError'>\n"
          ]
        }
      ]
    },
    {
      "cell_type": "code",
      "source": [
        "try:\n",
        "  print(10/0)\n",
        "except ZeroDivisionError:\n",
        "  print(100/5) "
      ],
      "metadata": {
        "colab": {
          "base_uri": "https://localhost:8080/"
        },
        "id": "AxjtTngYGzJG",
        "outputId": "1fe9c45f-30aa-4bcb-bad6-61612b50192c"
      },
      "execution_count": null,
      "outputs": [
        {
          "output_type": "stream",
          "name": "stdout",
          "text": [
            "20.0\n"
          ]
        }
      ]
    },
    {
      "cell_type": "code",
      "source": [
        "file = open(r\"/content/pincodes.txt\") \n",
        "#print(file.readline(),end='')\n",
        "for eachline in file:\n",
        "  print(eachline, end='')\n",
        "file.close()"
      ],
      "metadata": {
        "colab": {
          "base_uri": "https://localhost:8080/"
        },
        "id": "o4OWd4KbG_qE",
        "outputId": "71e7afa0-382f-42a4-d3c4-0bff0c812ac8"
      },
      "execution_count": null,
      "outputs": [
        {
          "output_type": "stream",
          "name": "stdout",
          "text": [
            "​Chennai - 600001 \n",
            "Ariyalur - 621001 \n",
            "Madurai - 625001 \n",
            "Tirunelveli - 627001 \n",
            "Coimbatore - 641001 \n",
            "Kanyakumari - 629001 \n",
            "(Other States) \n",
            "Hyderabad - 500001 \n",
            "Mumbai - 400001 \n",
            "Pune - 411001"
          ]
        }
      ]
    },
    {
      "cell_type": "code",
      "source": [
        "try:\n",
        "  file = open(r\"/content/pincodes.txt\") \n",
        "  for each_line in file:\n",
        "     (city, pincode) = each_line.split(\"-\") \n",
        "     print('pincode of ', city, end='')\n",
        "     print('is ', pincode,end='') \n",
        "  file.close()\n",
        "except ValueError as msg:\n",
        "  print(msg)"
      ],
      "metadata": {
        "colab": {
          "base_uri": "https://localhost:8080/"
        },
        "id": "FCXKzF5_K6r9",
        "outputId": "6a60dfa5-6d3c-413e-d77e-8d639723f270"
      },
      "execution_count": null,
      "outputs": [
        {
          "output_type": "stream",
          "name": "stdout",
          "text": [
            "pincode of  ​Chennai is   600001 \n",
            "pincode of  Ariyalur is   621001 \n",
            "pincode of  Madurai is   625001 \n",
            "pincode of  Tirunelveli is   627001 \n",
            "pincode of  Coimbatore is   641001 \n",
            "pincode of  Kanyakumari is   629001 \n",
            "not enough values to unpack (expected 2, got 1)\n"
          ]
        }
      ]
    },
    {
      "cell_type": "code",
      "source": [
        "try:\n",
        " x = int(input(\"Enter no \")) \n",
        " y = int(input(\"Enter no \")) \n",
        " print(x/y) \n",
        "except (ZeroDivisionError, ValueError) as msg:\n",
        "   print(msg)"
      ],
      "metadata": {
        "colab": {
          "base_uri": "https://localhost:8080/"
        },
        "id": "j1bLeU5bNuqT",
        "outputId": "3235ad31-3be3-4306-8e23-3178196d6db1"
      },
      "execution_count": null,
      "outputs": [
        {
          "output_type": "stream",
          "name": "stdout",
          "text": [
            "Enter no 8\n",
            "Enter no 0\n",
            "division by zero\n"
          ]
        }
      ]
    },
    {
      "cell_type": "code",
      "source": [
        "try:\n",
        " x = int(input(\"Enter no \")) \n",
        " y = int(input(\"Enter no \")) \n",
        " print(x/y) \n",
        "except (ZeroDivisionError, ValueError) as msg:\n",
        "   print(msg)"
      ],
      "metadata": {
        "colab": {
          "base_uri": "https://localhost:8080/"
        },
        "id": "Nskx9aj-QTsW",
        "outputId": "d655c6ce-e150-4bf3-b39b-7a618d4bb247"
      },
      "execution_count": null,
      "outputs": [
        {
          "output_type": "stream",
          "name": "stdout",
          "text": [
            "Enter no 8\n",
            "Enter no zero\n",
            "invalid literal for int() with base 10: 'zero'\n"
          ]
        }
      ]
    },
    {
      "cell_type": "code",
      "source": [
        "def get_num():\n",
        "  number = int(input('enter pin number: '))\n",
        "  return number\n",
        "\n",
        "while True:\n",
        "  try:\n",
        "    print(get_num())\n",
        "    option = input('continue? YES | NO: ')\n",
        "    if option.lower() == 'no':\n",
        "      break\n",
        "  except:\n",
        "    print('please enter valid PIN no.')"
      ],
      "metadata": {
        "colab": {
          "base_uri": "https://localhost:8080/"
        },
        "id": "6Q66JEuWURFv",
        "outputId": "21861641-4baa-41d1-9691-a7b73183f058"
      },
      "execution_count": null,
      "outputs": [
        {
          "name": "stdout",
          "output_type": "stream",
          "text": [
            "enter pin number: 1234\n",
            "1234\n",
            "continue? YES | NO: yes\n",
            "enter pin number: 1234\n",
            "1234\n",
            "continue? YES | NO: no\n"
          ]
        }
      ]
    },
    {
      "cell_type": "code",
      "source": [
        "try:\n",
        "  file = open(r\"/content/pincodes.txt\") \n",
        "  for each_line in file:\n",
        "     try:\n",
        "       (city, pincode) = each_line.split(\"-\") \n",
        "       print('pincode of ', city, end='')\n",
        "       print('is ', pincode,end='') \n",
        "     except ValueError:\n",
        "       print('please check split')\n",
        "  file.close()\n",
        "except:\n",
        "  print('please check file location')"
      ],
      "metadata": {
        "colab": {
          "base_uri": "https://localhost:8080/"
        },
        "id": "188I2XRX1wGb",
        "outputId": "480fdb60-90fd-4b6f-fcb4-5c371c3a7696"
      },
      "execution_count": null,
      "outputs": [
        {
          "output_type": "stream",
          "name": "stdout",
          "text": [
            "pincode of  ​Chennai is   600001 \n",
            "pincode of  Ariyalur is   621001 \n",
            "pincode of  Madurai is   625001 \n",
            "pincode of  Tirunelveli is   627001 \n",
            "pincode of  Coimbatore is   641001 \n",
            "pincode of  Kanyakumari is   629001 \n",
            "please check split\n",
            "pincode of  Hyderabad is   500001 \n",
            "pincode of  Mumbai is   400001 \n",
            "pincode of  Pune is   411001"
          ]
        }
      ]
    },
    {
      "cell_type": "code",
      "source": [
        "#default except should be at last\n",
        "try:\n",
        "   x = int(input(\"Enter no \")) \n",
        "   y = int(input(\"Enter no \")) #0, ten \n",
        "   print(x/y) \n",
        "except ZeroDivisionError:\n",
        "   print(\"Please check y value \")\n",
        "except ValueError:\n",
        "   print(\"Please enter valid number\") \n",
        "except:\n",
        "   print(\"Something went wrong\")"
      ],
      "metadata": {
        "colab": {
          "base_uri": "https://localhost:8080/"
        },
        "id": "27Gn67Is1wC8",
        "outputId": "68bce968-85c9-4582-e386-e8a9bdf51519"
      },
      "execution_count": null,
      "outputs": [
        {
          "output_type": "stream",
          "name": "stdout",
          "text": [
            "Enter no 5\n",
            "Enter no 10\n",
            "0.5\n"
          ]
        }
      ]
    },
    {
      "cell_type": "code",
      "source": [
        "#finally executes always\n",
        "try:\n",
        "   x = int(input(\"Enter no \")) \n",
        "   y = int(input(\"Enter no \")) #0, ten \n",
        "   print(x/y) \n",
        "except ZeroDivisionError:\n",
        "   print(\"Please check y value \")\n",
        "finally:\n",
        "  print('check')"
      ],
      "metadata": {
        "colab": {
          "base_uri": "https://localhost:8080/"
        },
        "id": "44jMEdAp1v6U",
        "outputId": "24ce21d5-d645-4b7a-bb23-f1083f901457"
      },
      "execution_count": null,
      "outputs": [
        {
          "output_type": "stream",
          "name": "stdout",
          "text": [
            "Enter no 10\n",
            "Enter no 5\n",
            "2.0\n"
          ]
        }
      ]
    },
    {
      "cell_type": "code",
      "source": [],
      "metadata": {
        "id": "NauKvumvsojH"
      },
      "execution_count": null,
      "outputs": []
    }
  ]
}